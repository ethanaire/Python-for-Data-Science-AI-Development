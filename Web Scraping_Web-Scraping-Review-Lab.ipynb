{
 "cells": [
  {
   "cell_type": "markdown",
   "id": "76a04e25-ae4f-4d78-b342-2a0197511ea6",
   "metadata": {},
   "source": [
    "# **Web Scraping Lab**\n"
   ]
  },
  {
   "cell_type": "markdown",
   "id": "93c3de1d-e860-4592-9dee-59a14167989d",
   "metadata": {},
   "source": [
    "Estimated time needed: **40** minutes\n"
   ]
  },
  {
   "cell_type": "markdown",
   "id": "5dae311e-39e9-4e67-9e9a-054c21910f7e",
   "metadata": {},
   "source": [
    "## Objectives\n"
   ]
  },
  {
   "cell_type": "markdown",
   "id": "31d9f62a-0252-4190-82ff-514d5d48243b",
   "metadata": {},
   "source": [
    "After completing this lab you will be:\n",
    "\n",
    "*   Familiar with the basics of the `BeautifulSoup` Python library\n",
    "*   Be able to scrape webpages for data and filter the data\n"
   ]
  },
  {
   "cell_type": "markdown",
   "id": "e95300a2-3276-4d2c-a74f-530fe615b0d8",
   "metadata": {},
   "source": [
    "<h2>Table of Contents</h2>\n",
    "<div class=\"alert alert-block alert-info\" style=\"margin-top: 20px\">\n",
    "    <ul>\n",
    "        <li>\n",
    "            <a href=\"#Beautiful-Soup-Object\">Beautiful Soup Object</a>\n",
    "            <ul>\n",
    "                <li><a href=\"#Tags\">Tags</a></li>\n",
    "                <li><a href=\"#Children,-Parents,-and-Siblings\">Children, Parents, and Siblings</a></li>\n",
    "                <li><a href=\"#HTML-Attributes\">HTML Attributes</a></li>\n",
    "                <li><a href=\"#Navigable-String\">Navigable String</a></li>\n",
    "            </ul>\n",
    "        </li>\n",
    "     </ul>\n",
    "    <ul>\n",
    "        <li>\n",
    "            <a href=\"#Filter\">Filter</a>\n",
    "            <ul>\n",
    "                <li><a href=\"#find_All\">find_All</a></li>\n",
    "                <li><a href=\"#find\">find</a></li>\n",
    "            </ul>\n",
    "        </li>\n",
    "     </ul>\n",
    "     <ul>\n",
    "        <li>\n",
    "            <a href=\"#Downloading-And-Scraping-The-Contents-Of-A-Web-Page\">Downloading And Scraping The Contents Of A Web Page</a></li>\n",
    "         <li> <a href=\"#Scraping-tables-from-a-Web-page-using-Pandas\">Scraping tables from a Web page using Pandas</a></li>\n",
    "    </ul>\n",
    "\n",
    "</div>\n",
    "\n",
    "<hr>\n"
   ]
  },
  {
   "cell_type": "markdown",
   "id": "6c827db0-2d8f-4957-83bb-69f9935b8f18",
   "metadata": {},
   "source": [
    "For this lab, we are going to be using Python and several Python libraries. Some of these libraries might be installed in your lab environment or in SN Labs. Others may need to be installed by you. The cells below will install these libraries when executed.\n"
   ]
  },
  {
   "cell_type": "code",
   "execution_count": 5,
   "id": "0428d96e-71b6-45df-8bbd-842728086594",
   "metadata": {},
   "outputs": [
    {
     "name": "stdout",
     "output_type": "stream",
     "text": [
      "Collecting html5lib\n",
      "  Downloading html5lib-1.1-py2.py3-none-any.whl (112 kB)\n",
      "     ------------------------------------ 112.2/112.2 kB 815.5 kB/s eta 0:00:00\n",
      "Requirement already satisfied: six>=1.9 in c:\\users\\haiho\\appdata\\local\\packages\\pythonsoftwarefoundation.python.3.9_qbz5n2kfra8p0\\localcache\\local-packages\\python39\\site-packages (from html5lib) (1.16.0)\n",
      "Requirement already satisfied: webencodings in c:\\users\\haiho\\appdata\\local\\packages\\pythonsoftwarefoundation.python.3.9_qbz5n2kfra8p0\\localcache\\local-packages\\python39\\site-packages (from html5lib) (0.5.1)\n",
      "Installing collected packages: html5lib\n",
      "Successfully installed html5lib-1.1\n",
      "Note: you may need to restart the kernel to use updated packages.\n"
     ]
    },
    {
     "name": "stderr",
     "output_type": "stream",
     "text": [
      "\n",
      "[notice] A new release of pip available: 22.2.2 -> 24.3.1\n",
      "[notice] To update, run: C:\\Users\\haiho\\AppData\\Local\\Microsoft\\WindowsApps\\PythonSoftwareFoundation.Python.3.9_qbz5n2kfra8p0\\python.exe -m pip install --upgrade pip\n"
     ]
    }
   ],
   "source": [
    "pip install html5lib"
   ]
  },
  {
   "cell_type": "markdown",
   "id": "1f24c9f9-86d2-428c-ab81-bf54f083f9ca",
   "metadata": {},
   "source": [
    "**Note:- After running the above code cell, restart the kernel and don't run the above code cell after restarting the kernel.**\n"
   ]
  },
  {
   "cell_type": "code",
   "execution_count": 10,
   "metadata": {},
   "outputs": [
    {
     "name": "stdout",
     "output_type": "stream",
     "text": [
      "Collecting bs4\n",
      "  Using cached bs4-0.0.2-py2.py3-none-any.whl (1.2 kB)\n",
      "Requirement already satisfied: beautifulsoup4 in c:\\users\\haiho\\appdata\\local\\packages\\pythonsoftwarefoundation.python.3.9_qbz5n2kfra8p0\\localcache\\local-packages\\python39\\site-packages (from bs4) (4.11.1)\n",
      "Requirement already satisfied: soupsieve>1.2 in c:\\users\\haiho\\appdata\\local\\packages\\pythonsoftwarefoundation.python.3.9_qbz5n2kfra8p0\\localcache\\local-packages\\python39\\site-packages (from beautifulsoup4->bs4) (2.3.2.post1)\n",
      "Installing collected packages: bs4\n",
      "Successfully installed bs4-0.0.2\n",
      "Note: you may need to restart the kernel to use updated packages.\n"
     ]
    },
    {
     "name": "stderr",
     "output_type": "stream",
     "text": [
      "\n",
      "[notice] A new release of pip available: 22.2.2 -> 24.3.1\n",
      "[notice] To update, run: C:\\Users\\haiho\\AppData\\Local\\Microsoft\\WindowsApps\\PythonSoftwareFoundation.Python.3.9_qbz5n2kfra8p0\\python.exe -m pip install --upgrade pip\n"
     ]
    }
   ],
   "source": [
    "pip install bs4"
   ]
  },
  {
   "cell_type": "code",
   "execution_count": 11,
   "metadata": {},
   "outputs": [
    {
     "name": "stdout",
     "output_type": "stream",
     "text": [
      "Requirement already satisfied: requests in c:\\users\\haiho\\appdata\\local\\packages\\pythonsoftwarefoundation.python.3.9_qbz5n2kfra8p0\\localcache\\local-packages\\python39\\site-packages (2.31.0)Note: you may need to restart the kernel to use updated packages.\n",
      "Requirement already satisfied: idna<4,>=2.5 in c:\\users\\haiho\\appdata\\local\\packages\\pythonsoftwarefoundation.python.3.9_qbz5n2kfra8p0\\localcache\\local-packages\\python39\\site-packages (from requests) (3.4)\n",
      "Requirement already satisfied: urllib3<3,>=1.21.1 in c:\\users\\haiho\\appdata\\local\\packages\\pythonsoftwarefoundation.python.3.9_qbz5n2kfra8p0\\localcache\\local-packages\\python39\\site-packages (from requests) (1.26.12)\n"
     ]
    },
    {
     "name": "stderr",
     "output_type": "stream",
     "text": [
      "\n",
      "[notice] A new release of pip available: 22.2.2 -> 24.3.1\n",
      "[notice] To update, run: C:\\Users\\haiho\\AppData\\Local\\Microsoft\\WindowsApps\\PythonSoftwareFoundation.Python.3.9_qbz5n2kfra8p0\\python.exe -m pip install --upgrade pip\n"
     ]
    },
    {
     "name": "stdout",
     "output_type": "stream",
     "text": [
      "\n",
      "Requirement already satisfied: charset-normalizer<4,>=2 in c:\\users\\haiho\\appdata\\local\\packages\\pythonsoftwarefoundation.python.3.9_qbz5n2kfra8p0\\localcache\\local-packages\\python39\\site-packages (from requests) (2.1.1)\n",
      "Requirement already satisfied: certifi>=2017.4.17 in c:\\users\\haiho\\appdata\\local\\packages\\pythonsoftwarefoundation.python.3.9_qbz5n2kfra8p0\\localcache\\local-packages\\python39\\site-packages (from requests) (2023.11.17)\n"
     ]
    }
   ],
   "source": [
    "pip install requests"
   ]
  },
  {
   "cell_type": "markdown",
   "id": "d4d5da7f-e04d-49da-a6a2-1d2406e2426c",
   "metadata": {},
   "source": [
    "Import the required modules and functions\n"
   ]
  },
  {
   "cell_type": "code",
   "execution_count": 1,
   "id": "c91808fa-4e9a-43d8-8786-2b55e504fe83",
   "metadata": {},
   "outputs": [],
   "source": [
    "from bs4 import BeautifulSoup # this module helps in web scrapping.\n",
    "import requests  # this module helps us to download a web page"
   ]
  },
  {
   "cell_type": "markdown",
   "id": "cd501e03-9401-4e9b-955e-ab77abadb5b3",
   "metadata": {},
   "source": [
    "## Beautiful Soup Object\n"
   ]
  },
  {
   "cell_type": "markdown",
   "id": "206ee994-c30d-489b-b23f-6594696d69c4",
   "metadata": {},
   "source": [
    "Beautiful Soup is a Python library for pulling data out of HTML and XML files, we will focus on HTML files. This is accomplished by representing the HTML as a set of objects with methods used to parse the HTML.  We can navigate the HTML as a tree, and/or filter out what we are looking for.\n",
    "\n",
    "Consider the following HTML:\n"
   ]
  },
  {
   "cell_type": "code",
   "execution_count": 2,
   "id": "7e810b0d-614d-433e-891e-957a69b69c78",
   "metadata": {},
   "outputs": [
    {
     "data": {
      "text/html": [
       "<!DOCTYPE html>\n",
       "<html>\n",
       "<head>\n",
       "<title>Page Title</title>\n",
       "</head>\n",
       "<body>\n",
       "<h3><b id='boldest'>Lebron James</b></h3>\n",
       "<p> Salary: $ 92,000,000 </p>\n",
       "<h3> Stephen Curry</h3>\n",
       "<p> Salary: $85,000, 000 </p>\n",
       "<h3> Kevin Durant </h3>\n",
       "<p> Salary: $73,200, 000</p>\n",
       "</body>\n",
       "</html>\n"
      ],
      "text/plain": [
       "<IPython.core.display.HTML object>"
      ]
     },
     "metadata": {},
     "output_type": "display_data"
    }
   ],
   "source": [
    "%%html\n",
    "<!DOCTYPE html>\n",
    "<html>\n",
    "<head>\n",
    "<title>Page Title</title>\n",
    "</head>\n",
    "<body>\n",
    "<h3><b id='boldest'>Lebron James</b></h3>\n",
    "<p> Salary: $ 92,000,000 </p>\n",
    "<h3> Stephen Curry</h3>\n",
    "<p> Salary: $85,000, 000 </p>\n",
    "<h3> Kevin Durant </h3>\n",
    "<p> Salary: $73,200, 000</p>\n",
    "</body>\n",
    "</html>"
   ]
  },
  {
   "cell_type": "markdown",
   "id": "1da3a0d5-0905-42db-842b-c69763deb13c",
   "metadata": {},
   "source": [
    "We can store it as a string in the variable HTML:\n"
   ]
  },
  {
   "cell_type": "code",
   "execution_count": 3,
   "id": "e92f7643-15ea-4f8a-8e02-bb54a81041ad",
   "metadata": {},
   "outputs": [],
   "source": [
    "html=\"<!DOCTYPE html><html><head><title>Page Title</title></head><body><h3><b id='boldest'>Lebron James</b></h3><p> Salary: $ 92,000,000 </p><h3> Stephen Curry</h3><p> Salary: $85,000, 000 </p><h3> Kevin Durant </h3><p> Salary: $73,200, 000</p></body></html>\""
   ]
  },
  {
   "cell_type": "markdown",
   "id": "de177f38-15f1-431c-8d11-36113ad6690f",
   "metadata": {},
   "source": [
    "To parse a document, pass it into the <code>BeautifulSoup</code> constructor. The <code>BeautifulSoup</code> object represents the document as a nested data structure:\n"
   ]
  },
  {
   "cell_type": "code",
   "execution_count": 14,
   "id": "aa18d377-2b5c-4452-bf84-b61e653f6e8b",
   "metadata": {},
   "outputs": [],
   "source": [
    "soup = BeautifulSoup(html, 'html.parser')"
   ]
  },
  {
   "cell_type": "markdown",
   "id": "8dc8d60e-1f03-4260-906c-2dd0484e357d",
   "metadata": {},
   "source": [
    "First, the document is converted to Unicode (similar to ASCII) and HTML entities are converted to Unicode characters. Beautiful Soup transforms a complex HTML document into a complex tree of Python objects. The <code>BeautifulSoup</code> object can create other types of objects. In this lab, we will cover <code>BeautifulSoup</code> and <code>Tag</code> objects, that for the purposes of this lab are identical. Finally, we will look at <code>NavigableString</code> objects.\n"
   ]
  },
  {
   "cell_type": "markdown",
   "id": "c16679d4-fa8c-42a3-a490-39c5477f6886",
   "metadata": {},
   "source": [
    "We can use the method <code>prettify()</code> to display the HTML in the nested structure:\n"
   ]
  },
  {
   "cell_type": "code",
   "execution_count": 15,
   "id": "a08cff02-80d3-4107-9454-b21770756ec4",
   "metadata": {},
   "outputs": [
    {
     "name": "stdout",
     "output_type": "stream",
     "text": [
      "<!DOCTYPE html>\n",
      "<html>\n",
      " <head>\n",
      "  <title>\n",
      "   Page Title\n",
      "  </title>\n",
      " </head>\n",
      " <body>\n",
      "  <h3>\n",
      "   <b id=\"boldest\">\n",
      "    Lebron James\n",
      "   </b>\n",
      "  </h3>\n",
      "  <p>\n",
      "   Salary: $ 92,000,000\n",
      "  </p>\n",
      "  <h3>\n",
      "   Stephen Curry\n",
      "  </h3>\n",
      "  <p>\n",
      "   Salary: $85,000, 000\n",
      "  </p>\n",
      "  <h3>\n",
      "   Kevin Durant\n",
      "  </h3>\n",
      "  <p>\n",
      "   Salary: $73,200, 000\n",
      "  </p>\n",
      " </body>\n",
      "</html>\n"
     ]
    }
   ],
   "source": [
    "print(soup.prettify())"
   ]
  },
  {
   "cell_type": "markdown",
   "id": "78259c87-f479-4aed-a35e-6e442a1c7377",
   "metadata": {},
   "source": [
    "## Tags\n"
   ]
  },
  {
   "cell_type": "markdown",
   "id": "c65fef1c-2345-4b78-a7b8-33bcc5feb312",
   "metadata": {},
   "source": [
    "Let's say we want the  title of the page and the name of the top paid player. We can use the <code>Tag</code>. The <code>Tag</code> object corresponds to an HTML tag in the original document, for example, the tag title.\n"
   ]
  },
  {
   "cell_type": "code",
   "execution_count": 16,
   "id": "22043cc8-2059-4512-bb30-e83f0a2ad3d0",
   "metadata": {},
   "outputs": [
    {
     "name": "stdout",
     "output_type": "stream",
     "text": [
      "tag object: <title>Page Title</title>\n"
     ]
    }
   ],
   "source": [
    "tag_object=soup.title\n",
    "print(\"tag object:\",tag_object)"
   ]
  },
  {
   "cell_type": "markdown",
   "id": "bef2e51e-a5a3-452b-8c1e-bb500ffe1d65",
   "metadata": {},
   "source": [
    "we can see the tag type <code>bs4.element.Tag</code>\n"
   ]
  },
  {
   "cell_type": "code",
   "execution_count": 17,
   "id": "30cedc94-e258-4da8-82e1-08de13e5104b",
   "metadata": {},
   "outputs": [
    {
     "name": "stdout",
     "output_type": "stream",
     "text": [
      "tag object type: <class 'bs4.element.Tag'>\n"
     ]
    }
   ],
   "source": [
    "print(\"tag object type:\",type(tag_object))"
   ]
  },
  {
   "cell_type": "markdown",
   "id": "f125ff93-4d10-47a1-b853-cfcf593f8ff6",
   "metadata": {},
   "source": [
    "If there is more than one <code>Tag</code> with the same name, the first element with that <code>Tag</code> name is called. This corresponds to the most paid player:\n"
   ]
  },
  {
   "cell_type": "code",
   "execution_count": 18,
   "id": "bbbf01e9-7518-49ca-bfcd-9247f76be188",
   "metadata": {},
   "outputs": [
    {
     "data": {
      "text/plain": [
       "<h3><b id=\"boldest\">Lebron James</b></h3>"
      ]
     },
     "execution_count": 18,
     "metadata": {},
     "output_type": "execute_result"
    }
   ],
   "source": [
    "tag_object=soup.h3\n",
    "tag_object"
   ]
  },
  {
   "cell_type": "markdown",
   "id": "c6834365-e3aa-4d59-967a-919b3eab39b8",
   "metadata": {},
   "source": [
    "Enclosed in the bold attribute <code>b</code>, it helps to use the tree representation. We can navigate down the tree using the child attribute to get the name.\n"
   ]
  },
  {
   "cell_type": "markdown",
   "id": "a2f99c47-22f2-4d23-b44a-084797d0de61",
   "metadata": {},
   "source": [
    "### Children, Parents, and Siblings\n"
   ]
  },
  {
   "cell_type": "markdown",
   "id": "95aa8115-e51c-4a70-8912-de6e45adc50c",
   "metadata": {},
   "source": [
    "As stated above, the <code>Tag</code> object is a tree of objects. We can access the child of the tag or navigate down the branch as follows:\n"
   ]
  },
  {
   "cell_type": "code",
   "execution_count": 19,
   "id": "437cc21f-34b8-438a-b1a2-d321ddc90ddc",
   "metadata": {},
   "outputs": [
    {
     "data": {
      "text/plain": [
       "<b id=\"boldest\">Lebron James</b>"
      ]
     },
     "execution_count": 19,
     "metadata": {},
     "output_type": "execute_result"
    }
   ],
   "source": [
    "tag_child =tag_object.b\n",
    "tag_child"
   ]
  },
  {
   "cell_type": "markdown",
   "id": "cb3039ad-7e29-4200-9c7f-a4bb0d491f3a",
   "metadata": {},
   "source": [
    "You can access the parent with the <code> parent</code>.\n"
   ]
  },
  {
   "cell_type": "code",
   "execution_count": 20,
   "id": "3577e9f0-1d58-4735-902e-4f4ec13732d0",
   "metadata": {},
   "outputs": [
    {
     "data": {
      "text/plain": [
       "<h3><b id=\"boldest\">Lebron James</b></h3>"
      ]
     },
     "execution_count": 20,
     "metadata": {},
     "output_type": "execute_result"
    }
   ],
   "source": [
    "parent_tag=tag_child.parent\n",
    "parent_tag"
   ]
  },
  {
   "cell_type": "markdown",
   "id": "ad242a4a-06a5-4a8d-961c-099e8a2b8ae6",
   "metadata": {},
   "source": [
    "this is identical to:\n"
   ]
  },
  {
   "cell_type": "code",
   "execution_count": 21,
   "id": "ee267842-01ec-448d-9f38-4e1426001575",
   "metadata": {},
   "outputs": [
    {
     "data": {
      "text/plain": [
       "<h3><b id=\"boldest\">Lebron James</b></h3>"
      ]
     },
     "execution_count": 21,
     "metadata": {},
     "output_type": "execute_result"
    }
   ],
   "source": [
    "tag_object"
   ]
  },
  {
   "cell_type": "markdown",
   "id": "0a5828cd-f962-48ed-8e61-a49f05f358f3",
   "metadata": {},
   "source": [
    "<code>tag_object</code> parent is the <code>body</code> element.\n"
   ]
  },
  {
   "cell_type": "code",
   "execution_count": 22,
   "id": "00755a73-02ae-483f-90ad-88d4bb82d779",
   "metadata": {},
   "outputs": [
    {
     "data": {
      "text/plain": [
       "<body><h3><b id=\"boldest\">Lebron James</b></h3><p> Salary: $ 92,000,000 </p><h3> Stephen Curry</h3><p> Salary: $85,000, 000 </p><h3> Kevin Durant </h3><p> Salary: $73,200, 000</p></body>"
      ]
     },
     "execution_count": 22,
     "metadata": {},
     "output_type": "execute_result"
    }
   ],
   "source": [
    "tag_object.parent"
   ]
  },
  {
   "cell_type": "markdown",
   "id": "783efde9-e42b-4262-b996-1dbb128a0533",
   "metadata": {},
   "source": [
    "<code>tag_object</code> sibling is the <code>paragraph</code> element.\n"
   ]
  },
  {
   "cell_type": "code",
   "execution_count": 23,
   "id": "fc246920-2197-41cc-ae6e-80ee1d19f336",
   "metadata": {},
   "outputs": [
    {
     "data": {
      "text/plain": [
       "<p> Salary: $ 92,000,000 </p>"
      ]
     },
     "execution_count": 23,
     "metadata": {},
     "output_type": "execute_result"
    }
   ],
   "source": [
    "sibling_1=tag_object.next_sibling\n",
    "sibling_1"
   ]
  },
  {
   "cell_type": "markdown",
   "id": "ad43649b-6c29-4eae-a9fd-c103bc1dba2a",
   "metadata": {},
   "source": [
    "`sibling_2` is the `header` element, which is also a sibling of both `sibling_1` and `tag_object`\n"
   ]
  },
  {
   "cell_type": "code",
   "execution_count": 24,
   "id": "68b4f9fa-3322-4296-9b77-67656346f72c",
   "metadata": {},
   "outputs": [
    {
     "data": {
      "text/plain": [
       "<h3> Stephen Curry</h3>"
      ]
     },
     "execution_count": 24,
     "metadata": {},
     "output_type": "execute_result"
    }
   ],
   "source": [
    "sibling_2=sibling_1.next_sibling\n",
    "sibling_2"
   ]
  },
  {
   "cell_type": "markdown",
   "id": "2385f2cc-869e-4ee6-8de7-5aef7bd09198",
   "metadata": {},
   "source": [
    "<h3 id=\"first_question\">Exercise: <code>next_sibling</code></h3>\n"
   ]
  },
  {
   "cell_type": "markdown",
   "id": "c139e030-51cd-4583-bb12-f3bc515b554a",
   "metadata": {},
   "source": [
    "Use the object <code>sibling\\_2</code> and the method <code>next_sibling</code> to find the salary of Stephen Curry:\n"
   ]
  },
  {
   "cell_type": "code",
   "execution_count": 26,
   "id": "59854658-f103-474b-93af-f1ad42ce3a61",
   "metadata": {},
   "outputs": [
    {
     "data": {
      "text/plain": [
       "<p> Salary: $85,000, 000 </p>"
      ]
     },
     "execution_count": 26,
     "metadata": {},
     "output_type": "execute_result"
    }
   ],
   "source": [
    "sibling_2.next_sibling"
   ]
  },
  {
   "cell_type": "markdown",
   "id": "c42a04c3-3d8a-48d1-b182-66450f8701ff",
   "metadata": {},
   "source": [
    "### HTML Attributes\n"
   ]
  },
  {
   "cell_type": "markdown",
   "id": "95545613-a8cf-4799-8384-3bd232ab59cd",
   "metadata": {},
   "source": [
    "If the tag has attributes, the tag <code>id=\"boldest\"</code> has an attribute <code>id</code> whose value is <code>boldest</code>. You can access a tag's attributes by treating the tag like a dictionary:\n"
   ]
  },
  {
   "cell_type": "code",
   "execution_count": 27,
   "id": "2bb697aa-ba5b-4220-ac9c-d2ea22aa8a01",
   "metadata": {},
   "outputs": [
    {
     "data": {
      "text/plain": [
       "'boldest'"
      ]
     },
     "execution_count": 27,
     "metadata": {},
     "output_type": "execute_result"
    }
   ],
   "source": [
    "tag_child['id']"
   ]
  },
  {
   "cell_type": "markdown",
   "id": "2afb4d01-5040-4464-913a-b220b666a3c7",
   "metadata": {},
   "source": [
    "You can access that dictionary directly as <code>attrs</code>:\n"
   ]
  },
  {
   "cell_type": "code",
   "execution_count": 28,
   "id": "baf7f1b1-ecc3-45bf-98cb-cacc2166d542",
   "metadata": {},
   "outputs": [
    {
     "data": {
      "text/plain": [
       "{'id': 'boldest'}"
      ]
     },
     "execution_count": 28,
     "metadata": {},
     "output_type": "execute_result"
    }
   ],
   "source": [
    "tag_child.attrs"
   ]
  },
  {
   "cell_type": "markdown",
   "id": "081b9bb6-e6ab-43b0-84c0-9e2542581b08",
   "metadata": {},
   "source": [
    "You can also work with Multi-valued attributes. Check out <a href=\"https://www.crummy.com/software/BeautifulSoup/bs4/doc/?utm_medium=Exinfluencer&utm_source=Exinfluencer&utm_content=000026UJ&utm_term=10006555&utm_id=NA-SkillsNetwork-Channel-SkillsNetworkCoursesIBMDeveloperSkillsNetworkPY0101ENSkillsNetwork19487395-2021-01-01\">\\[1]</a> for more.\n"
   ]
  },
  {
   "cell_type": "markdown",
   "id": "5bcb61d1-c63f-4f47-b975-f920ccd12e65",
   "metadata": {},
   "source": [
    "We can also obtain the content of the attribute of the <code>tag</code> using the Python <code>get()</code> method.\n"
   ]
  },
  {
   "cell_type": "code",
   "execution_count": 29,
   "id": "993017b9-e3a3-4eae-8d0c-02ce3f5787d4",
   "metadata": {},
   "outputs": [
    {
     "data": {
      "text/plain": [
       "'boldest'"
      ]
     },
     "execution_count": 29,
     "metadata": {},
     "output_type": "execute_result"
    }
   ],
   "source": [
    "tag_child.get('id')"
   ]
  },
  {
   "cell_type": "markdown",
   "id": "7166293e-6803-48a8-8163-a5892443b1ae",
   "metadata": {},
   "source": [
    "### Navigable String\n"
   ]
  },
  {
   "cell_type": "markdown",
   "id": "7e630937-96f5-4359-b668-8174232993ad",
   "metadata": {},
   "source": [
    "A string corresponds to a bit of text or content within a tag. Beautiful Soup uses the <code>NavigableString</code> class to contain this text. In our HTML we can obtain the name of the first player by extracting the string of the <code>Tag</code> object <code>tag_child</code> as follows:\n"
   ]
  },
  {
   "cell_type": "code",
   "execution_count": 30,
   "id": "74a820e3-8f27-4e0f-891c-da37e63884c3",
   "metadata": {},
   "outputs": [
    {
     "data": {
      "text/plain": [
       "'Lebron James'"
      ]
     },
     "execution_count": 30,
     "metadata": {},
     "output_type": "execute_result"
    }
   ],
   "source": [
    "tag_string=tag_child.string\n",
    "tag_string"
   ]
  },
  {
   "cell_type": "markdown",
   "id": "d573ea8c-6937-42ca-ac7f-c70505d200a7",
   "metadata": {},
   "source": [
    "we can verify the type is Navigable String\n"
   ]
  },
  {
   "cell_type": "code",
   "execution_count": 31,
   "id": "ca55c077-6c1c-45b8-8c9a-f81aaa95d3b1",
   "metadata": {},
   "outputs": [
    {
     "data": {
      "text/plain": [
       "bs4.element.NavigableString"
      ]
     },
     "execution_count": 31,
     "metadata": {},
     "output_type": "execute_result"
    }
   ],
   "source": [
    "type(tag_string)"
   ]
  },
  {
   "cell_type": "markdown",
   "id": "03020fee-6a50-4f78-a460-934414330961",
   "metadata": {},
   "source": [
    "A NavigableString is similar to a Python string or Unicode string. To be more precise, the main difference is that it also supports some <code>BeautifulSoup</code> features. We can convert it to string object in Python:\n"
   ]
  },
  {
   "cell_type": "code",
   "execution_count": 32,
   "id": "cb523ce9-2522-48a5-890c-5d92f1f78240",
   "metadata": {},
   "outputs": [
    {
     "data": {
      "text/plain": [
       "'Lebron James'"
      ]
     },
     "execution_count": 32,
     "metadata": {},
     "output_type": "execute_result"
    }
   ],
   "source": [
    "unicode_string = str(tag_string)\n",
    "unicode_string"
   ]
  },
  {
   "cell_type": "markdown",
   "id": "122f5c28-d2ba-49b0-94ea-d90610c44177",
   "metadata": {},
   "source": [
    "## Filter\n"
   ]
  },
  {
   "cell_type": "markdown",
   "id": "d42cf065-d0ad-4124-8b94-a8fae600b0d4",
   "metadata": {},
   "source": [
    "Filters allow you to find complex patterns, the simplest filter is a string. In this section we will pass a string to a different filter method and Beautiful Soup will perform a match against that exact string. Consider the following HTML of rocket launches:\n"
   ]
  },
  {
   "cell_type": "code",
   "execution_count": 33,
   "id": "04bee9fb-1446-481b-9661-7440554d4074",
   "metadata": {},
   "outputs": [
    {
     "data": {
      "text/html": [
       "<table>\n",
       "  <tr>\n",
       "    <td id='flight' >Flight No</td>\n",
       "    <td>Launch site</td> \n",
       "    <td>Payload mass</td>\n",
       "   </tr>\n",
       "  <tr> \n",
       "    <td>1</td>\n",
       "    <td><a href='https://en.wikipedia.org/wiki/Florida'>Florida</a></td>\n",
       "    <td>300 kg</td>\n",
       "  </tr>\n",
       "  <tr>\n",
       "    <td>2</td>\n",
       "    <td><a href='https://en.wikipedia.org/wiki/Texas'>Texas</a></td>\n",
       "    <td>94 kg</td>\n",
       "  </tr>\n",
       "  <tr>\n",
       "    <td>3</td>\n",
       "    <td><a href='https://en.wikipedia.org/wiki/Florida'>Florida<a> </td>\n",
       "    <td>80 kg</td>\n",
       "  </tr>\n",
       "</table>\n"
      ],
      "text/plain": [
       "<IPython.core.display.HTML object>"
      ]
     },
     "metadata": {},
     "output_type": "display_data"
    }
   ],
   "source": [
    "%%html\n",
    "<table>\n",
    "  <tr>\n",
    "    <td id='flight' >Flight No</td>\n",
    "    <td>Launch site</td> \n",
    "    <td>Payload mass</td>\n",
    "   </tr>\n",
    "  <tr> \n",
    "    <td>1</td>\n",
    "    <td><a href='https://en.wikipedia.org/wiki/Florida'>Florida</a></td>\n",
    "    <td>300 kg</td>\n",
    "  </tr>\n",
    "  <tr>\n",
    "    <td>2</td>\n",
    "    <td><a href='https://en.wikipedia.org/wiki/Texas'>Texas</a></td>\n",
    "    <td>94 kg</td>\n",
    "  </tr>\n",
    "  <tr>\n",
    "    <td>3</td>\n",
    "    <td><a href='https://en.wikipedia.org/wiki/Florida'>Florida<a> </td>\n",
    "    <td>80 kg</td>\n",
    "  </tr>\n",
    "</table>"
   ]
  },
  {
   "cell_type": "markdown",
   "id": "3c3a7012-5433-4ce1-a7d0-f52abbb50482",
   "metadata": {},
   "source": [
    "We can store it as a string in the variable <code>table</code>:\n"
   ]
  },
  {
   "cell_type": "code",
   "execution_count": 34,
   "id": "b7dac682-3e5c-458a-b0fe-fd8abe6b64b5",
   "metadata": {},
   "outputs": [],
   "source": [
    "table=\"<table><tr><td id='flight'>Flight No</td><td>Launch site</td> <td>Payload mass</td></tr><tr> <td>1</td><td><a href='https://en.wikipedia.org/wiki/Florida'>Florida<a></td><td>300 kg</td></tr><tr><td>2</td><td><a href='https://en.wikipedia.org/wiki/Texas'>Texas</a></td><td>94 kg</td></tr><tr><td>3</td><td><a href='https://en.wikipedia.org/wiki/Florida'>Florida<a> </td><td>80 kg</td></tr></table>\""
   ]
  },
  {
   "cell_type": "code",
   "execution_count": 36,
   "id": "cf406046-5be5-4025-bf87-436eb366e21b",
   "metadata": {},
   "outputs": [],
   "source": [
    "table_bs = BeautifulSoup(table, 'html.parser')"
   ]
  },
  {
   "cell_type": "markdown",
   "id": "e7176649-ae82-444c-a4b7-f87d6731fb3c",
   "metadata": {},
   "source": [
    "## find_All\n"
   ]
  },
  {
   "cell_type": "markdown",
   "id": "763f0eb5-4abd-48b1-8f7d-0362da7cfa27",
   "metadata": {},
   "source": [
    "The <code>find_all()</code> method looks through a tag's descendants and retrieves all descendants that match your filters.\n",
    "\n",
    "<p>\n",
    "The Method signature for <code>find_all(name, attrs, recursive, string, limit, **kwargs)<c/ode>\n",
    "</p>\n"
   ]
  },
  {
   "cell_type": "markdown",
   "id": "2b1b490e-58d0-4e7e-a345-83525ba130c7",
   "metadata": {},
   "source": [
    "### Name\n"
   ]
  },
  {
   "cell_type": "markdown",
   "id": "4704ef45-47f5-48ef-a2dc-a3c711e65423",
   "metadata": {},
   "source": [
    "When we set the <code>name</code> parameter to a tag name, the method will extract all the tags with that name and its children.\n"
   ]
  },
  {
   "cell_type": "code",
   "execution_count": 37,
   "id": "e2793cd7-9833-46a0-a3d0-7fcb3324b489",
   "metadata": {},
   "outputs": [
    {
     "data": {
      "text/plain": [
       "[<tr><td id=\"flight\">Flight No</td><td>Launch site</td> <td>Payload mass</td></tr>,\n",
       " <tr> <td>1</td><td><a href=\"https://en.wikipedia.org/wiki/Florida\">Florida<a></a></a></td><td>300 kg</td></tr>,\n",
       " <tr><td>2</td><td><a href=\"https://en.wikipedia.org/wiki/Texas\">Texas</a></td><td>94 kg</td></tr>,\n",
       " <tr><td>3</td><td><a href=\"https://en.wikipedia.org/wiki/Florida\">Florida<a> </a></a></td><td>80 kg</td></tr>]"
      ]
     },
     "execution_count": 37,
     "metadata": {},
     "output_type": "execute_result"
    }
   ],
   "source": [
    "table_rows=table_bs.find_all('tr')\n",
    "table_rows"
   ]
  },
  {
   "cell_type": "markdown",
   "id": "3040b3c5-f69f-4a17-8f57-78248d38fd47",
   "metadata": {},
   "source": [
    "The result is a Python iterable just like a list, each element is a <code>tag</code> object:\n"
   ]
  },
  {
   "cell_type": "code",
   "execution_count": 38,
   "id": "80ef402c-323b-4334-8052-90cfc7c3e2df",
   "metadata": {},
   "outputs": [
    {
     "data": {
      "text/plain": [
       "<tr><td id=\"flight\">Flight No</td><td>Launch site</td> <td>Payload mass</td></tr>"
      ]
     },
     "execution_count": 38,
     "metadata": {},
     "output_type": "execute_result"
    }
   ],
   "source": [
    "first_row =table_rows[0]\n",
    "first_row"
   ]
  },
  {
   "cell_type": "markdown",
   "id": "85f7d547-ca41-4690-bac1-3fc12caed447",
   "metadata": {},
   "source": [
    "The type is <code>tag</code>\n"
   ]
  },
  {
   "cell_type": "code",
   "execution_count": 39,
   "id": "1092f8e2-be14-49da-8e91-9d4950a0adeb",
   "metadata": {},
   "outputs": [
    {
     "name": "stdout",
     "output_type": "stream",
     "text": [
      "<class 'bs4.element.Tag'>\n"
     ]
    }
   ],
   "source": [
    "print(type(first_row))"
   ]
  },
  {
   "cell_type": "markdown",
   "id": "d9dc1fd9-8ca1-405a-8ace-b1d78129cc0c",
   "metadata": {},
   "source": [
    "we can obtain the child\n"
   ]
  },
  {
   "cell_type": "code",
   "execution_count": 40,
   "id": "cdb0caab-eb13-4bf3-82fa-83518e8671f1",
   "metadata": {},
   "outputs": [
    {
     "data": {
      "text/plain": [
       "<td id=\"flight\">Flight No</td>"
      ]
     },
     "execution_count": 40,
     "metadata": {},
     "output_type": "execute_result"
    }
   ],
   "source": [
    "first_row.td"
   ]
  },
  {
   "cell_type": "markdown",
   "id": "2d229567-721d-4fff-8bfc-1fdd69211f38",
   "metadata": {},
   "source": [
    "If we iterate through the list, each element corresponds to a row in the table:\n"
   ]
  },
  {
   "cell_type": "code",
   "execution_count": 41,
   "id": "f00cc0d6-e600-4e01-b1c5-795ee1b67804",
   "metadata": {},
   "outputs": [
    {
     "name": "stdout",
     "output_type": "stream",
     "text": [
      "row 0 is <tr><td id=\"flight\">Flight No</td><td>Launch site</td> <td>Payload mass</td></tr>\n",
      "row 1 is <tr> <td>1</td><td><a href=\"https://en.wikipedia.org/wiki/Florida\">Florida<a></a></a></td><td>300 kg</td></tr>\n",
      "row 2 is <tr><td>2</td><td><a href=\"https://en.wikipedia.org/wiki/Texas\">Texas</a></td><td>94 kg</td></tr>\n",
      "row 3 is <tr><td>3</td><td><a href=\"https://en.wikipedia.org/wiki/Florida\">Florida<a> </a></a></td><td>80 kg</td></tr>\n"
     ]
    }
   ],
   "source": [
    "for i,row in enumerate(table_rows):\n",
    "    print(\"row\",i,\"is\",row)"
   ]
  },
  {
   "cell_type": "markdown",
   "id": "5ebf6cb5-652f-47ed-ac9e-6a52f0270bbc",
   "metadata": {},
   "source": [
    "As <code>row</code> is a <code>cell</code> object, we can apply the method <code>find_all</code> to it and extract table cells in the object <code>cells</code> using the tag <code>td</code>, this is all the children with the name <code>td</code>. The result is a list, each element corresponds to a cell and is a <code>Tag</code> object, we can iterate through this list as well. We can extract the content using the <code>string</code> attribute.\n"
   ]
  },
  {
   "cell_type": "code",
   "execution_count": 42,
   "id": "32878dff-acd7-4e85-a3ee-0450f691df0f",
   "metadata": {},
   "outputs": [
    {
     "name": "stdout",
     "output_type": "stream",
     "text": [
      "row 0\n",
      "colunm 0 cell <td id=\"flight\">Flight No</td>\n",
      "colunm 1 cell <td>Launch site</td>\n",
      "colunm 2 cell <td>Payload mass</td>\n",
      "row 1\n",
      "colunm 0 cell <td>1</td>\n",
      "colunm 1 cell <td><a href=\"https://en.wikipedia.org/wiki/Florida\">Florida<a></a></a></td>\n",
      "colunm 2 cell <td>300 kg</td>\n",
      "row 2\n",
      "colunm 0 cell <td>2</td>\n",
      "colunm 1 cell <td><a href=\"https://en.wikipedia.org/wiki/Texas\">Texas</a></td>\n",
      "colunm 2 cell <td>94 kg</td>\n",
      "row 3\n",
      "colunm 0 cell <td>3</td>\n",
      "colunm 1 cell <td><a href=\"https://en.wikipedia.org/wiki/Florida\">Florida<a> </a></a></td>\n",
      "colunm 2 cell <td>80 kg</td>\n"
     ]
    }
   ],
   "source": [
    "for i,row in enumerate(table_rows):\n",
    "    print(\"row\",i)\n",
    "    cells=row.find_all('td')\n",
    "    for j,cell in enumerate(cells):\n",
    "        print('colunm',j,\"cell\",cell)"
   ]
  },
  {
   "cell_type": "markdown",
   "id": "22e56f75-3cdf-4df7-a617-b65df9c9a380",
   "metadata": {},
   "source": [
    "If we use a list we can match against any item in that list.\n"
   ]
  },
  {
   "cell_type": "code",
   "execution_count": 43,
   "id": "d77c24bd-d9dd-4c48-ada7-995c7888765c",
   "metadata": {},
   "outputs": [
    {
     "data": {
      "text/plain": [
       "[<tr><td id=\"flight\">Flight No</td><td>Launch site</td> <td>Payload mass</td></tr>,\n",
       " <td id=\"flight\">Flight No</td>,\n",
       " <td>Launch site</td>,\n",
       " <td>Payload mass</td>,\n",
       " <tr> <td>1</td><td><a href=\"https://en.wikipedia.org/wiki/Florida\">Florida<a></a></a></td><td>300 kg</td></tr>,\n",
       " <td>1</td>,\n",
       " <td><a href=\"https://en.wikipedia.org/wiki/Florida\">Florida<a></a></a></td>,\n",
       " <td>300 kg</td>,\n",
       " <tr><td>2</td><td><a href=\"https://en.wikipedia.org/wiki/Texas\">Texas</a></td><td>94 kg</td></tr>,\n",
       " <td>2</td>,\n",
       " <td><a href=\"https://en.wikipedia.org/wiki/Texas\">Texas</a></td>,\n",
       " <td>94 kg</td>,\n",
       " <tr><td>3</td><td><a href=\"https://en.wikipedia.org/wiki/Florida\">Florida<a> </a></a></td><td>80 kg</td></tr>,\n",
       " <td>3</td>,\n",
       " <td><a href=\"https://en.wikipedia.org/wiki/Florida\">Florida<a> </a></a></td>,\n",
       " <td>80 kg</td>]"
      ]
     },
     "execution_count": 43,
     "metadata": {},
     "output_type": "execute_result"
    }
   ],
   "source": [
    "list_input=table_bs.find_all(name=[\"tr\", \"td\"])\n",
    "list_input"
   ]
  },
  {
   "cell_type": "markdown",
   "id": "3d19ed0d-e1e5-495b-97d4-39873d91577f",
   "metadata": {},
   "source": [
    "### Attributes\n"
   ]
  },
  {
   "cell_type": "markdown",
   "id": "f1a2b1d2-daac-48a3-b27f-710ac1db020d",
   "metadata": {},
   "source": [
    "If the argument is not recognized it will be turned into a filter on the tag's attributes. For example with the <code>id</code> argument, Beautiful Soup will filter against each tag's <code>id</code> attribute. For example, the first <code>td</code> elements have a value of <code>id</code> of <code>flight</code>, therefore we can filter based on that <code>id</code> value.\n"
   ]
  },
  {
   "cell_type": "code",
   "execution_count": 44,
   "id": "432269b4-4247-4a57-be16-d5ffb5a1df84",
   "metadata": {},
   "outputs": [
    {
     "data": {
      "text/plain": [
       "[<td id=\"flight\">Flight No</td>]"
      ]
     },
     "execution_count": 44,
     "metadata": {},
     "output_type": "execute_result"
    }
   ],
   "source": [
    "table_bs.find_all(id=\"flight\")"
   ]
  },
  {
   "cell_type": "markdown",
   "id": "f085cd43-7b3b-40f0-b3db-21a852c6fe75",
   "metadata": {},
   "source": [
    "We can find all the elements that have links to the Florida Wikipedia page:\n"
   ]
  },
  {
   "cell_type": "code",
   "execution_count": 45,
   "id": "570b298c-b955-4ffa-9f62-f4325b59a69b",
   "metadata": {},
   "outputs": [
    {
     "data": {
      "text/plain": [
       "[<a href=\"https://en.wikipedia.org/wiki/Florida\">Florida<a></a></a>,\n",
       " <a href=\"https://en.wikipedia.org/wiki/Florida\">Florida<a> </a></a>]"
      ]
     },
     "execution_count": 45,
     "metadata": {},
     "output_type": "execute_result"
    }
   ],
   "source": [
    "list_input=table_bs.find_all(href=\"https://en.wikipedia.org/wiki/Florida\")\n",
    "list_input"
   ]
  },
  {
   "cell_type": "markdown",
   "id": "c0a1cdd5-8e06-420f-9ecb-a966e164d2ad",
   "metadata": {},
   "source": [
    "If we set the <code>href</code> attribute to True, regardless of what the value is, the code finds all tags with <code>href</code> value:\n"
   ]
  },
  {
   "cell_type": "code",
   "execution_count": 46,
   "id": "7947bc41-1d2d-46a3-bf74-d15289a167b6",
   "metadata": {},
   "outputs": [
    {
     "data": {
      "text/plain": [
       "[<a href=\"https://en.wikipedia.org/wiki/Florida\">Florida<a></a></a>,\n",
       " <a href=\"https://en.wikipedia.org/wiki/Texas\">Texas</a>,\n",
       " <a href=\"https://en.wikipedia.org/wiki/Florida\">Florida<a> </a></a>]"
      ]
     },
     "execution_count": 46,
     "metadata": {},
     "output_type": "execute_result"
    }
   ],
   "source": [
    "table_bs.find_all(href=True)"
   ]
  },
  {
   "cell_type": "markdown",
   "id": "86fa22e9-f94b-400d-b37c-d04b9f9985ed",
   "metadata": {},
   "source": [
    "There are other methods for dealing with attributes and other related methods. Check out the following <a href='https://www.crummy.com/software/BeautifulSoup/bs4/doc/?utm_medium=Exinfluencer&utm_source=Exinfluencer&utm_content=000026UJ&utm_term=10006555&utm_id=NA-SkillsNetwork-Channel-SkillsNetworkCoursesIBMDeveloperSkillsNetworkPY0101ENSkillsNetwork19487395-2021-01-01#css-selectors'>link</a>\n"
   ]
  },
  {
   "cell_type": "markdown",
   "id": "0e2a5300-23ec-42e1-b09e-525cd48415c9",
   "metadata": {},
   "source": [
    "<h3 id=\"exer_type\">Exercise: <code>find_all</code></h3>\n"
   ]
  },
  {
   "cell_type": "markdown",
   "id": "b7889a6d-4809-470b-b3c5-9666988efe5e",
   "metadata": {},
   "source": [
    "Using the logic above, find all the elements without <code>href</code> value\n"
   ]
  },
  {
   "cell_type": "code",
   "execution_count": 47,
   "id": "1b9d3f37-6aac-4126-bca5-cff78e5675f4",
   "metadata": {},
   "outputs": [
    {
     "data": {
      "text/plain": [
       "[<table><tr><td id=\"flight\">Flight No</td><td>Launch site</td> <td>Payload mass</td></tr><tr> <td>1</td><td><a href=\"https://en.wikipedia.org/wiki/Florida\">Florida<a></a></a></td><td>300 kg</td></tr><tr><td>2</td><td><a href=\"https://en.wikipedia.org/wiki/Texas\">Texas</a></td><td>94 kg</td></tr><tr><td>3</td><td><a href=\"https://en.wikipedia.org/wiki/Florida\">Florida<a> </a></a></td><td>80 kg</td></tr></table>,\n",
       " <tr><td id=\"flight\">Flight No</td><td>Launch site</td> <td>Payload mass</td></tr>,\n",
       " <td id=\"flight\">Flight No</td>,\n",
       " <td>Launch site</td>,\n",
       " <td>Payload mass</td>,\n",
       " <tr> <td>1</td><td><a href=\"https://en.wikipedia.org/wiki/Florida\">Florida<a></a></a></td><td>300 kg</td></tr>,\n",
       " <td>1</td>,\n",
       " <td><a href=\"https://en.wikipedia.org/wiki/Florida\">Florida<a></a></a></td>,\n",
       " <a></a>,\n",
       " <td>300 kg</td>,\n",
       " <tr><td>2</td><td><a href=\"https://en.wikipedia.org/wiki/Texas\">Texas</a></td><td>94 kg</td></tr>,\n",
       " <td>2</td>,\n",
       " <td><a href=\"https://en.wikipedia.org/wiki/Texas\">Texas</a></td>,\n",
       " <td>94 kg</td>,\n",
       " <tr><td>3</td><td><a href=\"https://en.wikipedia.org/wiki/Florida\">Florida<a> </a></a></td><td>80 kg</td></tr>,\n",
       " <td>3</td>,\n",
       " <td><a href=\"https://en.wikipedia.org/wiki/Florida\">Florida<a> </a></a></td>,\n",
       " <a> </a>,\n",
       " <td>80 kg</td>]"
      ]
     },
     "execution_count": 47,
     "metadata": {},
     "output_type": "execute_result"
    }
   ],
   "source": [
    "table_bs.find_all(href=False)"
   ]
  },
  {
   "cell_type": "markdown",
   "id": "869dd3e9-7d29-433f-a0f8-005ee08544d0",
   "metadata": {},
   "source": [
    "Using the soup object <code>soup</code>, find the element with the <code>id</code> attribute content set to <code>\"boldest\"</code>.\n"
   ]
  },
  {
   "cell_type": "code",
   "execution_count": 48,
   "id": "9c4ee6f5-5666-43fd-a1c7-3176e3844756",
   "metadata": {},
   "outputs": [
    {
     "data": {
      "text/plain": [
       "[<b id=\"boldest\">Lebron James</b>]"
      ]
     },
     "execution_count": 48,
     "metadata": {},
     "output_type": "execute_result"
    }
   ],
   "source": [
    "soup.find_all(id=\"boldest\")"
   ]
  },
  {
   "cell_type": "markdown",
   "id": "0c3aa704-ca52-4b44-9bb9-ccaac281ef13",
   "metadata": {},
   "source": [
    "### string\n"
   ]
  },
  {
   "cell_type": "markdown",
   "id": "e1c9539d-9c2b-431e-ad5f-3de52e0dfb51",
   "metadata": {},
   "source": [
    "With string you can search for strings instead of tags, where we find all the elments with Florida:\n"
   ]
  },
  {
   "cell_type": "code",
   "execution_count": 51,
   "id": "15b8dc84-e072-42ba-acdf-48784551f80e",
   "metadata": {},
   "outputs": [
    {
     "data": {
      "text/plain": [
       "['Florida', 'Florida']"
      ]
     },
     "execution_count": 51,
     "metadata": {},
     "output_type": "execute_result"
    }
   ],
   "source": [
    "table_bs.find_all(string=\"Florida\")"
   ]
  },
  {
   "cell_type": "markdown",
   "id": "eb92da7f-8a50-4a09-8ccf-b5009aa834c0",
   "metadata": {},
   "source": [
    "## find\n"
   ]
  },
  {
   "cell_type": "markdown",
   "id": "711c8beb-cdef-4326-8305-b35f4f8ad5c0",
   "metadata": {},
   "source": [
    "The <code>find_all()</code> method scans the entire document looking for results. It’s useful if you are looking for one element, as you can use the <code>find()</code> method to find the first element in the document. Consider the following two tables:\n"
   ]
  },
  {
   "cell_type": "code",
   "execution_count": 52,
   "id": "ec8f4a51-d74b-404a-8ce2-3e92d8a678dd",
   "metadata": {},
   "outputs": [
    {
     "data": {
      "text/html": [
       "<h3>Rocket Launch </h3>\n",
       "\n",
       "<p>\n",
       "<table class='rocket'>\n",
       "  <tr>\n",
       "    <td>Flight No</td>\n",
       "    <td>Launch site</td> \n",
       "    <td>Payload mass</td>\n",
       "  </tr>\n",
       "  <tr>\n",
       "    <td>1</td>\n",
       "    <td>Florida</td>\n",
       "    <td>300 kg</td>\n",
       "  </tr>\n",
       "  <tr>\n",
       "    <td>2</td>\n",
       "    <td>Texas</td>\n",
       "    <td>94 kg</td>\n",
       "  </tr>\n",
       "  <tr>\n",
       "    <td>3</td>\n",
       "    <td>Florida </td>\n",
       "    <td>80 kg</td>\n",
       "  </tr>\n",
       "</table>\n",
       "</p>\n",
       "<p>\n",
       "\n",
       "<h3>Pizza Party  </h3>\n",
       "  \n",
       "    \n",
       "<table class='pizza'>\n",
       "  <tr>\n",
       "    <td>Pizza Place</td>\n",
       "    <td>Orders</td> \n",
       "    <td>Slices </td>\n",
       "   </tr>\n",
       "  <tr>\n",
       "    <td>Domino's Pizza</td>\n",
       "    <td>10</td>\n",
       "    <td>100</td>\n",
       "  </tr>\n",
       "  <tr>\n",
       "    <td>Little Caesars</td>\n",
       "    <td>12</td>\n",
       "    <td >144 </td>\n",
       "  </tr>\n",
       "  <tr>\n",
       "    <td>Papa John's </td>\n",
       "    <td>15 </td>\n",
       "    <td>165</td>\n",
       "  </tr>\n"
      ],
      "text/plain": [
       "<IPython.core.display.HTML object>"
      ]
     },
     "metadata": {},
     "output_type": "display_data"
    }
   ],
   "source": [
    "%%html\n",
    "<h3>Rocket Launch </h3>\n",
    "\n",
    "<p>\n",
    "<table class='rocket'>\n",
    "  <tr>\n",
    "    <td>Flight No</td>\n",
    "    <td>Launch site</td> \n",
    "    <td>Payload mass</td>\n",
    "  </tr>\n",
    "  <tr>\n",
    "    <td>1</td>\n",
    "    <td>Florida</td>\n",
    "    <td>300 kg</td>\n",
    "  </tr>\n",
    "  <tr>\n",
    "    <td>2</td>\n",
    "    <td>Texas</td>\n",
    "    <td>94 kg</td>\n",
    "  </tr>\n",
    "  <tr>\n",
    "    <td>3</td>\n",
    "    <td>Florida </td>\n",
    "    <td>80 kg</td>\n",
    "  </tr>\n",
    "</table>\n",
    "</p>\n",
    "<p>\n",
    "\n",
    "<h3>Pizza Party  </h3>\n",
    "  \n",
    "    \n",
    "<table class='pizza'>\n",
    "  <tr>\n",
    "    <td>Pizza Place</td>\n",
    "    <td>Orders</td> \n",
    "    <td>Slices </td>\n",
    "   </tr>\n",
    "  <tr>\n",
    "    <td>Domino's Pizza</td>\n",
    "    <td>10</td>\n",
    "    <td>100</td>\n",
    "  </tr>\n",
    "  <tr>\n",
    "    <td>Little Caesars</td>\n",
    "    <td>12</td>\n",
    "    <td >144 </td>\n",
    "  </tr>\n",
    "  <tr>\n",
    "    <td>Papa John's </td>\n",
    "    <td>15 </td>\n",
    "    <td>165</td>\n",
    "  </tr>\n"
   ]
  },
  {
   "cell_type": "markdown",
   "id": "26358b0e-3241-4ea9-a5f0-1f2b94ba3f33",
   "metadata": {},
   "source": [
    "We store the HTML as a Python string and assign <code>two_tables</code>:\n"
   ]
  },
  {
   "cell_type": "code",
   "execution_count": 53,
   "id": "a4dde735-8119-4414-8826-e9102a4ce7bf",
   "metadata": {},
   "outputs": [],
   "source": [
    "two_tables=\"<h3>Rocket Launch </h3><p><table class='rocket'><tr><td>Flight No</td><td>Launch site</td> <td>Payload mass</td></tr><tr><td>1</td><td>Florida</td><td>300 kg</td></tr><tr><td>2</td><td>Texas</td><td>94 kg</td></tr><tr><td>3</td><td>Florida </td><td>80 kg</td></tr></table></p><p><h3>Pizza Party  </h3><table class='pizza'><tr><td>Pizza Place</td><td>Orders</td> <td>Slices </td></tr><tr><td>Domino's Pizza</td><td>10</td><td>100</td></tr><tr><td>Little Caesars</td><td>12</td><td >144 </td></tr><tr><td>Papa John's </td><td>15 </td><td>165</td></tr>\""
   ]
  },
  {
   "cell_type": "markdown",
   "id": "c48c1237-3d32-47c5-aac6-b871c4248ea1",
   "metadata": {},
   "source": [
    "We create a <code>BeautifulSoup</code> object  <code>two_tables_bs</code>\n"
   ]
  },
  {
   "cell_type": "code",
   "execution_count": 54,
   "id": "dce81816-e1ba-43f6-be38-bb2da850519c",
   "metadata": {},
   "outputs": [],
   "source": [
    "two_tables_bs= BeautifulSoup(two_tables, 'html.parser')"
   ]
  },
  {
   "cell_type": "markdown",
   "id": "bcfab311-1452-4047-ac00-727c5822f014",
   "metadata": {},
   "source": [
    "We can find the first table using the tag name table\n"
   ]
  },
  {
   "cell_type": "code",
   "execution_count": 55,
   "id": "5163611b-1c85-4dd2-9755-60a425f49aba",
   "metadata": {},
   "outputs": [
    {
     "data": {
      "text/plain": [
       "<table class=\"rocket\"><tr><td>Flight No</td><td>Launch site</td> <td>Payload mass</td></tr><tr><td>1</td><td>Florida</td><td>300 kg</td></tr><tr><td>2</td><td>Texas</td><td>94 kg</td></tr><tr><td>3</td><td>Florida </td><td>80 kg</td></tr></table>"
      ]
     },
     "execution_count": 55,
     "metadata": {},
     "output_type": "execute_result"
    }
   ],
   "source": [
    "two_tables_bs.find(\"table\")"
   ]
  },
  {
   "cell_type": "markdown",
   "id": "9d3f2f1b-1c95-448b-8d6d-9983dd674999",
   "metadata": {},
   "source": [
    "We can filter on the class attribute to find the second table, but because class is a keyword in Python, we add an underscore to differentiate them.\n"
   ]
  },
  {
   "cell_type": "code",
   "execution_count": 56,
   "id": "bd13ff13-15e4-43e2-ab9d-5568712c1dc4",
   "metadata": {},
   "outputs": [
    {
     "data": {
      "text/plain": [
       "<table class=\"pizza\"><tr><td>Pizza Place</td><td>Orders</td> <td>Slices </td></tr><tr><td>Domino's Pizza</td><td>10</td><td>100</td></tr><tr><td>Little Caesars</td><td>12</td><td>144 </td></tr><tr><td>Papa John's </td><td>15 </td><td>165</td></tr></table>"
      ]
     },
     "execution_count": 56,
     "metadata": {},
     "output_type": "execute_result"
    }
   ],
   "source": [
    "two_tables_bs.find(\"table\",class_='pizza')"
   ]
  },
  {
   "cell_type": "markdown",
   "id": "12927e50-5660-4013-a33b-3778f1003cd8",
   "metadata": {},
   "source": [
    "<h2 id=\"DSCW\">Downloading And Scraping The Contents Of A Web Page</h2> \n"
   ]
  },
  {
   "cell_type": "markdown",
   "id": "cac77901-1b9a-48f2-a31e-f179554fbc3d",
   "metadata": {},
   "source": [
    "We Download the contents of the web page:\n"
   ]
  },
  {
   "cell_type": "code",
   "execution_count": 57,
   "id": "adcc5a78-5630-4c8d-99c4-37f33f22cb9e",
   "metadata": {},
   "outputs": [],
   "source": [
    "url = \"http://www.ibm.com\""
   ]
  },
  {
   "cell_type": "markdown",
   "id": "463f59ff-96b0-4e20-9922-9938241fefc3",
   "metadata": {},
   "source": [
    "We use <code>get</code> to download the contents of the webpage in text format and store in a variable called <code>data</code>:\n"
   ]
  },
  {
   "cell_type": "code",
   "execution_count": 58,
   "id": "e6eede6c-20b7-46aa-8b86-1f5aa21f3871",
   "metadata": {},
   "outputs": [],
   "source": [
    "data  = requests.get(url).text "
   ]
  },
  {
   "cell_type": "markdown",
   "id": "36e5214f-9b54-458d-96da-116e50a3808f",
   "metadata": {},
   "source": [
    "We create a <code>BeautifulSoup</code> object using the <code>BeautifulSoup</code> constructor\n"
   ]
  },
  {
   "cell_type": "code",
   "execution_count": 59,
   "id": "1e492a03-f519-4458-8f45-3581d99b93be",
   "metadata": {},
   "outputs": [],
   "source": [
    "soup = BeautifulSoup(data,\"html.parser\")  # create a soup object using the variable 'data'"
   ]
  },
  {
   "cell_type": "code",
   "execution_count": 63,
   "metadata": {},
   "outputs": [
    {
     "name": "stdout",
     "output_type": "stream",
     "text": [
      "<!DOCTYPE HTML>\n",
      "<html lang=\"en\">\n",
      " <head>\n",
      "  <meta charset=\"utf-8\"/>\n",
      "  <meta content=\"en\" name=\"languageCode\"/>\n",
      "  <meta content=\"us\" name=\"countryCode\"/>\n",
      "  <meta content=\"IBM - United States\" name=\"searchTitle\"/>\n",
      "  <meta content=\"Cross IBM - All\" name=\"focusArea\"/>\n",
      "  <title>\n",
      "   IBM - United States\n",
      "  </title>\n",
      "  <script data-routing=\"program=131558,environment=1281329,tier=publish\" defer=\"defer\" src=\"https://rum.hlx.page/.rum/@adobe/helix-rum-js@%5E2/dist/rum-standalone.js\" type=\"text/javascript\">\n",
      "  </script>\n",
      "  <link href=\"/content/dam/adobe-cms/default-images/favicon.svg\" rel=\"icon\"/>\n",
      "  <meta content=\"For more than a century, IBM has been a global technology innovator, leading advances in AI, automation and hybrid cloud solutions that help businesses grow.\" name=\"description\"/>\n",
      "  <meta content=\"full-width-layout\" name=\"template\"/>\n",
      "  <meta content=\"width=device-width, initial-scale=1\" name=\"viewport\"/>\n",
      "  <meta content=\"index, follow, max-image-preview:large\" name=\"robots\"/>\n",
      "  <link href=\"https://www.ibm.com/\" rel=\"canonical\"/>\n",
      "  <script type=\"text/javascript\">\n",
      "   !function(e, a, n, t) {\n",
      "              var i = e.head;\n",
      "              if (i) {\n",
      "                  if (a) return;\n",
      "                  var o = e.createElement(\"style\");\n",
      "                  o.id = \"alloy-prehiding\", o.innerText = n, i.appendChild(o),\n",
      "                      setTimeout(function() {\n",
      "                          o.parentNode && o.parentNode.removeChild(o)\n",
      "                      }, t)\n",
      "              }\n",
      "          }\n",
      "          (document, document.location.href.indexOf(\"adobe_authoring_enabled\") !== -1, \"body { opacity: 0 !important }\", 3000);\n",
      "  </script>\n",
      "  <script async=\"async\" src=\"https://assets.adobedtm.com/0f2de1d5b89a/565c2aeb0d39/launch-560e54b3e83c.min.js\" type=\"text/javascript\">\n",
      "  </script>\n",
      "  <script async=\"async\" type=\"text/javascript\">\n",
      "   var adobeDataLayer = window.adobeDataLayer || [];\n",
      "  </script>\n",
      "  <script type=\"text/javascript\">\n",
      "   window.searchKey = {\n",
      "            templateName: 'full\\u002Dwidth\\u002Dlayout',\n",
      "            taxonomylist: 'taxonomy : Brands \\/ IBM',\n",
      "            L0Tag: 'Topics,Brands,Industries,Geography,Compliance Entities,Products,Events,Computer Languages,Content Format,Series,Content Type,CMaaS Focus Areas,brands,Deployment Types,Product Types,Search Index,Unified Taxonomy',\n",
      "        }\n",
      "  </script>\n",
      "  <link href=\"https://www.ibm.com/sa-ar\" hreflang=\"ar-sa\" rel=\"alternate\"/>\n",
      "  <link href=\"https://www.ibm.com/de-de\" hreflang=\"de-de\" rel=\"alternate\"/>\n",
      "  <link href=\"https://www.ibm.com/\" hreflang=\"en-us\" rel=\"alternate\"/>\n",
      "  <link href=\"https://www.ibm.com/ca-en\" hreflang=\"en-ca\" rel=\"alternate\"/>\n",
      "  <link href=\"https://www.ibm.com/kr-ko\" hreflang=\"ko-kr\" rel=\"alternate\"/>\n",
      "  <link href=\"https://www.ibm.com/br-pt\" hreflang=\"pt-br\" rel=\"alternate\"/>\n",
      "  <link href=\"https://www.ibm.com/in-en\" hreflang=\"en-in\" rel=\"alternate\"/>\n",
      "  <link href=\"https://www.ibm.com/es-es\" hreflang=\"es-es\" rel=\"alternate\"/>\n",
      "  <link href=\"https://www.ibm.com/cn-zh\" hreflang=\"zh-cn\" rel=\"alternate\"/>\n",
      "  <link href=\"https://www.ibm.com/mx-es\" hreflang=\"es-mx\" rel=\"alternate\"/>\n",
      "  <link href=\"https://www.ibm.com/ca-fr\" hreflang=\"fr-ca\" rel=\"alternate\"/>\n",
      "  <link href=\"https://www.ibm.com/it-it\" hreflang=\"it-it\" rel=\"alternate\"/>\n",
      "  <link href=\"https://www.ibm.com/id-id\" hreflang=\"id-id\" rel=\"alternate\"/>\n",
      "  <link href=\"https://www.ibm.com/au-en\" hreflang=\"en-au\" rel=\"alternate\"/>\n",
      "  <link href=\"https://www.ibm.com/uk-en\" hreflang=\"en-uk\" rel=\"alternate\"/>\n",
      "  <link href=\"https://www.ibm.com/fr-fr\" hreflang=\"fr-fr\" rel=\"alternate\"/>\n",
      "  <link href=\"https://www.ibm.com/jp-ja\" hreflang=\"ja-jp\" rel=\"alternate\"/>\n",
      "  <script type=\"text/javascript\">\n",
      "   var languageCode = document.getElementsByName('languageCode')[0].content;\n",
      "        var countryCode = document.getElementsByName('countryCode')[0].content;\n",
      "        var focusArea = document.getElementsByName('focusArea')[0].content;\n",
      "        /* Define digital data object based on _appInfo object */\n",
      "          window._ibmAnalytics = {\n",
      "              settings: {\n",
      "                 name: \"AEM Sites\",\n",
      "                 tealiumProfileName: \"aem-sites\"\n",
      "              },\n",
      "           };\n",
      "        window.digitalData = {\n",
      "            page: {\n",
      "                category: {\n",
      "                    primaryCategory: '',\n",
      "                },\n",
      "                pageInfo: {\n",
      "                    language: languageCode + '-' + countryCode,\n",
      "                    ibm: {\n",
      "                        siteID: 'MarketingAEM',\n",
      "                        country: countryCode,\n",
      "                        messaging: {\n",
      "                            routing: {\n",
      "                                focusArea: focusArea,\n",
      "                                languageCode: languageCode,\n",
      "                                regionCode: countryCode\n",
      "                            },\n",
      "                            translation: {\n",
      "                                languageCode: languageCode,\n",
      "                                regionCode: countryCode\n",
      "                            }\n",
      "                        },\n",
      "                        sections: 0,\n",
      "                        patterns: 0,\n",
      "                    },\n",
      "                    carbon: {\n",
      "                        '@carbon/web-components': 'v1.47.1',\n",
      "                        '@carbon/ibmdotcom-web-components': 'v1.51.1',\n",
      "                        'carbon-for-aem': 'v0.19.0',\n",
      "                    },\n",
      "                },\n",
      "            },\n",
      "        };\n",
      "  </script>\n",
      "  <!-- Instana script specific to Dev environment start -->\n",
      "  <!--      <script>\n",
      "          (function(s,t,a,n){s[t]||(s[t]=a,n=s[a]=function(){n.q.push(arguments)},\n",
      "          n.q=[],n.v=2,n.l=1*new Date)})(window,\"InstanaEumObject\",\"ineum\");\n",
      "\n",
      "          ineum('reportingUrl', 'https://eum-orange-saas.instana.io');\n",
      "          ineum('key', 'mFJnYtpBSiCKl9zenWHXtg');\n",
      "          ineum('trackSessions');\n",
      "      </script>\n",
      "      <script defer crossorigin=\"anonymous\" src=https://eum.instana.io/1.7.2/eum.min.js\n",
      "              integrity=\"sha384-cgeSlevgebehPauohUhsnAeBrpjXzaj94mSv3L2EXjCQH0RRb9xSQ2ErGOWkthIJ\"></script>-->\n",
      "  <!-- Instana script specific to Dev environment end -->\n",
      "  <meta content=\"https://www.ibm.com/\" property=\"og:url\"/>\n",
      "  <meta content=\"website\" property=\"og:type\"/>\n",
      "  <meta content=\"IBM - United States\" property=\"og:title\"/>\n",
      "  <meta content=\"For more than a century, IBM has been a global technology innovator, leading advances in AI, automation and hybrid cloud solutions that help businesses grow.\" property=\"og:description\"/>\n",
      "  <meta content=\"https://www.ibm.com/content/dam/connectedassets-adobe-cms/worldwide-content/creative-assets/s-migr/ul/g/18/f9/ibm_logo_pos_blue60_rgb.png/_jcr_content/renditions/cq5dam.web.1280.1280.png\" property=\"og:image\"/>\n",
      "  <script async=\"async\" src=\"https://1.www.s81c.com/common/stats/ibm-common.js\" type=\"text/javascript\">\n",
      "  </script>\n",
      "  <script src=\"https://hybrid-cloud-widgets-production.s3.us.cloud-object-storage.appdomain.cloud/loader.js\" type=\"application/javascript\">\n",
      "  </script>\n",
      "  <link href=\"/etc.clientlibs/adobe-cms/clientlibs/clientlib-base.lc-30313e00669f877069f15dd099f23454-lc.min.css\" rel=\"stylesheet\" type=\"text/css\"/>\n",
      "  <link href=\"/etc.clientlibs/adobe-cms/clientlibs/clientlib-idlStylesCarbon.lc-8b06cb9bee9e6332c97ee32d90ba79b5-lc.min.css\" rel=\"stylesheet\" type=\"text/css\"/>\n",
      "  <link href=\"/etc.clientlibs/adobe-cms/clientlibs/clientlib-idlStyles.lc-45d9348ed781763ce4722af44d00a613-lc.min.css\" rel=\"stylesheet\" type=\"text/css\"/>\n",
      "  <link href=\"https://1.www.s81c.com/common/carbon-for-ibm-dotcom/tag/v1/latest/plex.css\" rel=\"stylesheet\">\n",
      "   <link href=\"https://1.www.s81c.com/common/carbon/plex/sans.css\" rel=\"stylesheet\">\n",
      "   </link>\n",
      "  </link>\n",
      " </head>\n",
      " <body class=\"content-page page basicpage publish\" data-fullwidthtemplate=\"true\" id=\"content-page-c8104b3589\">\n",
      "  <c4d-video-cta-container>\n",
      "   <div class=\"root container responsivegrid\">\n",
      "    <div class=\"cmp-container\" id=\"container-9225520bd9\">\n",
      "     <div class=\"masthead\">\n",
      "      <c4d-masthead-container auth-method=\"profile-api\" data-endpoint=\"#\" has-cart=\"\" has-contact=\"true\" has-profile=\"\" has-search=\"\">\n",
      "      </c4d-masthead-container>\n",
      "      <script src=\"/etc.clientlibs/adobe-cms/clientlibs/clientlib-masthead-container.lc-5b6499d76cf7cd33a9cb61a3b3077787-lc.min.js\">\n",
      "      </script>\n",
      "      <script>\n",
      "       let l0Json = \"{\\x22profileMenu\\x22:{\\x22signedout\\x22:[{\\x22title\\x22:\\x22My IBM\\x22,\\x22url\\x22:\\x22https:\\/\\/myibm.ibm.com\\/?lnk=mmi\\x22},{\\x22title\\x22:\\x22Log in\\x22,\\x22url\\x22:\\x22https:\\/\\/login.ibm.com\\/oidc\\/endpoint\\/default\\/authorize?redirect_uri=https%3A%2F%2Fmyibm.ibm.com%2FOIDCHandler.html\\x26response_type=token\\x26client_id=v18LoginProdCI\\x26scope=openid\\x26state=https%3A%2F%2Fwww.ibm.com\\x26nonce=8675309\\x22}],\\x22signedin\\x22:[{\\x22title\\x22:\\x22My IBM\\x22,\\x22url\\x22:\\x22https:\\/\\/myibm.ibm.com\\/?lnk=mmi\\x22},{\\x22title\\x22:\\x22Log in\\x22,\\x22url\\x22:\\x22https:\\/\\/login.ibm.com\\/oidc\\/endpoint\\/default\\/authorize?redirect_uri=https%3A%2F%2Fmyibm.ibm.com%2FOIDCHandler.html\\x26response_type=token\\x26client_id=v18LoginProdCI\\x26scope=openid\\x26state=https%3A%2F%2Fwww.ibm.com\\x26nonce=8675309\\x22}]},\\x22mastheadNav\\x22:{\\x22links\\x22:[{\\x22title\\x22:\\x22AI\\x22,\\x22url\\x22:\\x22\\x22,\\x22submenu\\x22:{\\x22sections\\x22:[{\\x22heading\\x22:{\\x22title\\x22:\\x22\\x22,\\x22description\\x22:\\x22\\x22},\\x22groups\\x22:[{\\x22heading\\x22:{\\x22title\\x22:\\x22Overview\\x22,\\x22url\\x22:\\x22https:\\/\\/www.ibm.com\\/artificial\\u002Dintelligence\\x22,\\x22description\\x22:\\x22\\x22},\\x22links\\x22:[]},{\\x22heading\\x22:{\\x22title\\x22:\\x22Consulting\\x22,\\x22url\\x22:\\x22https:\\/\\/www.ibm.com\\/consulting\\/artificial\\u002Dintelligence\\x22,\\x22description\\x22:\\x22\\x22},\\x22links\\x22:[]},{\\x22heading\\x22:{\\x22title\\x22:\\x22watsonx\\x22,\\x22url\\x22:\\x22https:\\/\\/www.ibm.com\\/watsonx\\x22,\\x22description\\x22:\\x22\\x22},\\x22links\\x22:[]},{\\x22heading\\x22:{\\x22title\\x22:\\x22Research\\x22,\\x22url\\x22:\\x22https:\\/\\/research.ibm.com\\/artificial\\u002Dintelligence\\x22,\\x22description\\x22:\\x22\\x22},\\x22links\\x22:[]},{\\x22heading\\x22:{\\x22title\\x22:\\x22Assistants\\x22,\\x22url\\x22:\\x22https:\\/\\/www.ibm.com\\/ai\\u002Dassistants\\x22,\\x22description\\x22:\\x22\\x22},\\x22links\\x22:[]},{\\x22heading\\x22:{\\x22title\\x22:\\x22Ethics and governance\\x22,\\x22url\\x22:\\x22https:\\/\\/www.ibm.com\\/impact\\/ai\\u002Dethics\\x22,\\x22description\\x22:\\x22\\x22},\\x22links\\x22:[]},{\\x22heading\\x22:{\\x22title\\x22:\\x22Granite models\\x22,\\x22url\\x22:\\x22https:\\/\\/www.ibm.com\\/granite\\x22,\\x22description\\x22:\\x22\\x22},\\x22links\\x22:[]}]}],\\x22viewAll\\x22:{\\x22title\\x22:\\x22\\x22,\\x22url\\x22:\\x22\\x22}}},{\\x22title\\x22:\\x22Hybrid Cloud\\x22,\\x22url\\x22:\\x22\\x22,\\x22submenu\\x22:{\\x22sections\\x22:[{\\x22heading\\x22:{\\x22title\\x22:\\x22\\x22,\\x22description\\x22:\\x22\\x22},\\x22groups\\x22:[{\\x22heading\\x22:{\\x22title\\x22:\\x22Overview\\x22,\\x22url\\x22:\\x22https:\\/\\/www.ibm.com\\/hybrid\\u002Dcloud\\x22,\\x22description\\x22:\\x22\\x22},\\x22links\\x22:[]},{\\x22heading\\x22:{\\x22title\\x22:\\x22Quantum computing\\x22,\\x22url\\x22:\\x22https:\\/\\/www.ibm.com\\/quantum\\x22,\\x22description\\x22:\\x22\\x22},\\x22links\\x22:[]},{\\x22heading\\x22:{\\x22title\\x22:\\x22Cloud platform\\x22,\\x22url\\x22:\\x22https:\\/\\/www.ibm.com\\/cloud\\x22,\\x22description\\x22:\\x22\\x22},\\x22links\\x22:[]},{\\x22heading\\x22:{\\x22title\\x22:\\x22Research\\x22,\\x22url\\x22:\\x22https:\\/\\/research.ibm.com\\/hybrid\\u002Dcloud\\x22,\\x22description\\x22:\\x22\\x22},\\x22links\\x22:[]},{\\x22heading\\x22:{\\x22title\\x22:\\x22Consulting\\x22,\\x22url\\x22:\\x22https:\\/\\/www.ibm.com\\/cloud\\/transformation\\x22,\\x22description\\x22:\\x22\\x22},\\x22links\\x22:[]},{\\x22heading\\x22:{\\x22title\\x22:\\x22\\x22,\\x22description\\x22:\\x22\\x22},\\x22links\\x22:[]}]}],\\x22viewAll\\x22:{\\x22title\\x22:\\x22\\x22,\\x22url\\x22:\\x22\\x22}}},{\\x22title\\x22:\\x22Products\\x22,\\x22url\\x22:\\x22\\x22,\\x22submenu\\x22:{\\x22sections\\x22:[{\\x22heading\\x22:{\\x22title\\x22:\\x22Featured\\x22,\\x22description\\x22:\\x22\\x22},\\x22groups\\x22:[{\\x22heading\\x22:{\\x22title\\x22:\\x22\\x22,\\x22description\\x22:\\x22\\x22},\\x22links\\x22:[{\\x22title\\x22:\\x22API Connect\\x22,\\x22url\\x22:\\x22https:\\/\\/www.ibm.com\\/products\\/api\\u002Dconnect?lnk=flatitem\\x22,\\x22description\\x22:\\x22Software to rapidly create, protect, socialize and manage APIs\\x22},{\\x22title\\x22:\\x22Concert\\x22,\\x22url\\x22:\\x22https:\\/\\/www.ibm.com\\/products\\/concert?lnk=flatitem\\x22,\\x22description\\x22:\\x22Software to simplify and optimize application management\\x22},{\\x22title\\x22:\\x22Environmental Intelligence\\x22,\\x22url\\x22:\\x22https:\\/\\/www.ibm.com\\/products\\/environmental\\u002Dintelligence?lnk=flatitem\\x22,\\x22description\\x22:\\x22SaaS for predicting and responding to weather and climate events\\x22},{\\x22title\\x22:\\x22Envizi\\x22,\\x22url\\x22:\\x22https:\\/\\/www.ibm.com\\/products\\/envizi?lnk=flatitem\\x22,\\x22description\\x22:\\x22ESG data management, reporting and analysis SaaS\\x22},{\\x22title\\x22:\\x22FlashSystem\\x22,\\x22url\\x22:\\x22https:\\/\\/www.ibm.com\\/flashsystem?lnk=flatitem\\x22,\\x22description\\x22:\\x22Primary storage for performance and latency sensitive workloads\\x22},{\\x22title\\x22:\\x22Hybrid Cloud Mesh\\x22,\\x22url\\x22:\\x22https:\\/\\/www.ibm.com\\/products\\/hybrid\\u002Dcloud\\u002Dmesh?lnk=flatitem\\x22,\\x22description\\x22:\\x22SaaS for deploying and managing hybrid and multicloud networks\\x22},{\\x22title\\x22:\\x22IBM Cloud\\x22,\\x22url\\x22:\\x22https:\\/\\/www.ibm.com\\/cloud?lnk=flatitem\\x22,\\x22description\\x22:\\x22On\\u002Ddemand cloud computing platform and APIs\\x22},{\\x22title\\x22:\\x22IBM Z\\x22,\\x22url\\x22:\\x22https:\\/\\/www.ibm.com\\/z?lnk=flatitem\\x22,\\x22description\\x22:\\x22Flagship mainframe with on\\u002Dchip AI and quantum\\u002Dsafe cryptography\\x22},{\\x22title\\x22:\\x22Instana\\x22,\\x22url\\x22:\\x22https:\\/\\/www.ibm.com\\/products\\/instana?lnk=flatitem\\x22,\\x22description\\x22:\\x22Software for application performance monitoring and automation\\x22},{\\x22title\\x22:\\x22MaaS360\\x22,\\x22url\\x22:\\x22https:\\/\\/www.ibm.com\\/products\\/maas360?lnk=flatitem\\x22,\\x22description\\x22:\\x22Unified endpoint management software for many device types\\x22},{\\x22title\\x22:\\x22Maximo\\x22,\\x22url\\x22:\\x22https:\\/\\/www.ibm.com\\/products\\/maximo?lnk=flatitem\\x22,\\x22description\\x22:\\x22Software for asset management and related workflows\\x22},{\\x22title\\x22:\\x22Planning Analytics\\x22,\\x22url\\x22:\\x22https:\\/\\/www.ibm.com\\/products\\/planning\\u002Danalytics?lnk=flatitem\\x22,\\x22description\\x22:\\x22Software to automate financial and operational planning\\x22},{\\x22title\\x22:\\x22Robotic Process Automation (RPA)\\x22,\\x22url\\x22:\\x22https:\\/\\/www.ibm.com\\/products\\/robotic\\u002Dprocess\\u002Dautomation?lnk=flatitem\\x22,\\x22description\\x22:\\x22Software to automate workflows and business processes\\x22},{\\x22title\\x22:\\x22Storage Defender\\x22,\\x22url\\x22:\\x22https:\\/\\/www.ibm.com\\/products\\/storage\\u002Ddefender?lnk=flatitem\\x22,\\x22description\\x22:\\x22Data resiliency software for threat detection and data recovery\\x22},{\\x22title\\x22:\\x22Turbonomic\\x22,\\x22url\\x22:\\x22https:\\/\\/www.ibm.com\\/products\\/turbonomic?lnk=flatitem\\x22,\\x22description\\x22:\\x22Software to manage and optimize IT resource usage\\x22},{\\x22title\\x22:\\x22watsonx\\x22,\\x22url\\x22:\\x22https:\\/\\/www.ibm.com\\/watsonx?lnk=flatitem\\x22,\\x22description\\x22:\\x22AI and data platform\\x22},{\\x22title\\x22:\\x22watsonx Assistant\\x22,\\x22url\\x22:\\x22https:\\/\\/www.ibm.com\\/products\\/watsonx\\u002Dassistant?lnk=flatitem\\x22,\\x22description\\x22:\\x22Virtual agents customizable to any domain\\x22},{\\x22title\\x22:\\x22watsonx Orchestrate\\x22,\\x22url\\x22:\\x22https:\\/\\/www.ibm.com\\/products\\/watsonx\\u002Dorchestrate?lnk=flatitem\\x22,\\x22description\\x22:\\x22Personal\\u002Dassistant software that automates repetitive tasks\\x22}]}]},{\\x22heading\\x22:{\\x22title\\x22:\\x22AI \\x26 machine learning\\x22,\\x22url\\x22:\\x22https:\\/\\/www.ibm.com\\/artificial\\u002Dintelligence?lnk=flathl\\x22,\\x22description\\x22:\\x22Use IBM Watson’s AI or build your own machine learning models\\x22},\\x22groups\\x22:[{\\x22heading\\x22:{\\x22title\\x22:\\x22\\x22,\\x22description\\x22:\\x22\\x22},\\x22links\\x22:[{\\x22title\\x22:\\x22Cloud Pak for AIOps\\x22,\\x22url\\x22:\\x22https:\\/\\/www.ibm.com\\/products\\/cloud\\u002Dpak\\u002Dfor\\u002Daiops?lnk=flatitem\\x22,\\x22description\\x22:\\x22DevOps management tool with AI analysis and recommendations\\x22},{\\x22title\\x22:\\x22Cloud Pak for Data\\x22,\\x22url\\x22:\\x22https:\\/\\/www.ibm.com\\/products\\/cloud\\u002Dpak\\u002Dfor\\u002Ddata?lnk=flatitem\\x22,\\x22description\\x22:\\x22Tools for data analysis, organization and management\\x22},{\\x22title\\x22:\\x22Knowledge Catalog\\x22,\\x22url\\x22:\\x22https:\\/\\/www.ibm.com\\/products\\/knowledge\\u002Dcatalog?lnk=flatitem\\x22,\\x22description\\x22:\\x22SaaS to catalog data, AI models, metadata, policies and more\\x22},{\\x22title\\x22:\\x22Watson Discovery\\x22,\\x22url\\x22:\\x22https:\\/\\/www.ibm.com\\/products\\/watson\\u002Ddiscovery?lnk=flatitem\\x22,\\x22description\\x22:\\x22AI to search in and answer questions about business documents\\x22},{\\x22title\\x22:\\x22Watson Natural Language Understanding\\x22,\\x22url\\x22:\\x22https:\\/\\/www.ibm.com\\/products\\/natural\\u002Dlanguage\\u002Dunderstanding?lnk=flatitem\\x22,\\x22description\\x22:\\x22API for text analysis and metadata extraction\\x22},{\\x22title\\x22:\\x22Watson Speech to Text\\x22,\\x22url\\x22:\\x22https:\\/\\/www.ibm.com\\/products\\/speech\\u002Dto\\u002Dtext?lnk=flatitem\\x22,\\x22description\\x22:\\x22API for real\\u002Dtime speech recognition and transcription\\x22},{\\x22title\\x22:\\x22Watson Studio\\x22,\\x22url\\x22:\\x22https:\\/\\/www.ibm.com\\/products\\/watson\\u002Dstudio?lnk=flatitem\\x22,\\x22description\\x22:\\x22IDE to build, run and manage AI models\\x22},{\\x22title\\x22:\\x22Watson Text to Speech\\x22,\\x22url\\x22:\\x22https:\\/\\/www.ibm.com\\/products\\/text\\u002Dto\\u002Dspeech?lnk=flatitem\\x22,\\x22description\\x22:\\x22API for real\\u002Dtime text to speech conversion\\x22},{\\x22title\\x22:\\x22Z Anomaly Analytics\\x22,\\x22url\\x22:\\x22https:\\/\\/www.ibm.com\\/products\\/z\\u002Danomaly\\u002Danalytics?lnk=flatitem\\x22,\\x22description\\x22:\\x22Operational anomaly detection software for mainframes\\x22},{\\x22title\\x22:\\x22watsonx\\x22,\\x22url\\x22:\\x22https:\\/\\/www.ibm.com\\/watsonx?lnk=flatitem\\x22,\\x22description\\x22:\\x22AI and data platform\\x22},{\\x22title\\x22:\\x22watsonx Assistant\\x22,\\x22url\\x22:\\x22https:\\/\\/www.ibm.com\\/products\\/watsonx\\u002Dassistant?lnk=flatitem\\x22,\\x22description\\x22:\\x22Virtual agents customizable to any domain\\x22},{\\x22title\\x22:\\x22watsonx Code Assistant\\x22,\\x22url\\x22:\\x22https:\\/\\/www.ibm.com\\/products\\/watsonx\\u002Dcode\\u002Dassistant?lnk=flatitem\\x22,\\x22description\\x22:\\x22AI tool to generate code\\x22},{\\x22title\\x22:\\x22watsonx Orders\\x22,\\x22url\\x22:\\x22https:\\/\\/www.ibm.com\\/products\\/watsonx\\u002Dorders?lnk=flatitem\\x22,\\x22description\\x22:\\x22AI voice agent for taking restaurant orders\\x22}]}]},{\\x22heading\\x22:{\\x22title\\x22:\\x22Analytics\\x22,\\x22url\\x22:\\x22https:\\/\\/www.ibm.com\\/analytics?lnk=flathl\\x22,\\x22description\\x22:\\x22Aggregate and analyze large datasets\\x22},\\x22groups\\x22:[{\\x22heading\\x22:{\\x22title\\x22:\\x22\\x22,\\x22description\\x22:\\x22\\x22},\\x22links\\x22:[{\\x22title\\x22:\\x22Business Analytics Enterprise\\x22,\\x22url\\x22:\\x22https:\\/\\/www.ibm.com\\/products\\/business\\u002Danalytics\\u002Denterprise?lnk=flatitem\\x22,\\x22description\\x22:\\x22Software for business planning and analysis\\x22},{\\x22title\\x22:\\x22CPLEX\\x22,\\x22url\\x22:\\x22https:\\/\\/www.ibm.com\\/products\\/ilog\\u002Dcplex\\u002Doptimization\\u002Dstudio?lnk=flatitem\\x22,\\x22description\\x22:\\x22Software to build and solve complex optimization models\\x22},{\\x22title\\x22:\\x22Cloud Pak for Data\\x22,\\x22url\\x22:\\x22https:\\/\\/www.ibm.com\\/products\\/cloud\\u002Dpak\\u002Dfor\\u002Ddata?lnk=flatitem\\x22,\\x22description\\x22:\\x22Tools for data analysis, organization and management\\x22},{\\x22title\\x22:\\x22Cognos Analytics\\x22,\\x22url\\x22:\\x22https:\\/\\/www.ibm.com\\/products\\/cognos\\u002Danalytics?lnk=flatitem\\x22,\\x22description\\x22:\\x22Software for business intelligence and performance management\\x22},{\\x22title\\x22:\\x22Databand\\x22,\\x22url\\x22:\\x22https:\\/\\/www.ibm.com\\/products\\/databand?lnk=flatitem\\x22,\\x22description\\x22:\\x22Data observability software for data engineers and DataOps teams\\x22},{\\x22title\\x22:\\x22InfoSphere Information Server\\x22,\\x22url\\x22:\\x22https:\\/\\/www.ibm.com\\/information\\u002Dserver?lnk=flatitem\\x22,\\x22description\\x22:\\x22Data integration suite for ETL, governance and analysis\\x22},{\\x22title\\x22:\\x22Manta Data Lineage\\x22,\\x22url\\x22:\\x22https:\\/\\/www.ibm.com\\/products\\/manta\\u002Ddata\\u002Dlineage?lnk=flatitem\\x22,\\x22description\\x22:\\x22Software to visualize the flow of data from origin to consumption\\x22},{\\x22title\\x22:\\x22Netezza\\x22,\\x22url\\x22:\\x22https:\\/\\/www.ibm.com\\/products\\/netezza?lnk=flatitem\\x22,\\x22description\\x22:\\x22Data warehousing and analytics system on custom hardware\\x22},{\\x22title\\x22:\\x22Optim\\x22,\\x22url\\x22:\\x22https:\\/\\/www.ibm.com\\/infosphere\\u002Doptim?lnk=flatitem\\x22,\\x22description\\x22:\\x22Software to manage test, production, and archived data\\x22},{\\x22title\\x22:\\x22Planning Analytics\\x22,\\x22url\\x22:\\x22https:\\/\\/www.ibm.com\\/products\\/planning\\u002Danalytics?lnk=flatitem\\x22,\\x22description\\x22:\\x22Software to automate financial and operational planning\\x22},{\\x22title\\x22:\\x22SPSS\\x22,\\x22url\\x22:\\x22https:\\/\\/www.ibm.com\\/spss?lnk=flatitem\\x22,\\x22description\\x22:\\x22Software for statistical analysis and business intelligence\\x22},{\\x22title\\x22:\\x22Spectrum Computing\\x22,\\x22url\\x22:\\x22https:\\/\\/www.ibm.com\\/high\\u002Dperformance\\u002Dcomputing?lnk=flatitem\\x22,\\x22description\\x22:\\x22Software to optimize resources in complex computing clusters\\x22},{\\x22title\\x22:\\x22StreamSets\\x22,\\x22url\\x22:\\x22https:\\/\\/www.ibm.com\\/products\\/streamsets?lnk=flatitem\\x22,\\x22description\\x22:\\x22Graphical interface to build and manage streaming data pipelines\\x22},{\\x22title\\x22:\\x22Watson Discovery\\x22,\\x22url\\x22:\\x22https:\\/\\/www.ibm.com\\/products\\/watson\\u002Ddiscovery?lnk=flatitem\\x22,\\x22description\\x22:\\x22AI to search in and answer questions about business documents\\x22},{\\x22title\\x22:\\x22Watson Studio\\x22,\\x22url\\x22:\\x22https:\\/\\/www.ibm.com\\/products\\/watson\\u002Dstudio?lnk=flatitem\\x22,\\x22description\\x22:\\x22IDE to build, run and manage AI models\\x22}]}]},{\\x22heading\\x22:{\\x22title\\x22:\\x22Asset lifecycle management\\x22,\\x22description\\x22:\\x22Manage and maintain physical assets\\x22},\\x22groups\\x22:[{\\x22heading\\x22:{\\x22title\\x22:\\x22\\x22,\\x22description\\x22:\\x22\\x22},\\x22links\\x22:[{\\x22title\\x22:\\x22Environmental Intelligence\\x22,\\x22url\\x22:\\x22https:\\/\\/www.ibm.com\\/products\\/environmental\\u002Dintelligence?lnk=flatitem\\x22,\\x22description\\x22:\\x22SaaS for predicting and responding to weather and climate events\\x22},{\\x22title\\x22:\\x22Envizi\\x22,\\x22url\\x22:\\x22https:\\/\\/www.ibm.com\\/products\\/envizi?lnk=flatitem\\x22,\\x22description\\x22:\\x22ESG data management, reporting and analysis SaaS\\x22},{\\x22title\\x22:\\x22Maximo\\x22,\\x22url\\x22:\\x22https:\\/\\/www.ibm.com\\/products\\/maximo?lnk=flatitem\\x22,\\x22description\\x22:\\x22Software for asset management and related workflows\\x22},{\\x22title\\x22:\\x22TRIRIGA\\x22,\\x22url\\x22:\\x22https:\\/\\/www.ibm.com\\/products\\/tririga?lnk=flatitem\\x22,\\x22description\\x22:\\x22Software for real estate and workplace management\\x22}]}]},{\\x22heading\\x22:{\\x22title\\x22:\\x22Business automation\\x22,\\x22description\\x22:\\x22Automate workflows and business processes\\x22},\\x22groups\\x22:[{\\x22heading\\x22:{\\x22title\\x22:\\x22\\x22,\\x22description\\x22:\\x22\\x22},\\x22links\\x22:[{\\x22title\\x22:\\x22Blueworks Live\\x22,\\x22url\\x22:\\x22https:\\/\\/www.ibm.com\\/products\\/blueworkslive?lnk=flatitem\\x22,\\x22description\\x22:\\x22SaaS for collaboratively modeling business processes\\x22},{\\x22title\\x22:\\x22Business Automation Manager Open Editions\\x22,\\x22url\\x22:\\x22https:\\/\\/www.ibm.com\\/products\\/business\\u002Dautomation\\u002Dmanager\\u002Dopen\\u002Deditions?lnk=flatitem\\x22,\\x22description\\x22:\\x22Workflow automation and decision management software\\x22},{\\x22title\\x22:\\x22Business Automation Workflow\\x22,\\x22url\\x22:\\x22https:\\/\\/www.ibm.com\\/products\\/business\\u002Dautomation\\u002Dworkflow?lnk=flatitem\\x22,\\x22description\\x22:\\x22Cloud Pak for Business Automation add\\u002Don to automate workflows\\x22},{\\x22title\\x22:\\x22Cloud Pak for Business Automation\\x22,\\x22url\\x22:\\x22https:\\/\\/www.ibm.com\\/products\\/cloud\\u002Dpak\\u002Dfor\\u002Dbusiness\\u002Dautomation?lnk=flatitem\\x22,\\x22description\\x22:\\x22Operations management software with AI insights\\x22},{\\x22title\\x22:\\x22Datacap\\x22,\\x22url\\x22:\\x22https:\\/\\/www.ibm.com\\/products\\/data\\u002Dcapture\\u002Dand\\u002Dimaging?lnk=flatitem\\x22,\\x22description\\x22:\\x22Document management for IBM Cloud Pak for Business Automation\\x22},{\\x22title\\x22:\\x22Event Automation\\x22,\\x22url\\x22:\\x22https:\\/\\/www.ibm.com\\/products\\/event\\u002Dautomation?lnk=flatitem\\x22,\\x22description\\x22:\\x22No\\u002Dcode tool for building automated event driven workflows\\x22},{\\x22title\\x22:\\x22FileNet Content Manager\\x22,\\x22url\\x22:\\x22https:\\/\\/www.ibm.com\\/products\\/filenet\\u002Dcontent\\u002Dmanager?lnk=flatitem\\x22,\\x22description\\x22:\\x22Content management solution for Cloud Pak for Business Automation\\x22},{\\x22title\\x22:\\x22Operational Decision Manager\\x22,\\x22url\\x22:\\x22https:\\/\\/www.ibm.com\\/products\\/operational\\u002Ddecision\\u002Dmanager?lnk=flatitem\\x22,\\x22description\\x22:\\x22Cloud Pak for Business Automation addon for rule\\u002Dbased decisions\\x22},{\\x22title\\x22:\\x22Process Mining\\x22,\\x22url\\x22:\\x22https:\\/\\/www.ibm.com\\/products\\/process\\u002Dmining?lnk=flatitem\\x22,\\x22description\\x22:\\x22Software to extract process data from business applications\\x22},{\\x22title\\x22:\\x22Robotic Process Automation (RPA)\\x22,\\x22url\\x22:\\x22https:\\/\\/www.ibm.com\\/products\\/robotic\\u002Dprocess\\u002Dautomation?lnk=flatitem\\x22,\\x22description\\x22:\\x22Software to automate workflows and business processes\\x22},{\\x22title\\x22:\\x22watsonx Orchestrate\\x22,\\x22url\\x22:\\x22https:\\/\\/www.ibm.com\\/products\\/watsonx\\u002Dorchestrate?lnk=flatitem\\x22,\\x22description\\x22:\\x22Personal\\u002Dassistant software that automates repetitive tasks\\x22}]}]},{\\x22heading\\x22:{\\x22title\\x22:\\x22Containers\\x22,\\x22url\\x22:\\x22https:\\/\\/www.ibm.com\\/containers?lnk=flathl\\x22,\\x22description\\x22:\\x22Allocate compute infrastructure on demand\\x22},\\x22groups\\x22:[{\\x22heading\\x22:{\\x22title\\x22:\\x22\\x22,\\x22description\\x22:\\x22\\x22},\\x22links\\x22:[{\\x22title\\x22:\\x22Cloud Satellite\\x22,\\x22url\\x22:\\x22https:\\/\\/www.ibm.com\\/products\\/satellite?lnk=flatitem\\x22,\\x22description\\x22:\\x22Platform for running managed cloud services on any infrastructure\\x22},{\\x22title\\x22:\\x22Code Engine\\x22,\\x22url\\x22:\\x22https:\\/\\/www.ibm.com\\/products\\/code\\u002Dengine?lnk=flatitem\\x22,\\x22description\\x22:\\x22Managed serverless runtime for containers, batch jobs, or code\\x22},{\\x22title\\x22:\\x22Container Registry\\x22,\\x22url\\x22:\\x22https:\\/\\/www.ibm.com\\/products\\/container\\u002Dregistry?lnk=flatitem\\x22,\\x22description\\x22:\\x22Private SaaS registry for container storage and management\\x22},{\\x22title\\x22:\\x22Kubernetes Service\\x22,\\x22url\\x22:\\x22https:\\/\\/www.ibm.com\\/products\\/kubernetes\\u002Dservice?lnk=flatitem\\x22,\\x22description\\x22:\\x22Managed Kubernetes for high availability container deployments\\x22},{\\x22title\\x22:\\x22Red Hat OpenShift on IBM Cloud\\x22,\\x22url\\x22:\\x22https:\\/\\/www.ibm.com\\/products\\/openshift?lnk=flatitem\\x22,\\x22description\\x22:\\x22Managed service with tools for security, management and monitoring\\x22}]}]},{\\x22heading\\x22:{\\x22title\\x22:\\x22Databases\\x22,\\x22url\\x22:\\x22https:\\/\\/www.ibm.com\\/database?lnk=flathl\\x22,\\x22description\\x22:\\x22Store, query and analyze structured data\\x22},\\x22groups\\x22:[{\\x22heading\\x22:{\\x22title\\x22:\\x22\\x22,\\x22description\\x22:\\x22\\x22},\\x22links\\x22:[{\\x22title\\x22:\\x22Cloudant\\x22,\\x22url\\x22:\\x22https:\\/\\/www.ibm.com\\/products\\/cloudant?lnk=flatitem\\x22,\\x22description\\x22:\\x22Managed PCI\\u002Dcompliant JSON document store on Apache CouchDB\\x22},{\\x22title\\x22:\\x22Db2\\x22,\\x22url\\x22:\\x22https:\\/\\/www.ibm.com\\/products\\/db2\\u002Ddatabase?lnk=flatitem\\x22,\\x22description\\x22:\\x22Data management software including IBM Db2 Database\\x22},{\\x22title\\x22:\\x22Db2 for z\\/OS\\x22,\\x22url\\x22:\\x22https:\\/\\/www.ibm.com\\/products\\/db2\\u002Dfor\\u002Dzos?lnk=flatitem\\x22,\\x22description\\x22:\\x22IBM Db2 Database for IBM Z mainframes\\x22},{\\x22title\\x22:\\x22IBM Cloud Databases for Elastic Search\\x22,\\x22url\\x22:\\x22https:\\/\\/www.ibm.com\\/products\\/databases\\u002Dfor\\u002Delasticsearch?lnk=flatitem\\x22,\\x22description\\x22:\\x22JSON document store for full\\u002Dtext search\\x22},{\\x22title\\x22:\\x22IBM Cloud Databases for EnterpriseDB\\x22,\\x22url\\x22:\\x22https:\\/\\/www.ibm.com\\/products\\/databases\\u002Dfor\\u002Denterprisedb?lnk=flatitem\\x22,\\x22description\\x22:\\x22PostgreSQL with added performance, security and management features\\x22},{\\x22title\\x22:\\x22IBM Cloud Databases for MongoDB\\x22,\\x22url\\x22:\\x22https:\\/\\/www.ibm.com\\/products\\/databases\\u002Dfor\\u002Dmongodb?lnk=flatitem\\x22,\\x22description\\x22:\\x22Managed NoSQL JSON document store\\x22},{\\x22title\\x22:\\x22IBM Cloud Databases for MySQL\\x22,\\x22url\\x22:\\x22https:\\/\\/www.ibm.com\\/products\\/databases\\u002Dfor\\u002Dmysql?lnk=flatitem\\x22,\\x22description\\x22:\\x22Managed SQL database\\x22},{\\x22title\\x22:\\x22IBM Cloud Databases for PostgreSQL\\x22,\\x22url\\x22:\\x22https:\\/\\/www.ibm.com\\/products\\/databases\\u002Dfor\\u002Dpostgresql?lnk=flatitem\\x22,\\x22description\\x22:\\x22Managed SQL database with advanced features\\x22},{\\x22title\\x22:\\x22IBM Cloud Databases for etcd\\x22,\\x22url\\x22:\\x22https:\\/\\/www.ibm.com\\/products\\/databases\\u002Dfor\\u002Detcd?lnk=flatitem\\x22,\\x22description\\x22:\\x22Distributed key\\u002Dvalue store\\x22},{\\x22title\\x22:\\x22Information Management System (IMS)\\x22,\\x22url\\x22:\\x22https:\\/\\/www.ibm.com\\/products\\/ims?lnk=flatitem\\x22,\\x22description\\x22:\\x22Database and management system for high\\u002Dvolume transactions\\x22},{\\x22title\\x22:\\x22Informix\\x22,\\x22url\\x22:\\x22https:\\/\\/www.ibm.com\\/products\\/informix?lnk=flatitem\\x22,\\x22description\\x22:\\x22Embeddable database for SQL, NoSQL, time\\u002Dseries and spatial data\\x22}]}]},{\\x22heading\\x22:{\\x22title\\x22:\\x22DevOps\\x22,\\x22url\\x22:\\x22https:\\/\\/www.ibm.com\\/devops?lnk=flathl\\x22,\\x22description\\x22:\\x22Manage infrastructure, environments and deployments\\x22},\\x22groups\\x22:[{\\x22heading\\x22:{\\x22title\\x22:\\x22\\x22,\\x22description\\x22:\\x22\\x22},\\x22links\\x22:[{\\x22title\\x22:\\x22Application Delivery Foundation for z\\/OS\\x22,\\x22url\\x22:\\x22https:\\/\\/www.ibm.com\\/products\\/app\\u002Ddelivery\\u002Dfoundation\\u002Dfor\\u002Dzos?lnk=flatitem\\x22,\\x22description\\x22:\\x22Application development and DevOps tools for z\\/OS\\x22},{\\x22title\\x22:\\x22Application Discovery and Delivery Intelligence\\x22,\\x22url\\x22:\\x22https:\\/\\/www.ibm.com\\/products\\/app\\u002Ddiscovery\\u002Dand\\u002Ddelivery\\u002Dintelligence?lnk=flatitem\\x22,\\x22description\\x22:\\x22Analysis tool for visualizing applications, data and jobs on z\\/OS\\x22},{\\x22title\\x22:\\x22Cloud Continuous Delivery\\x22,\\x22url\\x22:\\x22https:\\/\\/www.ibm.com\\/products\\/continuous\\u002Ddelivery?lnk=flatitem\\x22,\\x22description\\x22:\\x22Toolchains to automate building and deploying applications\\x22},{\\x22title\\x22:\\x22Cloud Pak for AIOps\\x22,\\x22url\\x22:\\x22https:\\/\\/www.ibm.com\\/products\\/cloud\\u002Dpak\\u002Dfor\\u002Daiops?lnk=flatitem\\x22,\\x22description\\x22:\\x22DevOps management tool with AI analysis and recommendations\\x22},{\\x22title\\x22:\\x22DevOps Build\\x22,\\x22url\\x22:\\x22https:\\/\\/www.ibm.com\\/products\\/devops\\u002Dbuild?lnk=flatitem\\x22,\\x22description\\x22:\\x22Management tool for configuring and running software builds\\x22},{\\x22title\\x22:\\x22DevOps Code ClearCase\\x22,\\x22url\\x22:\\x22https:\\/\\/www.ibm.com\\/products\\/devops\\u002Dcode\\u002Dclearcase?lnk=flatitem\\x22,\\x22description\\x22:\\x22Configuration management system for software asset access control\\x22},{\\x22title\\x22:\\x22DevOps Deploy\\x22,\\x22url\\x22:\\x22https:\\/\\/www.ibm.com\\/products\\/devops\\u002Ddeploy?lnk=flatitem\\x22,\\x22description\\x22:\\x22Automation software for continuous delivery and deployment\\x22},{\\x22title\\x22:\\x22DevOps Test\\x22,\\x22url\\x22:\\x22https:\\/\\/www.ibm.com\\/products\\/devops\\u002Dtest?lnk=flatitem\\x22,\\x22description\\x22:\\x22Continuous testing and virtualization platform\\x22},{\\x22title\\x22:\\x22DevOps Velocity\\x22,\\x22url\\x22:\\x22https:\\/\\/www.ibm.com\\/products\\/devops\\u002Dvelocity?lnk=flatitem\\x22,\\x22description\\x22:\\x22Release management software for pipeline orchestration and analytics\\x22},{\\x22title\\x22:\\x22Engineering Lifecycle Management\\x22,\\x22url\\x22:\\x22https:\\/\\/www.ibm.com\\/products\\/engineering\\u002Dlifecycle\\u002Dmanagement?lnk=flatitem\\x22,\\x22description\\x22:\\x22Software for product and application lifecycle management\\x22},{\\x22title\\x22:\\x22IBM i Modernization Engine\\x22,\\x22url\\x22:\\x22https:\\/\\/www.ibm.com\\/products\\/ibm\\u002Di\\u002Dmerlin?lnk=flatitem\\x22,\\x22description\\x22:\\x22Development and modernization tools for IBM i applications\\x22},{\\x22title\\x22:\\x22Rational ClearQuest\\x22,\\x22url\\x22:\\x22https:\\/\\/www.ibm.com\\/products\\/rational\\u002Dclearquest?lnk=flatitem\\x22,\\x22description\\x22:\\x22Change management software\\x22},{\\x22title\\x22:\\x22Rational Software Architect Designer\\x22,\\x22url\\x22:\\x22https:\\/\\/www.ibm.com\\/products\\/rational\\u002Dsoftware\\u002Darchitect\\u002Ddesigner?lnk=flatitem\\x22,\\x22description\\x22:\\x22Tools to create, evaluate, and communicate software architecture\\x22},{\\x22title\\x22:\\x22Test Accelerator for Z\\x22,\\x22url\\x22:\\x22https:\\/\\/www.ibm.com\\/products\\/test\\u002Daccelerator\\u002Dz?lnk=flatitem\\x22,\\x22description\\x22:\\x22Test automation and test generation framework for z\\/OS\\x22}]}]},{\\x22heading\\x22:{\\x22title\\x22:\\x22IT automation\\x22,\\x22description\\x22:\\x22Automate IT infrastructure management\\x22},\\x22groups\\x22:[{\\x22heading\\x22:{\\x22title\\x22:\\x22\\x22,\\x22description\\x22:\\x22\\x22},\\x22links\\x22:[{\\x22title\\x22:\\x22Apptio\\x22,\\x22url\\x22:\\x22https:\\/\\/www.ibm.com\\/products\\/apptio?lnk=flatitem\\x22,\\x22description\\x22:\\x22Hybrid cloud financial management and planning software\\x22},{\\x22title\\x22:\\x22Cloud App Configuration\\x22,\\x22url\\x22:\\x22https:\\/\\/www.ibm.com\\/products\\/app\\u002Dconfiguration?lnk=flatitem\\x22,\\x22description\\x22:\\x22Feature management and configuration service for web and mobile apps\\x22},{\\x22title\\x22:\\x22Cloud App ID\\x22,\\x22url\\x22:\\x22https:\\/\\/www.ibm.com\\/products\\/app\\u002Did?lnk=flatitem\\x22,\\x22description\\x22:\\x22Authentication and user management service for web and mobile apps\\x22},{\\x22title\\x22:\\x22Cloud Monitoring\\x22,\\x22url\\x22:\\x22https:\\/\\/www.ibm.com\\/products\\/cloud\\u002Dmonitoring?lnk=flatitem\\x22,\\x22description\\x22:\\x22Hosted monitoring tool for organization\\u002Dwide system performance\\x22},{\\x22title\\x22:\\x22Cloud Pak for AIOps\\x22,\\x22url\\x22:\\x22https:\\/\\/www.ibm.com\\/products\\/cloud\\u002Dpak\\u002Dfor\\u002Daiops?lnk=flatitem\\x22,\\x22description\\x22:\\x22DevOps management tool with AI analysis and recommendations\\x22},{\\x22title\\x22:\\x22Cloud Schematics\\x22,\\x22url\\x22:\\x22https:\\/\\/www.ibm.com\\/products\\/schematics?lnk=flatitem\\x22,\\x22description\\x22:\\x22Management and provisionining of cloud infrastructure with code\\x22},{\\x22title\\x22:\\x22Concert\\x22,\\x22url\\x22:\\x22https:\\/\\/www.ibm.com\\/products\\/concert?lnk=flatitem\\x22,\\x22description\\x22:\\x22Software to simplify and optimize application management\\x22},{\\x22title\\x22:\\x22Event Notifications\\x22,\\x22url\\x22:\\x22https:\\/\\/www.ibm.com\\/products\\/event\\u002Dnotifications?lnk=flatitem\\x22,\\x22description\\x22:\\x22Notification and workflow automation service for IBM Cloud events\\x22},{\\x22title\\x22:\\x22Flexera One\\x22,\\x22url\\x22:\\x22https:\\/\\/www.ibm.com\\/products\\/flexera\\u002Done?lnk=flatitem\\x22,\\x22description\\x22:\\x22IT asset management software\\x22},{\\x22title\\x22:\\x22IBM Cloud Logs\\x22,\\x22url\\x22:\\x22https:\\/\\/www.ibm.com\\/products\\/cloud\\u002Dlogs?lnk=flatitem\\x22,\\x22description\\x22:\\x22Logging and observability service for applications and infrastructure\\x22},{\\x22title\\x22:\\x22Instana\\x22,\\x22url\\x22:\\x22https:\\/\\/www.ibm.com\\/products\\/instana?lnk=flatitem\\x22,\\x22description\\x22:\\x22Software for application performance monitoring and automation\\x22},{\\x22title\\x22:\\x22Turbonomic\\x22,\\x22url\\x22:\\x22https:\\/\\/www.ibm.com\\/products\\/turbonomic?lnk=flatitem\\x22,\\x22description\\x22:\\x22Software to manage and optimize IT resource usage\\x22},{\\x22title\\x22:\\x22Z IntelliMagic Vision for z\\/OS\\x22,\\x22url\\x22:\\x22https:\\/\\/www.ibm.com\\/products\\/z\\u002Dintellimagic\\u002Dvision\\u002Dfor\\u002Dzos?lnk=flatitem\\x22,\\x22description\\x22:\\x22Infrastructure performance management and monitoring software\\x22},{\\x22title\\x22:\\x22Z Service Management Suite\\x22,\\x22url\\x22:\\x22https:\\/\\/www.ibm.com\\/products\\/z\\u002Dservice\\u002Dmanagement\\u002Dsuite?lnk=flatitem\\x22,\\x22description\\x22:\\x22Monitoring, control, and automation suite for Z\\x22}]}]},{\\x22heading\\x22:{\\x22title\\x22:\\x22Middleware\\x22,\\x22description\\x22:\\x22Connect your applications, data and events\\x22},\\x22groups\\x22:[{\\x22heading\\x22:{\\x22title\\x22:\\x22\\x22,\\x22description\\x22:\\x22\\x22},\\x22links\\x22:[{\\x22title\\x22:\\x22API Connect\\x22,\\x22url\\x22:\\x22https:\\/\\/www.ibm.com\\/products\\/api\\u002Dconnect?lnk=flatitem\\x22,\\x22description\\x22:\\x22Software to rapidly create, protect, socialize and manage APIs\\x22},{\\x22title\\x22:\\x22App Connect\\x22,\\x22url\\x22:\\x22https:\\/\\/www.ibm.com\\/products\\/app\\u002Dconnect?lnk=flatitem\\x22,\\x22description\\x22:\\x22Codeless connectors for your data, apps and APIs\\x22},{\\x22title\\x22:\\x22Aspera\\x22,\\x22url\\x22:\\x22https:\\/\\/www.ibm.com\\/products\\/aspera?lnk=flatitem\\x22,\\x22description\\x22:\\x22System to transfer, sync or stream huge data globally\\x22},{\\x22title\\x22:\\x22CICS Transaction Server for z\\/OS\\x22,\\x22url\\x22:\\x22https:\\/\\/www.ibm.com\\/products\\/cics\\u002Dtransaction\\u002Dserver?lnk=flatitem\\x22,\\x22description\\x22:\\x22Application server for online transaction processing\\x22},{\\x22title\\x22:\\x22Cloud Pak for Applications\\x22,\\x22url\\x22:\\x22https:\\/\\/www.ibm.com\\/products\\/cloud\\u002Dpak\\u002Dfor\\u002Dapplications?lnk=flatitem\\x22,\\x22description\\x22:\\x22Kubernetes\\u002Dbased platform for hybrid cloud applications\\x22},{\\x22title\\x22:\\x22Cloud Pak for Integration\\x22,\\x22url\\x22:\\x22https:\\/\\/www.ibm.com\\/products\\/cloud\\u002Dpak\\u002Dfor\\u002Dintegration?lnk=flatitem\\x22,\\x22description\\x22:\\x22Tools to connect all of your apps, data and events\\x22},{\\x22title\\x22:\\x22DataPower\\x22,\\x22url\\x22:\\x22https:\\/\\/www.ibm.com\\/products\\/datapower\\u002Dgateway?lnk=flatitem\\x22,\\x22description\\x22:\\x22Physical or virtual multi\\u002Dprotocol network gateway\\x22},{\\x22title\\x22:\\x22Event Streams\\x22,\\x22url\\x22:\\x22https:\\/\\/www.ibm.com\\/products\\/event\\u002Dstreams?lnk=flatitem\\x22,\\x22description\\x22:\\x22PaaS stream processing based on Apache Kafka\\x22},{\\x22title\\x22:\\x22IBM Cloud Messages for RabbitMQ\\x22,\\x22url\\x22:\\x22https:\\/\\/www.ibm.com\\/products\\/messages\\u002Dfor\\u002Drabbitmq?lnk=flatitem\\x22,\\x22description\\x22:\\x22Managed open\\u002Dsource message broker\\x22},{\\x22title\\x22:\\x22IBM webMethods\\x22,\\x22url\\x22:\\x22https:\\/\\/www.ibm.com\\/products\\/webmethods?lnk=flatitem\\x22,\\x22description\\x22:\\x22iPaaS capabilities including app integration, API management, B2B integration and managed file transfer\\x22},{\\x22title\\x22:\\x22Information Management System\\x22,\\x22url\\x22:\\x22https:\\/\\/www.ibm.com\\/products\\/ims?lnk=flatitem\\x22,\\x22description\\x22:\\x22Hierarchical database and transaction processor for Z\\x22},{\\x22title\\x22:\\x22MQ\\x22,\\x22url\\x22:\\x22https:\\/\\/www.ibm.com\\/products\\/mq?lnk=flatitem\\x22,\\x22description\\x22:\\x22Software and hardware for messaging between distributed systems\\x22},{\\x22title\\x22:\\x22z\\/OS Connect\\x22,\\x22url\\x22:\\x22https:\\/\\/www.ibm.com\\/products\\/zos\\u002Dconnect?lnk=flatitem\\x22,\\x22description\\x22:\\x22Software to build and serve RESTful APIs to z\\/OS applications\\x22}]}]},{\\x22heading\\x22:{\\x22title\\x22:\\x22Network\\x22,\\x22url\\x22:\\x22https:\\/\\/www.ibm.com\\/networking?lnk=flathl\\x22,\\x22description\\x22:\\x22Run and manage public, private and virtual networks\\x22},\\x22groups\\x22:[{\\x22heading\\x22:{\\x22title\\x22:\\x22\\x22,\\x22description\\x22:\\x22\\x22},\\x22links\\x22:[{\\x22title\\x22:\\x22Cloud Pak for Network Automation\\x22,\\x22url\\x22:\\x22https:\\/\\/www.ibm.com\\/products\\/cloud\\u002Dpak\\u002Dfor\\u002Dnetwork\\u002Dautomation?lnk=flatitem\\x22,\\x22description\\x22:\\x22Management software for telco network operations\\x22},{\\x22title\\x22:\\x22Hybrid Cloud Mesh\\x22,\\x22url\\x22:\\x22https:\\/\\/www.ibm.com\\/products\\/hybrid\\u002Dcloud\\u002Dmesh?lnk=flatitem\\x22,\\x22description\\x22:\\x22SaaS for deploying and managing hybrid and multicloud networks\\x22},{\\x22title\\x22:\\x22NS1 Connect\\x22,\\x22url\\x22:\\x22https:\\/\\/www.ibm.com\\/products\\/ns1\\u002Dconnect?lnk=flatitem\\x22,\\x22description\\x22:\\x22Authoritative DNS and traffic steering as a service\\x22},{\\x22title\\x22:\\x22Rapid Network Automation\\x22,\\x22url\\x22:\\x22https:\\/\\/www.ibm.com\\/products\\/rapid\\u002Dnetwork\\u002Dautomation?lnk=flatitem\\x22,\\x22description\\x22:\\x22No\\u002Dcode tool to build automation workflows across apps and APIs\\x22},{\\x22title\\x22:\\x22SevOne Network Performance Management\\x22,\\x22url\\x22:\\x22https:\\/\\/www.ibm.com\\/products\\/sevone\\u002Dnetwork\\u002Dperformance\\u002Dmanagement?lnk=flatitem\\x22,\\x22description\\x22:\\x22Software to collect and analyze network performance data\\x22}]}]},{\\x22heading\\x22:{\\x22title\\x22:\\x22Operating systems\\x22,\\x22description\\x22:\\x22Run critical workloads on specialized operating systems\\x22},\\x22groups\\x22:[{\\x22heading\\x22:{\\x22title\\x22:\\x22\\x22,\\x22description\\x22:\\x22\\x22},\\x22links\\x22:[{\\x22title\\x22:\\x22AIX\\x22,\\x22url\\x22:\\x22https:\\/\\/www.ibm.com\\/products\\/aix?lnk=flatitem\\x22,\\x22description\\x22:\\x22UNIX operating system for Power servers\\x22},{\\x22title\\x22:\\x22IBM i\\x22,\\x22url\\x22:\\x22https:\\/\\/www.ibm.com\\/products\\/ibm\\u002Di?lnk=flatitem\\x22,\\x22description\\x22:\\x22Integrated operating system for Power servers\\x22},{\\x22title\\x22:\\x22Linux\\x22,\\x22url\\x22:\\x22https:\\/\\/www.ibm.com\\/linux?lnk=flatitem\\x22,\\x22description\\x22:\\x22Run Linux workloads on IBM servers\\x22},{\\x22title\\x22:\\x22z\\/OS\\x22,\\x22url\\x22:\\x22https:\\/\\/www.ibm.com\\/products\\/zos?lnk=flatitem\\x22,\\x22description\\x22:\\x22Flagship OS for continuous, high\\u002Dvolume mainframe operation\\x22},{\\x22title\\x22:\\x22z\\/TPF\\x22,\\x22url\\x22:\\x22https:\\/\\/www.ibm.com\\/products\\/z\\u002Dtransaction\\u002Dprocessing\\u002Dfacility?lnk=flatitem\\x22,\\x22description\\x22:\\x22Real\\u002Dtime operating system for mainframes\\x22},{\\x22title\\x22:\\x22z\\/VM\\x22,\\x22url\\x22:\\x22https:\\/\\/www.ibm.com\\/products\\/zvm?lnk=flatitem\\x22,\\x22description\\x22:\\x22Hypervisor and virtualization software for IBM Z and LinuxONE\\x22}]}]},{\\x22heading\\x22:{\\x22title\\x22:\\x22Quantum\\x22,\\x22url\\x22:\\x22https:\\/\\/www.ibm.com\\/quantum?lnk=flathl\\x22,\\x22description\\x22:\\x22Run code on real quantum systems using a full\\u002Dstack SDK\\x22},\\x22groups\\x22:[{\\x22heading\\x22:{\\x22title\\x22:\\x22\\x22,\\x22description\\x22:\\x22\\x22},\\x22links\\x22:[{\\x22title\\x22:\\x22Qiskit Runtime\\x22,\\x22url\\x22:\\x22https:\\/\\/www.ibm.com\\/quantum\\/qiskit?lnk=flatitem\\x22,\\x22description\\x22:\\x22Cloud service for executing quantum workloads at scale\\x22},{\\x22title\\x22:\\x22Quantum Safe\\x22,\\x22url\\x22:\\x22https:\\/\\/www.ibm.com\\/quantum\\/quantum\\u002Dsafe?lnk=flatitem\\x22,\\x22description\\x22:\\x22Technology and consulting services for quantum\\u002Dsafe cryptography\\x22},{\\x22title\\x22:\\x22Quantum Systems\\x22,\\x22url\\x22:\\x22https:\\/\\/www.ibm.com\\/quantum\\/technology?lnk=flatitem\\x22,\\x22description\\x22:\\x22Quantum computing systems accessible on the cloud\\x22}]}]},{\\x22heading\\x22:{\\x22title\\x22:\\x22Security \\x26 identity\\x22,\\x22url\\x22:\\x22https:\\/\\/www.ibm.com\\/security?lnk=flathl\\x22,\\x22description\\x22:\\x22Cloud\\u002Dnative software to secure resources and simplify compliance\\x22},\\x22groups\\x22:[{\\x22heading\\x22:{\\x22title\\x22:\\x22\\x22,\\x22description\\x22:\\x22\\x22},\\x22links\\x22:[{\\x22title\\x22:\\x22Cloud AppID\\x22,\\x22url\\x22:\\x22https:\\/\\/www.ibm.com\\/products\\/app\\u002Did?lnk=flatitem\\x22,\\x22description\\x22:\\x22Authentication and user profiles as a service for mobile and web apps\\x22},{\\x22title\\x22:\\x22Cloud Security and Compliance Center\\x22,\\x22url\\x22:\\x22https:\\/\\/www.ibm.com\\/products\\/security\\u002Dand\\u002Dcompliance\\u002Dcenter?lnk=flatitem\\x22,\\x22description\\x22:\\x22SaaS to define and audit the compliance posture of your cloud\\x22},{\\x22title\\x22:\\x22Data Security Broker\\x22,\\x22url\\x22:\\x22https:\\/\\/www.ibm.com\\/products\\/data\\u002Dsecurity\\u002Dbroker?lnk=flatitem\\x22,\\x22description\\x22:\\x22Administrative console to enable data encryption in the cloud\\x22},{\\x22title\\x22:\\x22Guardium\\x22,\\x22url\\x22:\\x22https:\\/\\/www.ibm.com\\/guardium?lnk=flatitem\\x22,\\x22description\\x22:\\x22Suite for data encryption, management and simplified compliance\\x22},{\\x22title\\x22:\\x22Key Protect for IBM Cloud\\x22,\\x22url\\x22:\\x22https:\\/\\/www.ibm.com\\/products\\/key\\u002Dprotect?lnk=flatitem\\x22,\\x22description\\x22:\\x22Tool to provision and store keys for apps across IBM Cloud services\\x22},{\\x22title\\x22:\\x22MaaS360\\x22,\\x22url\\x22:\\x22https:\\/\\/www.ibm.com\\/products\\/maas360?lnk=flatitem\\x22,\\x22description\\x22:\\x22Unified endpoint management for mobile workforces\\x22},{\\x22title\\x22:\\x22QRadar EDR\\x22,\\x22url\\x22:\\x22https:\\/\\/www.ibm.com\\/products\\/qradar\\u002Dedr?lnk=flatitem\\x22,\\x22description\\x22:\\x22Advanced AI threat detection and response for endpoints\\x22},{\\x22title\\x22:\\x22QRadar SIEM\\x22,\\x22url\\x22:\\x22https:\\/\\/www.ibm.com\\/products\\/qradar\\u002Dsiem?lnk=flatitem\\x22,\\x22description\\x22:\\x22Threat detection and prioritization for real\\u002Dtime visibility\\x22},{\\x22title\\x22:\\x22QRadar SOAR\\x22,\\x22url\\x22:\\x22https:\\/\\/www.ibm.com\\/products\\/qradar\\u002Dsoar?lnk=flatitem\\x22,\\x22description\\x22:\\x22Automation and workflow management for security operations\\x22},{\\x22title\\x22:\\x22Trusteer\\x22,\\x22url\\x22:\\x22https:\\/\\/www.ibm.com\\/trusteer?lnk=flatitem\\x22,\\x22description\\x22:\\x22Software to authenticate customers, detect fraud and assess risk\\x22},{\\x22title\\x22:\\x22Verify\\x22,\\x22url\\x22:\\x22https:\\/\\/www.ibm.com\\/verify?lnk=flatitem\\x22,\\x22description\\x22:\\x22Identity, authentication, and access control software\\x22},{\\x22title\\x22:\\x22zSecure\\x22,\\x22url\\x22:\\x22https:\\/\\/www.ibm.com\\/zsecure?lnk=flatitem\\x22,\\x22description\\x22:\\x22Security, risk management and compliance tools for Z hardware\\x22}]}]},{\\x22heading\\x22:{\\x22title\\x22:\\x22Servers\\x22,\\x22url\\x22:\\x22https:\\/\\/www.ibm.com\\/servers?lnk=flathl\\x22,\\x22description\\x22:\\x22Run workloads on hybrid cloud infrastructure\\x22},\\x22groups\\x22:[{\\x22heading\\x22:{\\x22title\\x22:\\x22\\x22,\\x22description\\x22:\\x22\\x22},\\x22links\\x22:[{\\x22title\\x22:\\x22IBM Cloud Bare Metal Servers\\x22,\\x22url\\x22:\\x22https:\\/\\/www.ibm.com\\/products\\/bare\\u002Dmetal\\u002Dservers?lnk=flatitem\\x22,\\x22description\\x22:\\x22Dedicated hardware for maximum performance\\x22},{\\x22title\\x22:\\x22IBM Cloud Virtual Servers for VPC\\x22,\\x22url\\x22:\\x22https:\\/\\/www.ibm.com\\/products\\/virtual\\u002Dservers?lnk=flatitem\\x22,\\x22description\\x22:\\x22Virtual servers with Intel Xeon or IBM Z CPUs\\x22},{\\x22title\\x22:\\x22LinuxONE 4\\x22,\\x22url\\x22:\\x22https:\\/\\/www.ibm.com\\/products\\/linuxone\\u002D4?lnk=flatitem\\x22,\\x22description\\x22:\\x22Physical and virtual servers for running Linux\\x22},{\\x22title\\x22:\\x22Power\\x22,\\x22url\\x22:\\x22https:\\/\\/www.ibm.com\\/power?lnk=flatitem\\x22,\\x22description\\x22:\\x22Physical and virtual servers with IBM Power CPUs\\x22},{\\x22title\\x22:\\x22z16\\x22,\\x22url\\x22:\\x22https:\\/\\/www.ibm.com\\/products\\/z16?lnk=flatitem\\x22,\\x22description\\x22:\\x22Flagship mainframe with on\\u002Dchip AI and quantum\\u002Dsafe cryptography\\x22}]}]},{\\x22heading\\x22:{\\x22title\\x22:\\x22Storage\\x22,\\x22url\\x22:\\x22https:\\/\\/www.ibm.com\\/storage?lnk=flathl\\x22,\\x22description\\x22:\\x22Software, hardware and services for critical and operational workloads and data\\x22},\\x22groups\\x22:[{\\x22heading\\x22:{\\x22title\\x22:\\x22\\x22,\\x22description\\x22:\\x22\\x22},\\x22links\\x22:[{\\x22title\\x22:\\x22Ceph\\x22,\\x22url\\x22:\\x22https:\\/\\/www.ibm.com\\/products\\/storage\\u002Dceph?lnk=flatitem\\x22,\\x22description\\x22:\\x22Multi\\u002Dprotocol software\\u002Ddefined enterprise storage platform\\x22},{\\x22title\\x22:\\x22Cloud Block Storage\\x22,\\x22url\\x22:\\x22https:\\/\\/www.ibm.com\\/products\\/block\\u002Dstorage?lnk=flatitem\\x22,\\x22description\\x22:\\x22Managed service optimized for low latency and high transfer rates\\x22},{\\x22title\\x22:\\x22Cloud File Storage\\x22,\\x22url\\x22:\\x22https:\\/\\/www.ibm.com\\/products\\/file\\u002Dstorage?lnk=flatitem\\x22,\\x22description\\x22:\\x22Managed service for flash\\u002Dbacked, durable, NFS\\u002Dbased file storage\\x22},{\\x22title\\x22:\\x22Cloud Object Storage\\x22,\\x22url\\x22:\\x22https:\\/\\/www.ibm.com\\/products\\/cloud\\u002Dobject\\u002Dstorage?lnk=flatitem\\x22,\\x22description\\x22:\\x22Unstructured data storage accessible via cloud APIs\\x22},{\\x22title\\x22:\\x22DS8000\\x22,\\x22url\\x22:\\x22https:\\/\\/www.ibm.com\\/products\\/ds8000?lnk=flatitem\\x22,\\x22description\\x22:\\x22High\\u002Dcapacity, high\\u002Davailability mainframe storage system\\x22},{\\x22title\\x22:\\x22Defender\\x22,\\x22url\\x22:\\x22https:\\/\\/www.ibm.com\\/products\\/storage\\u002Ddefender?lnk=flatitem\\x22,\\x22description\\x22:\\x22Data resiliency software for threat detection and data recovery\\x22},{\\x22title\\x22:\\x22FlashSystem\\x22,\\x22url\\x22:\\x22https:\\/\\/www.ibm.com\\/flashsystem?lnk=flatitem\\x22,\\x22description\\x22:\\x22All\\u002Dflash array with performance and capacity for any workload\\x22},{\\x22title\\x22:\\x22Fusion\\x22,\\x22url\\x22:\\x22https:\\/\\/www.ibm.com\\/products\\/storage\\u002Dfusion?lnk=flatitem\\x22,\\x22description\\x22:\\x22Container\\u002Dnative storage and data orchestration for OpenShift\\x22},{\\x22title\\x22:\\x22Insights\\x22,\\x22url\\x22:\\x22https:\\/\\/www.ibm.com\\/products\\/storage\\u002Dinsights?lnk=flatitem\\x22,\\x22description\\x22:\\x22Storage AIOps for metrics\\u002Dpowered analysis and decisions\\x22},{\\x22title\\x22:\\x22Protect\\x22,\\x22url\\x22:\\x22https:\\/\\/www.ibm.com\\/products\\/storage\\u002Dprotect?lnk=flatitem\\x22,\\x22description\\x22:\\x22Data resiliency, backup and recovery delivered via SaaS\\x22},{\\x22title\\x22:\\x22Protect for Cloud\\x22,\\x22url\\x22:\\x22https:\\/\\/www.ibm.com\\/products\\/storage\\u002Dprotect\\u002Dfor\\u002Dcloud?lnk=flatitem\\x22,\\x22description\\x22:\\x22Backup and recovery SaaS for data in public cloud services\\x22},{\\x22title\\x22:\\x22SAN Switches\\x22,\\x22url\\x22:\\x22https:\\/\\/www.ibm.com\\/storage\\u002Darea\\u002Dnetwork?lnk=flatitem\\x22,\\x22description\\x22:\\x22Scalable and highly available storage area network solutions\\x22},{\\x22title\\x22:\\x22Scale\\x22,\\x22url\\x22:\\x22https:\\/\\/www.ibm.com\\/products\\/storage\\u002Dscale?lnk=flatitem\\x22,\\x22description\\x22:\\x22Software defined storage for AI and high performance workloads\\x22},{\\x22title\\x22:\\x22Scale System\\x22,\\x22url\\x22:\\x22https:\\/\\/www.ibm.com\\/products\\/storage\\u002Dscale\\u002Dsystem?lnk=flatitem\\x22,\\x22description\\x22:\\x22All\\u002Dflash or hybrid performant storage for cloud scale use\\u002Dcases\\x22},{\\x22title\\x22:\\x22Tape Systems\\x22,\\x22url\\x22:\\x22https:\\/\\/www.ibm.com\\/tape\\u002Dstorage?lnk=flatitem\\x22,\\x22description\\x22:\\x22Software and hardware for encrypted and air\\u002Dgapped archives\\x22}]}]},{\\x22heading\\x22:{\\x22title\\x22:\\x22Supply chain\\x22,\\x22url\\x22:\\x22https:\\/\\/www.ibm.com\\/supply\\u002Dchain?lnk=flathl\\x22,\\x22description\\x22:\\x22Manage the flow of goods and services\\x22},\\x22groups\\x22:[{\\x22heading\\x22:{\\x22title\\x22:\\x22\\x22,\\x22description\\x22:\\x22\\x22},\\x22links\\x22:[{\\x22title\\x22:\\x22Sterling Order and Fulfillment Suite\\x22,\\x22url\\x22:\\x22https:\\/\\/www.ibm.com\\/products\\/order\\u002Dfulfillment\\u002Dsuite?lnk=flatitem\\x22,\\x22description\\x22:\\x22Complete order management system with AI and machine learning\\x22},{\\x22title\\x22:\\x22Sterling Supply Chain Intelligence Suite\\x22,\\x22url\\x22:\\x22https:\\/\\/www.ibm.com\\/products\\/supply\\u002Dchain\\u002Dintelligence\\u002Dsuite?lnk=flatitem\\x22,\\x22description\\x22:\\x22Software for supply chain optimization and automation\\x22}]}]}],\\x22viewAll\\x22:{\\x22title\\x22:\\x22View all products\\x22,\\x22url\\x22:\\x22https:\\/\\/www.ibm.com\\/products\\x22}}},{\\x22title\\x22:\\x22Consulting\\x22,\\x22url\\x22:\\x22https:\\/\\/www.ibm.com\\/consulting?lnk=L0G\\x22},{\\x22title\\x22:\\x22Support\\x22,\\x22url\\x22:\\x22\\x22,\\x22submenu\\x22:{\\x22sections\\x22:[{\\x22heading\\x22:{\\x22title\\x22:\\x22\\x22,\\x22description\\x22:\\x22\\x22},\\x22groups\\x22:[{\\x22heading\\x22:{\\x22title\\x22:\\x22What\\x27s New\\x22,\\x22url\\x22:\\x22https:\\/\\/www.ibm.com\\/new?lnk=flathl\\x22,\\x22description\\x22:\\x22\\x22},\\x22links\\x22:[]},{\\x22heading\\x22:{\\x22title\\x22:\\x22Community\\x22,\\x22url\\x22:\\x22https:\\/\\/community.ibm.com\\/community\\/user\\/community?lnk=flathl\\x22,\\x22description\\x22:\\x22\\x22},\\x22links\\x22:[]},{\\x22heading\\x22:{\\x22title\\x22:\\x22Developer\\x22,\\x22url\\x22:\\x22https:\\/\\/developer.ibm.com\\/?lnk=flathl\\x22,\\x22description\\x22:\\x22\\x22},\\x22links\\x22:[{\\x22title\\x22:\\x22Call for Code\\x22,\\x22url\\x22:\\x22https:\\/\\/developer.ibm.com\\/callforcode\\/?lnk=flatitem\\x22},{\\x22title\\x22:\\x22Generative AI\\x22,\\x22url\\x22:\\x22https:\\/\\/developer.ibm.com\\/generative\\u002Dai\\u002Dfor\\u002Ddevelopers\\/?lnk=flatitem\\x22},{\\x22title\\x22:\\x22Open Source @ IBM\\x22,\\x22url\\x22:\\x22https:\\/\\/www.ibm.com\\/opensource\\/?lnk=flatitem\\x22},{\\x22title\\x22:\\x22Products\\x22,\\x22url\\x22:\\x22https:\\/\\/developer.ibm.com\\/components\\/?lnk=flatitem\\x22},{\\x22title\\x22:\\x22Technologies\\x22,\\x22url\\x22:\\x22https:\\/\\/developer.ibm.com\\/technologies\\/?lnk=flatitem\\x22}]},{\\x22heading\\x22:{\\x22title\\x22:\\x22Documentation\\x22,\\x22url\\x22:\\x22https:\\/\\/www.ibm.com\\/docs\\/en?lnk=flathl\\x22,\\x22description\\x22:\\x22\\x22},\\x22links\\x22:[{\\x22title\\x22:\\x22All product documentation\\x22,\\x22url\\x22:\\x22https:\\/\\/www.ibm.com\\/docs\\/en?lnk=flatitem\\x22},{\\x22title\\x22:\\x22IBM Cloud documentation\\x22,\\x22url\\x22:\\x22https:\\/\\/cloud.ibm.com\\/docs?lnk=flatitem\\x22},{\\x22title\\x22:\\x22IBM Redbooks\\x22,\\x22url\\x22:\\x22https:\\/\\/www.redbooks.ibm.com\\/?lnk=flatitem\\x22}]},{\\x22heading\\x22:{\\x22title\\x22:\\x22IBM Cloud platform support\\x22,\\x22url\\x22:\\x22https:\\/\\/www.ibm.com\\/cloud\\/support?lnk=flathl\\x22,\\x22description\\x22:\\x22\\x22},\\x22links\\x22:[]},{\\x22heading\\x22:{\\x22title\\x22:\\x22Implementation\\x22,\\x22description\\x22:\\x22\\x22},\\x22links\\x22:[{\\x22title\\x22:\\x22Expert Labs\\x22,\\x22url\\x22:\\x22https:\\/\\/www.ibm.com\\/products\\/expertlabs?lnk=flatitem\\x22}]},{\\x22heading\\x22:{\\x22title\\x22:\\x22Support\\x22,\\x22url\\x22:\\x22https:\\/\\/www.ibm.com\\/mysupport\\/s\\/?language=en_US\\x26lnk=flathl\\x22,\\x22description\\x22:\\x22\\x22},\\x22links\\x22:[{\\x22title\\x22:\\x22Download fixes, updates \\x26 drivers\\x22,\\x22url\\x22:\\x22https:\\/\\/www.ibm.com\\/support\\/fixcentral?lnk=flatitem\\x22},{\\x22title\\x22:\\x22Download licensed software \\u002D Passport Advantage\\x22,\\x22url\\x22:\\x22https:\\/\\/www.ibm.com\\/software\\/passportadvantage\\/pao_customer.html?lnk=flatitem\\x22},{\\x22title\\x22:\\x22IBM Software Licensing\\x22,\\x22url\\x22:\\x22https:\\/\\/www.ibm.com\\/about\\/software\\u002Dlicensing\\/?lnk=flatitem\\x22},{\\x22title\\x22:\\x22Open a case\\x22,\\x22url\\x22:\\x22https:\\/\\/www.ibm.com\\/mysupport\\/s\\/redirecttoopencasepage?lnk=flatitem\\x22},{\\x22title\\x22:\\x22View more\\x22,\\x22url\\x22:\\x22https:\\/\\/www.ibm.com\\/mysupport\\/s\\/?language=en_US\\x26lnk=flatitem\\x22},{\\x22title\\x22:\\x22View support plans\\x22,\\x22url\\x22:\\x22https:\\/\\/www.ibm.com\\/support\\/pages\\/ibm\\u002Dsupport\\u002Dofferings?lnk=flatitem\\x22},{\\x22title\\x22:\\x22View your cases\\x22,\\x22url\\x22:\\x22https:\\/\\/www.ibm.com\\/mysupport\\/s\\/my\\u002Dcases?lnk=flatitem\\x22}]},{\\x22heading\\x22:{\\x22title\\x22:\\x22Technology Lifecycle Services\\x22,\\x22url\\x22:\\x22https:\\/\\/www.ibm.com\\/services\\/technology\\u002Dlifecycle\\u002Dservices?lnk=flathl\\x22,\\x22description\\x22:\\x22\\x22},\\x22links\\x22:[{\\x22title\\x22:\\x22Enterprise networking and security\\x22,\\x22url\\x22:\\x22https:\\/\\/www.ibm.com\\/services\\/networking\\u002Dsupport?lnk=flatitem\\x22},{\\x22title\\x22:\\x22Servers and storage\\x22,\\x22url\\x22:\\x22https:\\/\\/www.ibm.com\\/services\\/systems\\u002Dsupport?lnk=flatitem\\x22},{\\x22title\\x22:\\x22Software\\x22,\\x22url\\x22:\\x22https:\\/\\/www.ibm.com\\/services\\/software\\u002Dsupport?lnk=flatitem\\x22}]},{\\x22heading\\x22:{\\x22title\\x22:\\x22Training\\x22,\\x22url\\x22:\\x22https:\\/\\/www.ibm.com\\/training\\/?lnk=flathl\\x22,\\x22description\\x22:\\x22\\x22},\\x22links\\x22:[{\\x22title\\x22:\\x22Courses\\x22,\\x22url\\x22:\\x22https:\\/\\/www.ibm.com\\/training\\/search?q=course\\x26lnk=flatitem\\x22},{\\x22title\\x22:\\x22Digital learning subscriptions\\x22,\\x22url\\x22:\\x22https:\\/\\/www.ibm.com\\/training\\/subscriptions?lnk=flatitem\\x22},{\\x22title\\x22:\\x22Learning paths \\x26 collections\\x22,\\x22url\\x22:\\x22https:\\/\\/www.ibm.com\\/training\\/learning\\u002Dpaths\\u002Dand\\u002Dcollections?lnk=flatitem\\x22},{\\x22title\\x22:\\x22Professional certifications\\x22,\\x22url\\x22:\\x22https:\\/\\/www.ibm.com\\/training\\/credentials?lnk=flatitem\\x22}]}]}],\\x22viewAll\\x22:{\\x22title\\x22:\\x22\\x22,\\x22url\\x22:\\x22\\x22}}},{\\x22title\\x22:\\x22Think\\x22,\\x22url\\x22:\\x22https:\\/\\/www.ibm.com\\/think?lnk=L0G\\x22}]}}\";\n",
      "    const searchPlaceholderText = \"Search all of IBM\";\n",
      "    const links = JSON.parse(l0Json).mastheadNav.links;\n",
      "    const unAuthenticated = JSON.parse(l0Json).profileMenu.signedout;\n",
      "    const authenticated = JSON.parse(l0Json).profileMenu.signedin;\n",
      "\n",
      "    const mastheadContainerEl = document.querySelector('c4d-masthead-container');\n",
      "\n",
      "    mastheadContainerEl.navLinks = links;\n",
      "    mastheadContainerEl.unauthenticatedProfileItems = unAuthenticated;\n",
      "    mastheadContainerEl.authenticatedProfileItems = authenticated;\n",
      "\n",
      "    const appendSearchPlaceholderText = () => {\n",
      "        const typeheadEl = mastheadContainerEl.querySelector('c4d-search-with-typeahead');\n",
      "        if (typeheadEl) {\n",
      "            typeheadEl.searchPlaceholder = searchPlaceholderText;\n",
      "            observer.disconnect();\n",
      "        }\n",
      "    }\n",
      "    let observer = new MutationObserver(appendSearchPlaceholderText);\n",
      "    observer.observe(mastheadContainerEl, {subtree: true, childList: true});\n",
      "      </script>\n",
      "      <script type=\"text/javascript\">\n",
      "       if(window.location.href.includes(\"/careers\")){\n",
      "       document.querySelector('c4d-masthead-container').setAttribute(\"has-search\",\"false\");\n",
      "       document.querySelector('c4d-masthead-container').setAttribute(\"has-profile\",\"false\");\n",
      "    }\n",
      "      </script>\n",
      "     </div>\n",
      "     <div class=\"container responsivegrid\">\n",
      "      <div class=\"cmp-container\" id=\"container-35bfd5ef7a\">\n",
      "      </div>\n",
      "     </div>\n",
      "     <div class=\"leadspace-container container responsivegrid\">\n",
      "      <div class=\"cmp-container\" id=\"leadspace-container-1e918979ca\">\n",
      "       <div class=\"leadspace-expanded leadspace\">\n",
      "        <section class=\"cds--grid theme-white leadspace-expanded__container leadspace-expanded__container--tall leadspace-expanded__container--aside\">\n",
      "         <div class=\"cds--row leadspace-expanded__row\">\n",
      "          <div class=\"cds--col-lg-6 leadspace-expanded__column leadspace-expanded__column--content\">\n",
      "           <div>\n",
      "            <div class=\"leadspace-expanded__navigation leadspace-expanded__navigation--tags\">\n",
      "            </div>\n",
      "            <h1 class=\"leadspace-expanded__heading display-01\" id=\"leadspaceSimpleTitle\">\n",
      "             <span class=\"enhanced-title text-color-gradient-90-blue-to-magenta\">\n",
      "              Drive growth without interruption\n",
      "             </span>\n",
      "            </h1>\n",
      "           </div>\n",
      "           <div>\n",
      "            <span class=\"lead-in\">\n",
      "             <p>\n",
      "              Strengthen supply chains and unleash a new year of opportunities with generative AI\n",
      "             </p>\n",
      "            </span>\n",
      "            <c4d-button-group class=\"leadspace-expanded__action leadspace-expanded__action--button-group\">\n",
      "             <c4d-button-group-item cta-type=\"local\" data-aem-autoid=\"aem--leadspace_cta-0\" data-video-modal-type=\"media-center\" href=\"https://www.ibm.com/thought-leadership/institute-business-value/report/supply-chain-ai?lnk=hpUSls1\" kind=\"primary\" target=\"_self\">\n",
      "              <span>\n",
      "               Read the AI supply chain report\n",
      "              </span>\n",
      "             </c4d-button-group-item>\n",
      "             <script defer=\"\" src=\"/etc.clientlibs/adobe-cms/clientlibs/clientlib-button.lc-0674ea6b2f501e2d5ce9c07366ad99d2-lc.min.js\">\n",
      "             </script>\n",
      "             <c4d-button-group-item cta-type=\"local\" data-aem-autoid=\"aem--leadspace_cta-1\" data-video-modal-type=\"media-center\" href=\"https://www.ibm.com/think/insights/ai-skills-you-need-for-2025?lnk=hpUSls2\" kind=\"tertiary\" target=\"_self\">\n",
      "              <span>\n",
      "               Learn essential AI skills for 2025\n",
      "              </span>\n",
      "             </c4d-button-group-item>\n",
      "            </c4d-button-group>\n",
      "           </div>\n",
      "          </div>\n",
      "          <div class=\"cds--col-lg-8 leadspace-expanded__column leadspace-expanded__column--media\">\n",
      "           <div class=\"leadspace-expanded__column-inner\">\n",
      "            <c4d-image alt=\"Stack of colorful shipping containers\" caption-alignment=\"left\" class=\"\" default-src=\"/content/dam/connectedassets-adobe-cms/worldwide-content/pm/ul/g/da/d0/set01-v03-opt02-ai4b-dco_native-supply_chain.component.crop-5by4-xl.ts=1736864607156.jpg/content/adobe-cms/us/en/homepage/jcr:content/root/leadspace_container/leadspace_expanded\" id=\"image--1253788689\">\n",
      "             <c4d-image-item media=\"(min-width: 1312px) and (min-resolution: 192dpi)\" srcset=\"/content/dam/connectedassets-adobe-cms/worldwide-content/pm/ul/g/da/d0/set01-v03-opt02-ai4b-dco_native-supply_chain.component.crop-5by4-xl-retina.ts=1736864607156.jpg/content/adobe-cms/us/en/homepage/jcr:content/root/leadspace_container/leadspace_expanded\">\n",
      "             </c4d-image-item>\n",
      "             <c4d-image-item media=\"(min-width: 1312px)\" srcset=\"/content/dam/connectedassets-adobe-cms/worldwide-content/pm/ul/g/da/d0/set01-v03-opt02-ai4b-dco_native-supply_chain.component.crop-5by4-xl.ts=1736864607156.jpg/content/adobe-cms/us/en/homepage/jcr:content/root/leadspace_container/leadspace_expanded\">\n",
      "             </c4d-image-item>\n",
      "             <c4d-image-item media=\"(min-width: 1056px) and (min-resolution: 192dpi)\" srcset=\"/content/dam/connectedassets-adobe-cms/worldwide-content/pm/ul/g/da/d0/set01-v03-opt02-ai4b-dco_native-supply_chain.component.crop-5by4-l-retina.ts=1736864607156.jpg/content/adobe-cms/us/en/homepage/jcr:content/root/leadspace_container/leadspace_expanded\">\n",
      "             </c4d-image-item>\n",
      "             <c4d-image-item media=\"(min-width: 1056px)\" srcset=\"/content/dam/connectedassets-adobe-cms/worldwide-content/pm/ul/g/da/d0/set01-v03-opt02-ai4b-dco_native-supply_chain.component.crop-5by4-l.ts=1736864607156.jpg/content/adobe-cms/us/en/homepage/jcr:content/root/leadspace_container/leadspace_expanded\">\n",
      "             </c4d-image-item>\n",
      "             <c4d-image-item media=\"(min-width: 672px) and (min-resolution: 192dpi)\" srcset=\"/content/dam/connectedassets-adobe-cms/worldwide-content/pm/ul/g/da/d0/set01-v03-opt02-ai4b-dco_native-supply_chain.component.crop-5by4-m-retina.ts=1736864607156.jpg/content/adobe-cms/us/en/homepage/jcr:content/root/leadspace_container/leadspace_expanded\">\n",
      "             </c4d-image-item>\n",
      "             <c4d-image-item media=\"(min-width: 672px)\" srcset=\"/content/dam/connectedassets-adobe-cms/worldwide-content/pm/ul/g/da/d0/set01-v03-opt02-ai4b-dco_native-supply_chain.component.crop-5by4-m.ts=1736864607156.jpg/content/adobe-cms/us/en/homepage/jcr:content/root/leadspace_container/leadspace_expanded\">\n",
      "             </c4d-image-item>\n",
      "             <c4d-image-item media=\"(min-width: 481px) and (min-resolution: 192dpi)\" srcset=\"/content/dam/connectedassets-adobe-cms/worldwide-content/pm/ul/g/da/d0/set01-v03-opt02-ai4b-dco_native-supply_chain.component.crop-5by4-s-retina.ts=1736864607156.jpg/content/adobe-cms/us/en/homepage/jcr:content/root/leadspace_container/leadspace_expanded\">\n",
      "             </c4d-image-item>\n",
      "             <c4d-image-item media=\"(min-width: 481px)\" srcset=\"/content/dam/connectedassets-adobe-cms/worldwide-content/pm/ul/g/da/d0/set01-v03-opt02-ai4b-dco_native-supply_chain.component.crop-5by4-s.ts=1736864607156.jpg/content/adobe-cms/us/en/homepage/jcr:content/root/leadspace_container/leadspace_expanded\">\n",
      "             </c4d-image-item>\n",
      "             <c4d-image-item media=\"(max-width: 480px) and (min-resolution: 192dpi)\" srcset=\"/content/dam/connectedassets-adobe-cms/worldwide-content/pm/ul/g/da/d0/set01-v03-opt02-ai4b-dco_native-supply_chain.component.crop-5by4-xs-retina.ts=1736864607156.jpg/content/adobe-cms/us/en/homepage/jcr:content/root/leadspace_container/leadspace_expanded\">\n",
      "             </c4d-image-item>\n",
      "             <c4d-image-item media=\"(max-width: 480px)\" srcset=\"/content/dam/connectedassets-adobe-cms/worldwide-content/pm/ul/g/da/d0/set01-v03-opt02-ai4b-dco_native-supply_chain.component.crop-5by4-xs.ts=1736864607156.jpg/content/adobe-cms/us/en/homepage/jcr:content/root/leadspace_container/leadspace_expanded\">\n",
      "             </c4d-image-item>\n",
      "             <script defer=\"\" src=\"/etc.clientlibs/adobe-cms/clientlibs/clientlib-image.lc-2f7b1dff9d439f35114367fc8cf5ef2e-lc.min.js\">\n",
      "             </script>\n",
      "            </c4d-image>\n",
      "           </div>\n",
      "          </div>\n",
      "          <div class=\"cds--col-lg-2 leadspace-expanded__column leadspace-expanded__column--aside\">\n",
      "           <div class=\"leadspace-expanded__column-inner\">\n",
      "            <c4d-link-list class=\"newsfeed\">\n",
      "             <c4d-link-list-heading aria-level=\"4\" role=\"heading\" slot=\"heading\">\n",
      "              Latest news\n",
      "             </c4d-link-list-heading>\n",
      "             <c4d-link-list-item aria-label=\"Walmart GoLocal and IBM Collaboration Makes Last-Mile Delivery Easier for Retailers\" class=\"newsfeed__item\" cta-type=\"local\" href=\"https://newsroom.ibm.com/2024-01-13-walmart-golocal-and-ibm-collaboration-makes-last-mile-delivery-easier-for-retailers\">\n",
      "              <p>\n",
      "               Walmart GoLocal and IBM Collaboration Makes Last-Mile Delivery Easier for Retailers\n",
      "              </p>\n",
      "              <c4d-card-footer cta-type=\"local\" href=\"https://newsroom.ibm.com/2024-01-13-walmart-golocal-and-ibm-collaboration-makes-last-mile-delivery-easier-for-retailers\" target=\"_self\">\n",
      "               <span class=\"ibm_icon_arrowright_local cds--card__cta c4d-ce--cta__icon\" slot=\"icon\">\n",
      "               </span>\n",
      "              </c4d-card-footer>\n",
      "              <span class=\"ibm_icon_arrowright_local cds--card__cta c4d-ce--cta__icon\" slot=\"icon\">\n",
      "              </span>\n",
      "             </c4d-link-list-item>\n",
      "             <script defer=\"\" src=\"/etc.clientlibs/adobe-cms/clientlibs/clientlib-link-list.lc-73a34480821f3445e81b38350ea04e32-lc.min.js\">\n",
      "             </script>\n",
      "             <script defer=\"\" src=\"/etc.clientlibs/adobe-cms/clientlibs/clientlib-card.lc-0e61f269df10f01256e1e779b5474cd3-lc.min.js\">\n",
      "             </script>\n",
      "             <c4d-link-list-item aria-label=\"RISE with SAP on IBM Power Virtual Server to Help Accelerate Transformation with SAP S/4HANA Cloud\" class=\"newsfeed__item\" cta-type=\"local\" href=\"https://newsroom.ibm.com/2025-01-07-RISE-with-SAP-on-IBM-Power-Virtual-Server-to-Help-Accelerate-Transformation-with-SAP-S-4HANA\">\n",
      "              <p>\n",
      "               RISE with SAP on IBM Power Virtual Server to Help Accelerate Transformation with SAP S/4HANA Cloud\n",
      "              </p>\n",
      "              <c4d-card-footer cta-type=\"local\" href=\"https://newsroom.ibm.com/2025-01-07-RISE-with-SAP-on-IBM-Power-Virtual-Server-to-Help-Accelerate-Transformation-with-SAP-S-4HANA\" target=\"_self\">\n",
      "               <span class=\"ibm_icon_arrowright_local cds--card__cta c4d-ce--cta__icon\" slot=\"icon\">\n",
      "               </span>\n",
      "              </c4d-card-footer>\n",
      "              <span class=\"ibm_icon_arrowright_local cds--card__cta c4d-ce--cta__icon\" slot=\"icon\">\n",
      "              </span>\n",
      "             </c4d-link-list-item>\n",
      "             <c4d-link-list-item aria-label=\"IBM Study: AI Spending Expected to Surge 52% Beyond IT Budgets as Retail Brands Embrace Enterprise-Wide Innovation\" class=\"newsfeed__item\" cta-type=\"local\" href=\"https://newsroom.ibm.com/2025-01-07-ibm-study-ai-spending-expected-to-surge-52-beyond-it-budgets-as-retail-brands-embrace-enterprise-wide-innovation\">\n",
      "              <p>\n",
      "               IBM Study: AI Spending Expected to Surge 52% Beyond IT Budgets as Retail Brands Embrace Enterprise-Wide Innovation\n",
      "              </p>\n",
      "              <c4d-card-footer cta-type=\"local\" href=\"https://newsroom.ibm.com/2025-01-07-ibm-study-ai-spending-expected-to-surge-52-beyond-it-budgets-as-retail-brands-embrace-enterprise-wide-innovation\" target=\"_self\">\n",
      "               <span class=\"ibm_icon_arrowright_local cds--card__cta c4d-ce--cta__icon\" slot=\"icon\">\n",
      "               </span>\n",
      "              </c4d-card-footer>\n",
      "              <span class=\"ibm_icon_arrowright_local cds--card__cta c4d-ce--cta__icon\" slot=\"icon\">\n",
      "              </span>\n",
      "             </c4d-link-list-item>\n",
      "             <c4d-link-list-item aria-label=\"GlobalFoundries and IBM Announce Settlement and Resolution of All Litigation Matters\" class=\"newsfeed__item\" cta-type=\"local\" href=\"https://newsroom.ibm.com/2025-01-02-GlobalFoundries-and-IBM-Announce-Settlement-and-Resolution-of-All-Litigation-Matters\">\n",
      "              <p>\n",
      "               GlobalFoundries and IBM Announce Settlement and Resolution of All Litigation Matters\n",
      "              </p>\n",
      "              <c4d-card-footer cta-type=\"local\" href=\"https://newsroom.ibm.com/2025-01-02-GlobalFoundries-and-IBM-Announce-Settlement-and-Resolution-of-All-Litigation-Matters\" target=\"_self\">\n",
      "               <span class=\"ibm_icon_arrowright_local cds--card__cta c4d-ce--cta__icon\" slot=\"icon\">\n",
      "               </span>\n",
      "              </c4d-card-footer>\n",
      "              <span class=\"ibm_icon_arrowright_local cds--card__cta c4d-ce--cta__icon\" slot=\"icon\">\n",
      "              </span>\n",
      "             </c4d-link-list-item>\n",
      "             <c4d-link-list-item aria-label=\"IBM Study: More Companies Turning to Open-Source AI Tools to Unlock ROI\" class=\"newsfeed__item\" cta-type=\"local\" href=\"https://newsroom.ibm.com/2024-12-19-IBM-Study-More-Companies-Turning-to-Open-Source-AI-Tools-to-Unlock-ROI\">\n",
      "              <p>\n",
      "               IBM Study: More Companies Turning to Open-Source AI Tools to Unlock ROI\n",
      "              </p>\n",
      "              <c4d-card-footer cta-type=\"local\" href=\"https://newsroom.ibm.com/2024-12-19-IBM-Study-More-Companies-Turning-to-Open-Source-AI-Tools-to-Unlock-ROI\" target=\"_self\">\n",
      "               <span class=\"ibm_icon_arrowright_local cds--card__cta c4d-ce--cta__icon\" slot=\"icon\">\n",
      "               </span>\n",
      "              </c4d-card-footer>\n",
      "              <span class=\"ibm_icon_arrowright_local cds--card__cta c4d-ce--cta__icon\" slot=\"icon\">\n",
      "              </span>\n",
      "             </c4d-link-list-item>\n",
      "             <c4d-link-list-item aria-label=\"Lockheed Martin Adds IBM Granite to its Suite of Next-Generation AI Factory Tools\" class=\"newsfeed__item\" cta-type=\"local\" href=\"https://newsroom.ibm.com/2024-12-18-lockheed-martin-adds-ibm-granite-to-its-suite-of-next-generation-ai-factory-tools\">\n",
      "              <p>\n",
      "               Lockheed Martin Adds IBM Granite to its Suite of Next-Generation AI Factory Tools\n",
      "              </p>\n",
      "              <c4d-card-footer cta-type=\"local\" href=\"https://newsroom.ibm.com/2024-12-18-lockheed-martin-adds-ibm-granite-to-its-suite-of-next-generation-ai-factory-tools\" target=\"_self\">\n",
      "               <span class=\"ibm_icon_arrowright_local cds--card__cta c4d-ce--cta__icon\" slot=\"icon\">\n",
      "               </span>\n",
      "              </c4d-card-footer>\n",
      "              <span class=\"ibm_icon_arrowright_local cds--card__cta c4d-ce--cta__icon\" slot=\"icon\">\n",
      "              </span>\n",
      "             </c4d-link-list-item>\n",
      "             <c4d-link-list-item aria-label=\"New York Emerging Technology Advisory Board Publishes First Report Outlining Vision to Elevate Leadership in AI\" class=\"newsfeed__item\" cta-type=\"local\" href=\"https://newsroom.ibm.com/2024-12-12-new-york-emerging-technology-advisory-board-publishes-first-report-outlining-vision-to-elevate-leadership-in-ai\">\n",
      "              <p>\n",
      "               New York Emerging Technology Advisory Board Publishes First Report Outlining Vision to Elevate Leadership in AI\n",
      "              </p>\n",
      "              <c4d-card-footer cta-type=\"local\" href=\"https://newsroom.ibm.com/2024-12-12-new-york-emerging-technology-advisory-board-publishes-first-report-outlining-vision-to-elevate-leadership-in-ai\" target=\"_self\">\n",
      "               <span class=\"ibm_icon_arrowright_local cds--card__cta c4d-ce--cta__icon\" slot=\"icon\">\n",
      "               </span>\n",
      "              </c4d-card-footer>\n",
      "              <span class=\"ibm_icon_arrowright_local cds--card__cta c4d-ce--cta__icon\" slot=\"icon\">\n",
      "              </span>\n",
      "             </c4d-link-list-item>\n",
      "             <c4d-link-list-item aria-label=\"IBM and State of Illinois to Build National Quantum Algorithm Center in Chicago with Universities and Industries\" class=\"newsfeed__item\" cta-type=\"local\" href=\"https://newsroom.ibm.com/2024-12-12-ibm-and-state-of-illinois-to-build-national-quantum-algorithm-center-in-chicago-with-universities-and-industries\">\n",
      "              <p>\n",
      "               IBM and State of Illinois to Build National Quantum Algorithm Center in Chicago with Universities and Industries\n",
      "              </p>\n",
      "              <c4d-card-footer cta-type=\"local\" href=\"https://newsroom.ibm.com/2024-12-12-ibm-and-state-of-illinois-to-build-national-quantum-algorithm-center-in-chicago-with-universities-and-industries\" target=\"_self\">\n",
      "               <span class=\"ibm_icon_arrowright_local cds--card__cta c4d-ce--cta__icon\" slot=\"icon\">\n",
      "               </span>\n",
      "              </c4d-card-footer>\n",
      "              <span class=\"ibm_icon_arrowright_local cds--card__cta c4d-ce--cta__icon\" slot=\"icon\">\n",
      "              </span>\n",
      "             </c4d-link-list-item>\n",
      "             <script src=\"/etc.clientlibs/adobe-cms/clientlibs/clientlib-leadspace.lc-538acad932ef6c706d94d00875ef3b20-lc.min.js\">\n",
      "             </script>\n",
      "             <script src=\"/etc.clientlibs/adobe-cms/clientlibs/clientlib-cweb-search.lc-0d13f1ad2fc4b43337ad1dee1aff2470-lc.min.js\">\n",
      "             </script>\n",
      "            </c4d-link-list>\n",
      "           </div>\n",
      "          </div>\n",
      "         </div>\n",
      "        </section>\n",
      "       </div>\n",
      "      </div>\n",
      "     </div>\n",
      "     <div class=\"table-of-contents container responsivegrid\">\n",
      "      <c4d-table-of-contents class=\"cmp-table-of-contents\" data-autoid=\"c4d--tableofcontents\" data-cmp-is=\"table-of-contents\" stickyoffset=\"48\" toc-hide=\"hidden\" toc-layout=\"horizontal\">\n",
      "       <div class=\"cmp-table-of-contents\" id=\"table-of-contents-b422012d4b\">\n",
      "        <div class=\"modular-container container responsivegrid\">\n",
      "         <div class=\"cmp-container\" id=\"modular-container-253180b30f\">\n",
      "          <div class=\"standalone-title enhanced-title text\">\n",
      "           <h5 class=\"expressive-heading-02\">\n",
      "            Recommended for you\n",
      "            <br/>\n",
      "           </h5>\n",
      "          </div>\n",
      "         </div>\n",
      "        </div>\n",
      "        <div class=\"tile-group-container container responsivegrid\">\n",
      "         <div class=\"cds--col\">\n",
      "          <h2 class=\"expressive-heading-05\">\n",
      "          </h2>\n",
      "          <caem-tile-group>\n",
      "           <caem-tile cta-type=\"local\" data-video-modal-type=\"media-center\" href=\"https://www.ibm.com/account/reg/signup?formid=urx-53368&amp;lnk=hpUSrc1\" label=\"Report\" target=\"_self\">\n",
      "            <c4d-image alt=\"Woman holding phone and payment card\" class=\"\" default-src=\"/content/dam/connectedassets-adobe-cms/worldwide-content/homepage/ul/g/cf/3f/Consumer_Report_2022_Card_2.component.tile-card-xl.ts=1736864608777.jpg/content/adobe-cms/us/en/homepage/jcr:content/root/table_of_contents/tile_group_container_1662354541/container/tile_card_2026675993/image\" id=\"image--1773978476\" slot=\"image\">\n",
      "             <c4d-image-item media=\"(min-width: 1312px) and (min-resolution: 192dpi)\" srcset=\"/content/dam/connectedassets-adobe-cms/worldwide-content/homepage/ul/g/cf/3f/Consumer_Report_2022_Card_2.component.tile-card-xl-retina.ts=1736864608777.jpg/content/adobe-cms/us/en/homepage/jcr:content/root/table_of_contents/tile_group_container_1662354541/container/tile_card_2026675993/image\">\n",
      "             </c4d-image-item>\n",
      "             <c4d-image-item media=\"(min-width: 1312px)\" srcset=\"/content/dam/connectedassets-adobe-cms/worldwide-content/homepage/ul/g/cf/3f/Consumer_Report_2022_Card_2.component.tile-card-xl.ts=1736864608777.jpg/content/adobe-cms/us/en/homepage/jcr:content/root/table_of_contents/tile_group_container_1662354541/container/tile_card_2026675993/image\">\n",
      "             </c4d-image-item>\n",
      "             <c4d-image-item media=\"(min-width: 1056px) and (min-resolution: 192dpi)\" srcset=\"/content/dam/connectedassets-adobe-cms/worldwide-content/homepage/ul/g/cf/3f/Consumer_Report_2022_Card_2.component.tile-card-l-retina.ts=1736864608777.jpg/content/adobe-cms/us/en/homepage/jcr:content/root/table_of_contents/tile_group_container_1662354541/container/tile_card_2026675993/image\">\n",
      "             </c4d-image-item>\n",
      "             <c4d-image-item media=\"(min-width: 1056px)\" srcset=\"/content/dam/connectedassets-adobe-cms/worldwide-content/homepage/ul/g/cf/3f/Consumer_Report_2022_Card_2.component.tile-card-l.ts=1736864608777.jpg/content/adobe-cms/us/en/homepage/jcr:content/root/table_of_contents/tile_group_container_1662354541/container/tile_card_2026675993/image\">\n",
      "             </c4d-image-item>\n",
      "             <c4d-image-item media=\"(min-width: 672px) and (min-resolution: 192dpi)\" srcset=\"/content/dam/connectedassets-adobe-cms/worldwide-content/homepage/ul/g/cf/3f/Consumer_Report_2022_Card_2.component.tile-card-m-retina.ts=1736864608777.jpg/content/adobe-cms/us/en/homepage/jcr:content/root/table_of_contents/tile_group_container_1662354541/container/tile_card_2026675993/image\">\n",
      "             </c4d-image-item>\n",
      "             <c4d-image-item media=\"(min-width: 672px)\" srcset=\"/content/dam/connectedassets-adobe-cms/worldwide-content/homepage/ul/g/cf/3f/Consumer_Report_2022_Card_2.component.tile-card-m.ts=1736864608777.jpg/content/adobe-cms/us/en/homepage/jcr:content/root/table_of_contents/tile_group_container_1662354541/container/tile_card_2026675993/image\">\n",
      "             </c4d-image-item>\n",
      "             <c4d-image-item media=\"(min-width: 481px) and (min-resolution: 192dpi)\" srcset=\"/content/dam/connectedassets-adobe-cms/worldwide-content/homepage/ul/g/cf/3f/Consumer_Report_2022_Card_2.component.tile-card-s-retina.ts=1736864608777.jpg/content/adobe-cms/us/en/homepage/jcr:content/root/table_of_contents/tile_group_container_1662354541/container/tile_card_2026675993/image\">\n",
      "             </c4d-image-item>\n",
      "             <c4d-image-item media=\"(min-width: 481px)\" srcset=\"/content/dam/connectedassets-adobe-cms/worldwide-content/homepage/ul/g/cf/3f/Consumer_Report_2022_Card_2.component.tile-card-s.ts=1736864608777.jpg/content/adobe-cms/us/en/homepage/jcr:content/root/table_of_contents/tile_group_container_1662354541/container/tile_card_2026675993/image\">\n",
      "             </c4d-image-item>\n",
      "             <c4d-image-item media=\"(max-width: 480px) and (min-resolution: 192dpi)\" srcset=\"/content/dam/connectedassets-adobe-cms/worldwide-content/homepage/ul/g/cf/3f/Consumer_Report_2022_Card_2.component.tile-card-xs-retina.ts=1736864608777.jpg/content/adobe-cms/us/en/homepage/jcr:content/root/table_of_contents/tile_group_container_1662354541/container/tile_card_2026675993/image\">\n",
      "             </c4d-image-item>\n",
      "             <c4d-image-item media=\"(max-width: 480px)\" srcset=\"/content/dam/connectedassets-adobe-cms/worldwide-content/homepage/ul/g/cf/3f/Consumer_Report_2022_Card_2.component.tile-card-xs.ts=1736864608777.jpg/content/adobe-cms/us/en/homepage/jcr:content/root/table_of_contents/tile_group_container_1662354541/container/tile_card_2026675993/image\">\n",
      "             </c4d-image-item>\n",
      "            </c4d-image>\n",
      "            Get the 2025 IBV Consumer Study Report\n",
      "            <script defer=\"\" src=\"/etc.clientlibs/adobe-cms/clientlibs/clientlib-cweb-tag.lc-110787fad411e9bb4388c3f3211925b3-lc.min.js\">\n",
      "            </script>\n",
      "            <p slot=\"cta\">\n",
      "            </p>\n",
      "           </caem-tile>\n",
      "           <div class=\"caem-card-svg-source\" hidden=\"\">\n",
      "            <svg id=\"accelerated-computing\" viewbox=\"0 0 32 32\" xmlns=\"http://www.w3.org/2000/svg\">\n",
      "             <path d=\"M19,29.36c-3.401,0-6.596-1.506-8.764-4.131l0.556-0.459c2.03,2.459,5.022,3.869,8.208,3.869 c5.867,0,10.64-4.772,10.64-10.64c0-5.867-4.772-10.64-10.64-10.64c-3.186,0-6.177,1.411-8.208,3.87l-0.555-0.459 c2.091-2.532,5.137-4.022,8.403-4.125V5.36H16c-0.199,0-0.36-0.161-0.36-0.36V3c0-0.199,0.161-0.36,0.36-0.36h6 c0.199,0,0.36,0.161,0.36,0.36v2c0,0.199-0.161,0.36-0.36,0.36h-2.64v1.286c6.098,0.191,11,5.211,11,11.354 C30.36,24.264,25.264,29.36,19,29.36z M16.36,4.64h5.28V3.36h-5.28V4.64z M14,23.36H4v-0.72h10V23.36z M12,18.36H2v-0.72h10V18.36z M19.179,18.312l-0.357-0.625l7-4l0.357,0.625L19.179,18.312z M14,13.36H4v-0.72h10V13.36z\">\n",
      "             </path>\n",
      "            </svg>\n",
      "           </div>\n",
      "           <script defer=\"\" src=\"/etc.clientlibs/adobe-cms/clientlibs/clientlib-caem-tile.lc-6514fa9b09328fca81f4ef5771ebc140-lc.min.js\">\n",
      "           </script>\n",
      "           <caem-tile cta-type=\"local\" data-video-modal-type=\"media-center\" href=\"https://www.ibm.com/granite?lnk=hpUSrc2\" label=\"Product\" target=\"_blank\">\n",
      "            <c4d-image alt=\"Illustration of a series of interconnected cubes\" class=\"\" default-src=\"/content/dam/connectedassets-adobe-cms/worldwide-content/pm/ul/g/35/c0/ai4b198_granite2b8bmodelintro_native_1.component.tile-card-xl.ts=1736864609006.jpg/content/adobe-cms/us/en/homepage/jcr:content/root/table_of_contents/tile_group_container_1662354541/container/tile_card/image\" id=\"image--504210012\" slot=\"image\">\n",
      "             <c4d-image-item media=\"(min-width: 1312px) and (min-resolution: 192dpi)\" srcset=\"/content/dam/connectedassets-adobe-cms/worldwide-content/pm/ul/g/35/c0/ai4b198_granite2b8bmodelintro_native_1.component.tile-card-xl-retina.ts=1736864609006.jpg/content/adobe-cms/us/en/homepage/jcr:content/root/table_of_contents/tile_group_container_1662354541/container/tile_card/image\">\n",
      "             </c4d-image-item>\n",
      "             <c4d-image-item media=\"(min-width: 1312px)\" srcset=\"/content/dam/connectedassets-adobe-cms/worldwide-content/pm/ul/g/35/c0/ai4b198_granite2b8bmodelintro_native_1.component.tile-card-xl.ts=1736864609006.jpg/content/adobe-cms/us/en/homepage/jcr:content/root/table_of_contents/tile_group_container_1662354541/container/tile_card/image\">\n",
      "             </c4d-image-item>\n",
      "             <c4d-image-item media=\"(min-width: 1056px) and (min-resolution: 192dpi)\" srcset=\"/content/dam/connectedassets-adobe-cms/worldwide-content/pm/ul/g/35/c0/ai4b198_granite2b8bmodelintro_native_1.component.tile-card-l-retina.ts=1736864609006.jpg/content/adobe-cms/us/en/homepage/jcr:content/root/table_of_contents/tile_group_container_1662354541/container/tile_card/image\">\n",
      "             </c4d-image-item>\n",
      "             <c4d-image-item media=\"(min-width: 1056px)\" srcset=\"/content/dam/connectedassets-adobe-cms/worldwide-content/pm/ul/g/35/c0/ai4b198_granite2b8bmodelintro_native_1.component.tile-card-l.ts=1736864609006.jpg/content/adobe-cms/us/en/homepage/jcr:content/root/table_of_contents/tile_group_container_1662354541/container/tile_card/image\">\n",
      "             </c4d-image-item>\n",
      "             <c4d-image-item media=\"(min-width: 672px) and (min-resolution: 192dpi)\" srcset=\"/content/dam/connectedassets-adobe-cms/worldwide-content/pm/ul/g/35/c0/ai4b198_granite2b8bmodelintro_native_1.component.tile-card-m-retina.ts=1736864609006.jpg/content/adobe-cms/us/en/homepage/jcr:content/root/table_of_contents/tile_group_container_1662354541/container/tile_card/image\">\n",
      "             </c4d-image-item>\n",
      "             <c4d-image-item media=\"(min-width: 672px)\" srcset=\"/content/dam/connectedassets-adobe-cms/worldwide-content/pm/ul/g/35/c0/ai4b198_granite2b8bmodelintro_native_1.component.tile-card-m.ts=1736864609006.jpg/content/adobe-cms/us/en/homepage/jcr:content/root/table_of_contents/tile_group_container_1662354541/container/tile_card/image\">\n",
      "             </c4d-image-item>\n",
      "             <c4d-image-item media=\"(min-width: 481px) and (min-resolution: 192dpi)\" srcset=\"/content/dam/connectedassets-adobe-cms/worldwide-content/pm/ul/g/35/c0/ai4b198_granite2b8bmodelintro_native_1.component.tile-card-s-retina.ts=1736864609006.jpg/content/adobe-cms/us/en/homepage/jcr:content/root/table_of_contents/tile_group_container_1662354541/container/tile_card/image\">\n",
      "             </c4d-image-item>\n",
      "             <c4d-image-item media=\"(min-width: 481px)\" srcset=\"/content/dam/connectedassets-adobe-cms/worldwide-content/pm/ul/g/35/c0/ai4b198_granite2b8bmodelintro_native_1.component.tile-card-s.ts=1736864609006.jpg/content/adobe-cms/us/en/homepage/jcr:content/root/table_of_contents/tile_group_container_1662354541/container/tile_card/image\">\n",
      "             </c4d-image-item>\n",
      "             <c4d-image-item media=\"(max-width: 480px) and (min-resolution: 192dpi)\" srcset=\"/content/dam/connectedassets-adobe-cms/worldwide-content/pm/ul/g/35/c0/ai4b198_granite2b8bmodelintro_native_1.component.tile-card-xs-retina.ts=1736864609006.jpg/content/adobe-cms/us/en/homepage/jcr:content/root/table_of_contents/tile_group_container_1662354541/container/tile_card/image\">\n",
      "             </c4d-image-item>\n",
      "             <c4d-image-item media=\"(max-width: 480px)\" srcset=\"/content/dam/connectedassets-adobe-cms/worldwide-content/pm/ul/g/35/c0/ai4b198_granite2b8bmodelintro_native_1.component.tile-card-xs.ts=1736864609006.jpg/content/adobe-cms/us/en/homepage/jcr:content/root/table_of_contents/tile_group_container_1662354541/container/tile_card/image\">\n",
      "             </c4d-image-item>\n",
      "            </c4d-image>\n",
      "            Explore IBM Granite models\n",
      "            <p slot=\"cta\">\n",
      "            </p>\n",
      "           </caem-tile>\n",
      "           <div class=\"caem-card-svg-source\" hidden=\"\">\n",
      "            <svg id=\"accelerated-computing\" viewbox=\"0 0 32 32\" xmlns=\"http://www.w3.org/2000/svg\">\n",
      "             <path d=\"M19,29.36c-3.401,0-6.596-1.506-8.764-4.131l0.556-0.459c2.03,2.459,5.022,3.869,8.208,3.869 c5.867,0,10.64-4.772,10.64-10.64c0-5.867-4.772-10.64-10.64-10.64c-3.186,0-6.177,1.411-8.208,3.87l-0.555-0.459 c2.091-2.532,5.137-4.022,8.403-4.125V5.36H16c-0.199,0-0.36-0.161-0.36-0.36V3c0-0.199,0.161-0.36,0.36-0.36h6 c0.199,0,0.36,0.161,0.36,0.36v2c0,0.199-0.161,0.36-0.36,0.36h-2.64v1.286c6.098,0.191,11,5.211,11,11.354 C30.36,24.264,25.264,29.36,19,29.36z M16.36,4.64h5.28V3.36h-5.28V4.64z M14,23.36H4v-0.72h10V23.36z M12,18.36H2v-0.72h10V18.36z M19.179,18.312l-0.357-0.625l7-4l0.357,0.625L19.179,18.312z M14,13.36H4v-0.72h10V13.36z\">\n",
      "             </path>\n",
      "            </svg>\n",
      "           </div>\n",
      "           <caem-tile cta-type=\"local\" data-video-modal-type=\"media-center\" href=\"https://www.ibm.com/thought-leadership/institute-business-value/en-us/report/business-trends-2025?lnk=hpUSrc3\" label=\"Insight\" target=\"_self\">\n",
      "            <c4d-image alt=\"Ilustration of a conveyor belt with robotic arms in the shape of the number 5\" class=\"\" default-src=\"/content/dam/connectedassets-adobe-cms/worldwide-content/creative-assets/ibv/ul/g/32/26/5-trends-for-2025-768x768.component.tile-card-xl.ts=1736864609244.jpg/content/adobe-cms/us/en/homepage/jcr:content/root/table_of_contents/tile_group_container_1662354541/container/tile_card_734954344/image\" id=\"image--1031071656\" slot=\"image\">\n",
      "             <c4d-image-item media=\"(min-width: 1312px) and (min-resolution: 192dpi)\" srcset=\"/content/dam/connectedassets-adobe-cms/worldwide-content/creative-assets/ibv/ul/g/32/26/5-trends-for-2025-768x768.component.tile-card-xl-retina.ts=1736864609244.jpg/content/adobe-cms/us/en/homepage/jcr:content/root/table_of_contents/tile_group_container_1662354541/container/tile_card_734954344/image\">\n",
      "             </c4d-image-item>\n",
      "             <c4d-image-item media=\"(min-width: 1312px)\" srcset=\"/content/dam/connectedassets-adobe-cms/worldwide-content/creative-assets/ibv/ul/g/32/26/5-trends-for-2025-768x768.component.tile-card-xl.ts=1736864609244.jpg/content/adobe-cms/us/en/homepage/jcr:content/root/table_of_contents/tile_group_container_1662354541/container/tile_card_734954344/image\">\n",
      "             </c4d-image-item>\n",
      "             <c4d-image-item media=\"(min-width: 1056px) and (min-resolution: 192dpi)\" srcset=\"/content/dam/connectedassets-adobe-cms/worldwide-content/creative-assets/ibv/ul/g/32/26/5-trends-for-2025-768x768.component.tile-card-l-retina.ts=1736864609244.jpg/content/adobe-cms/us/en/homepage/jcr:content/root/table_of_contents/tile_group_container_1662354541/container/tile_card_734954344/image\">\n",
      "             </c4d-image-item>\n",
      "             <c4d-image-item media=\"(min-width: 1056px)\" srcset=\"/content/dam/connectedassets-adobe-cms/worldwide-content/creative-assets/ibv/ul/g/32/26/5-trends-for-2025-768x768.component.tile-card-l.ts=1736864609244.jpg/content/adobe-cms/us/en/homepage/jcr:content/root/table_of_contents/tile_group_container_1662354541/container/tile_card_734954344/image\">\n",
      "             </c4d-image-item>\n",
      "             <c4d-image-item media=\"(min-width: 672px) and (min-resolution: 192dpi)\" srcset=\"/content/dam/connectedassets-adobe-cms/worldwide-content/creative-assets/ibv/ul/g/32/26/5-trends-for-2025-768x768.component.tile-card-m-retina.ts=1736864609244.jpg/content/adobe-cms/us/en/homepage/jcr:content/root/table_of_contents/tile_group_container_1662354541/container/tile_card_734954344/image\">\n",
      "             </c4d-image-item>\n",
      "             <c4d-image-item media=\"(min-width: 672px)\" srcset=\"/content/dam/connectedassets-adobe-cms/worldwide-content/creative-assets/ibv/ul/g/32/26/5-trends-for-2025-768x768.component.tile-card-m.ts=1736864609244.jpg/content/adobe-cms/us/en/homepage/jcr:content/root/table_of_contents/tile_group_container_1662354541/container/tile_card_734954344/image\">\n",
      "             </c4d-image-item>\n",
      "             <c4d-image-item media=\"(min-width: 481px) and (min-resolution: 192dpi)\" srcset=\"/content/dam/connectedassets-adobe-cms/worldwide-content/creative-assets/ibv/ul/g/32/26/5-trends-for-2025-768x768.component.tile-card-s-retina.ts=1736864609244.jpg/content/adobe-cms/us/en/homepage/jcr:content/root/table_of_contents/tile_group_container_1662354541/container/tile_card_734954344/image\">\n",
      "             </c4d-image-item>\n",
      "             <c4d-image-item media=\"(min-width: 481px)\" srcset=\"/content/dam/connectedassets-adobe-cms/worldwide-content/creative-assets/ibv/ul/g/32/26/5-trends-for-2025-768x768.component.tile-card-s.ts=1736864609244.jpg/content/adobe-cms/us/en/homepage/jcr:content/root/table_of_contents/tile_group_container_1662354541/container/tile_card_734954344/image\">\n",
      "             </c4d-image-item>\n",
      "             <c4d-image-item media=\"(max-width: 480px) and (min-resolution: 192dpi)\" srcset=\"/content/dam/connectedassets-adobe-cms/worldwide-content/creative-assets/ibv/ul/g/32/26/5-trends-for-2025-768x768.component.tile-card-xs-retina.ts=1736864609244.jpg/content/adobe-cms/us/en/homepage/jcr:content/root/table_of_contents/tile_group_container_1662354541/container/tile_card_734954344/image\">\n",
      "             </c4d-image-item>\n",
      "             <c4d-image-item media=\"(max-width: 480px)\" srcset=\"/content/dam/connectedassets-adobe-cms/worldwide-content/creative-assets/ibv/ul/g/32/26/5-trends-for-2025-768x768.component.tile-card-xs.ts=1736864609244.jpg/content/adobe-cms/us/en/homepage/jcr:content/root/table_of_contents/tile_group_container_1662354541/container/tile_card_734954344/image\">\n",
      "             </c4d-image-item>\n",
      "            </c4d-image>\n",
      "            Read 5 Trends for 2025\n",
      "            <p slot=\"cta\">\n",
      "            </p>\n",
      "           </caem-tile>\n",
      "           <div class=\"caem-card-svg-source\" hidden=\"\">\n",
      "            <svg id=\"accelerated-computing\" viewbox=\"0 0 32 32\" xmlns=\"http://www.w3.org/2000/svg\">\n",
      "             <path d=\"M19,29.36c-3.401,0-6.596-1.506-8.764-4.131l0.556-0.459c2.03,2.459,5.022,3.869,8.208,3.869 c5.867,0,10.64-4.772,10.64-10.64c0-5.867-4.772-10.64-10.64-10.64c-3.186,0-6.177,1.411-8.208,3.87l-0.555-0.459 c2.091-2.532,5.137-4.022,8.403-4.125V5.36H16c-0.199,0-0.36-0.161-0.36-0.36V3c0-0.199,0.161-0.36,0.36-0.36h6 c0.199,0,0.36,0.161,0.36,0.36v2c0,0.199-0.161,0.36-0.36,0.36h-2.64v1.286c6.098,0.191,11,5.211,11,11.354 C30.36,24.264,25.264,29.36,19,29.36z M16.36,4.64h5.28V3.36h-5.28V4.64z M14,23.36H4v-0.72h10V23.36z M12,18.36H2v-0.72h10V18.36z M19.179,18.312l-0.357-0.625l7-4l0.357,0.625L19.179,18.312z M14,13.36H4v-0.72h10V13.36z\">\n",
      "             </path>\n",
      "            </svg>\n",
      "           </div>\n",
      "           <caem-tile cta-type=\"local\" data-video-modal-type=\"media-center\" href=\"https://www.ibm.com/resources/sustainability/supply-chain-experience/#/sustainable-supply-chain?lnk=hpUSrc4\" label=\"Services\" target=\"_self\">\n",
      "            <c4d-image alt=\"Top view of a cargo ship at sea\" class=\"\" default-src=\"/content/dam/connectedassets-adobe-cms/worldwide-content/stock-assets/getty/image/photography/7f/fb/dji_0122.component.tile-card-xl.ts=1736864609456.jpg/content/adobe-cms/us/en/homepage/jcr:content/root/table_of_contents/tile_group_container_1662354541/container/tile_card_964526575/image\" id=\"image--1140056554\" slot=\"image\">\n",
      "             <c4d-image-item media=\"(min-width: 1312px) and (min-resolution: 192dpi)\" srcset=\"/content/dam/connectedassets-adobe-cms/worldwide-content/stock-assets/getty/image/photography/7f/fb/dji_0122.component.tile-card-xl-retina.ts=1736864609456.jpg/content/adobe-cms/us/en/homepage/jcr:content/root/table_of_contents/tile_group_container_1662354541/container/tile_card_964526575/image\">\n",
      "             </c4d-image-item>\n",
      "             <c4d-image-item media=\"(min-width: 1312px)\" srcset=\"/content/dam/connectedassets-adobe-cms/worldwide-content/stock-assets/getty/image/photography/7f/fb/dji_0122.component.tile-card-xl.ts=1736864609456.jpg/content/adobe-cms/us/en/homepage/jcr:content/root/table_of_contents/tile_group_container_1662354541/container/tile_card_964526575/image\">\n",
      "             </c4d-image-item>\n",
      "             <c4d-image-item media=\"(min-width: 1056px) and (min-resolution: 192dpi)\" srcset=\"/content/dam/connectedassets-adobe-cms/worldwide-content/stock-assets/getty/image/photography/7f/fb/dji_0122.component.tile-card-l-retina.ts=1736864609456.jpg/content/adobe-cms/us/en/homepage/jcr:content/root/table_of_contents/tile_group_container_1662354541/container/tile_card_964526575/image\">\n",
      "             </c4d-image-item>\n",
      "             <c4d-image-item media=\"(min-width: 1056px)\" srcset=\"/content/dam/connectedassets-adobe-cms/worldwide-content/stock-assets/getty/image/photography/7f/fb/dji_0122.component.tile-card-l.ts=1736864609456.jpg/content/adobe-cms/us/en/homepage/jcr:content/root/table_of_contents/tile_group_container_1662354541/container/tile_card_964526575/image\">\n",
      "             </c4d-image-item>\n",
      "             <c4d-image-item media=\"(min-width: 672px) and (min-resolution: 192dpi)\" srcset=\"/content/dam/connectedassets-adobe-cms/worldwide-content/stock-assets/getty/image/photography/7f/fb/dji_0122.component.tile-card-m-retina.ts=1736864609456.jpg/content/adobe-cms/us/en/homepage/jcr:content/root/table_of_contents/tile_group_container_1662354541/container/tile_card_964526575/image\">\n",
      "             </c4d-image-item>\n",
      "             <c4d-image-item media=\"(min-width: 672px)\" srcset=\"/content/dam/connectedassets-adobe-cms/worldwide-content/stock-assets/getty/image/photography/7f/fb/dji_0122.component.tile-card-m.ts=1736864609456.jpg/content/adobe-cms/us/en/homepage/jcr:content/root/table_of_contents/tile_group_container_1662354541/container/tile_card_964526575/image\">\n",
      "             </c4d-image-item>\n",
      "             <c4d-image-item media=\"(min-width: 481px) and (min-resolution: 192dpi)\" srcset=\"/content/dam/connectedassets-adobe-cms/worldwide-content/stock-assets/getty/image/photography/7f/fb/dji_0122.component.tile-card-s-retina.ts=1736864609456.jpg/content/adobe-cms/us/en/homepage/jcr:content/root/table_of_contents/tile_group_container_1662354541/container/tile_card_964526575/image\">\n",
      "             </c4d-image-item>\n",
      "             <c4d-image-item media=\"(min-width: 481px)\" srcset=\"/content/dam/connectedassets-adobe-cms/worldwide-content/stock-assets/getty/image/photography/7f/fb/dji_0122.component.tile-card-s.ts=1736864609456.jpg/content/adobe-cms/us/en/homepage/jcr:content/root/table_of_contents/tile_group_container_1662354541/container/tile_card_964526575/image\">\n",
      "             </c4d-image-item>\n",
      "             <c4d-image-item media=\"(max-width: 480px) and (min-resolution: 192dpi)\" srcset=\"/content/dam/connectedassets-adobe-cms/worldwide-content/stock-assets/getty/image/photography/7f/fb/dji_0122.component.tile-card-xs-retina.ts=1736864609456.jpg/content/adobe-cms/us/en/homepage/jcr:content/root/table_of_contents/tile_group_container_1662354541/container/tile_card_964526575/image\">\n",
      "             </c4d-image-item>\n",
      "             <c4d-image-item media=\"(max-width: 480px)\" srcset=\"/content/dam/connectedassets-adobe-cms/worldwide-content/stock-assets/getty/image/photography/7f/fb/dji_0122.component.tile-card-xs.ts=1736864609456.jpg/content/adobe-cms/us/en/homepage/jcr:content/root/table_of_contents/tile_group_container_1662354541/container/tile_card_964526575/image\">\n",
      "             </c4d-image-item>\n",
      "            </c4d-image>\n",
      "            Transform your supply chain with AI\n",
      "            <p slot=\"cta\">\n",
      "            </p>\n",
      "           </caem-tile>\n",
      "           <div class=\"caem-card-svg-source\" hidden=\"\">\n",
      "            <svg id=\"accelerated-computing\" viewbox=\"0 0 32 32\" xmlns=\"http://www.w3.org/2000/svg\">\n",
      "             <path d=\"M19,29.36c-3.401,0-6.596-1.506-8.764-4.131l0.556-0.459c2.03,2.459,5.022,3.869,8.208,3.869 c5.867,0,10.64-4.772,10.64-10.64c0-5.867-4.772-10.64-10.64-10.64c-3.186,0-6.177,1.411-8.208,3.87l-0.555-0.459 c2.091-2.532,5.137-4.022,8.403-4.125V5.36H16c-0.199,0-0.36-0.161-0.36-0.36V3c0-0.199,0.161-0.36,0.36-0.36h6 c0.199,0,0.36,0.161,0.36,0.36v2c0,0.199-0.161,0.36-0.36,0.36h-2.64v1.286c6.098,0.191,11,5.211,11,11.354 C30.36,24.264,25.264,29.36,19,29.36z M16.36,4.64h5.28V3.36h-5.28V4.64z M14,23.36H4v-0.72h10V23.36z M12,18.36H2v-0.72h10V18.36z M19.179,18.312l-0.357-0.625l7-4l0.357,0.625L19.179,18.312z M14,13.36H4v-0.72h10V13.36z\">\n",
      "             </path>\n",
      "            </svg>\n",
      "           </div>\n",
      "          </caem-tile-group>\n",
      "         </div>\n",
      "        </div>\n",
      "        <div class=\"50-50-content-block\">\n",
      "         <div class=\"cds--50-50-content-block\">\n",
      "          <div class=\"cds--row\">\n",
      "           <h2 class=\"cds--50-50-content-block__heading cds--col-lg-8 expressive-heading-05\">\n",
      "            AI insights and tools\n",
      "           </h2>\n",
      "          </div>\n",
      "          <div class=\"cds--row\">\n",
      "           <div class=\"cds--50-50-content-block__item cds--col-lg-8\">\n",
      "            <div class=\"cds--content-block-50-50-card\">\n",
      "             <div class=\"cds--no-gutter cds--content-block-50-50-card__media\">\n",
      "             </div>\n",
      "             <div class=\"cds--content-block-50-50-card__heading\">\n",
      "              <h4 class=\"expressive-heading-04\">\n",
      "               <span class=\"enhanced-title text-color-gradient-90-blue-to-magenta\">\n",
      "                For developers\n",
      "               </span>\n",
      "              </h4>\n",
      "             </div>\n",
      "             <div>\n",
      "              <div class=\"cds--content-block-50-50-card__body\">\n",
      "               <div class=\"cmp-container\" id=\"content-block-container-6afdf3f2d4\">\n",
      "                <div class=\"standalone-text rich-text text\">\n",
      "                 <span class=\"normal cms-richtext\">\n",
      "                  <p>\n",
      "                   Grow your skills and create something new with our AI tools and foundation models. Then connect, collaborate and innovate with your peers.\n",
      "                  </p>\n",
      "                 </span>\n",
      "                </div>\n",
      "                <div class=\"link button\">\n",
      "                 <a cta-type=\"local\" data-dynamic-properties='{\"ctaUrl\":\"href\"}' data-link-type=\"local\" data-video-modal-type=\"media-center\" href=\"https://www.ibm.com/granite?lnk=dev\" icon-placement=\"right\" target=\"_self\">\n",
      "                  <span class=\"cds--link-text\" data-dynamic-inner-content=\"ctaLabel\" data-link-text=\"\">\n",
      "                   Start building with IBM Granite models\n",
      "                  </span>\n",
      "                  <!-- LTR - Left to Right version -->\n",
      "                  <svg aria-hidden=\"true\" fill=\"currentColor\" focusable=\"false\" height=\"20\" slot=\"icon\" viewbox=\"0 0 20 20\" width=\"20\" xmlns=\"http://www.w3.org/2000/svg\">\n",
      "                   <path d=\"M11.8 2.8L10.8 3.8 16.2 9.3 1 9.3 1 10.7 16.2 10.7 10.8 16.2 11.8 17.2 19 10z\">\n",
      "                   </path>\n",
      "                  </svg>\n",
      "                  <!-- RTL - Right to Left version -->\n",
      "                 </a>\n",
      "                </div>\n",
      "                <div class=\"link button\">\n",
      "                 <a cta-type=\"local\" data-dynamic-properties='{\"ctaUrl\":\"href\"}' data-link-type=\"local\" data-video-modal-type=\"media-center\" href=\"https://developer.ibm.com/technologies/artificial-intelligence?lnk=dev\" icon-placement=\"right\" target=\"_self\">\n",
      "                  <span class=\"cds--link-text\" data-dynamic-inner-content=\"ctaLabel\" data-link-text=\"\">\n",
      "                   Explore AI courses, APIs, data sets and more\n",
      "                  </span>\n",
      "                  <!-- LTR - Left to Right version -->\n",
      "                  <svg aria-hidden=\"true\" fill=\"currentColor\" focusable=\"false\" height=\"20\" slot=\"icon\" viewbox=\"0 0 20 20\" width=\"20\" xmlns=\"http://www.w3.org/2000/svg\">\n",
      "                   <path d=\"M11.8 2.8L10.8 3.8 16.2 9.3 1 9.3 1 10.7 16.2 10.7 10.8 16.2 11.8 17.2 19 10z\">\n",
      "                   </path>\n",
      "                  </svg>\n",
      "                  <!-- RTL - Right to Left version -->\n",
      "                 </a>\n",
      "                </div>\n",
      "                <div class=\"link button\">\n",
      "                 <a cta-type=\"local\" data-dynamic-properties='{\"ctaUrl\":\"href\"}' data-link-type=\"local\" data-video-modal-type=\"media-center\" href=\"https://www.ibm.com/products/watsonx-code-assistant?lnk=dev\" icon-placement=\"right\" target=\"_self\">\n",
      "                  <span class=\"cds--link-text\" data-dynamic-inner-content=\"ctaLabel\" data-link-text=\"\">\n",
      "                   Accelerate software development with watsonx Code Assistant\n",
      "                  </span>\n",
      "                  <!-- LTR - Left to Right version -->\n",
      "                  <svg aria-hidden=\"true\" fill=\"currentColor\" focusable=\"false\" height=\"20\" slot=\"icon\" viewbox=\"0 0 20 20\" width=\"20\" xmlns=\"http://www.w3.org/2000/svg\">\n",
      "                   <path d=\"M11.8 2.8L10.8 3.8 16.2 9.3 1 9.3 1 10.7 16.2 10.7 10.8 16.2 11.8 17.2 19 10z\">\n",
      "                   </path>\n",
      "                  </svg>\n",
      "                  <!-- RTL - Right to Left version -->\n",
      "                 </a>\n",
      "                </div>\n",
      "                <div class=\"link button\">\n",
      "                 <a cta-type=\"local\" data-dynamic-properties='{\"ctaUrl\":\"href\"}' data-link-type=\"local\" data-video-modal-type=\"media-center\" href=\"https://www.ibm.com/watsonx/developer/?lnk=dev\" icon-placement=\"right\" target=\"_self\">\n",
      "                  <span class=\"cds--link-text\" data-dynamic-inner-content=\"ctaLabel\" data-link-text=\"\">\n",
      "                   Check out the watsonx.ai Developer Toolkit\n",
      "                  </span>\n",
      "                  <!-- LTR - Left to Right version -->\n",
      "                  <svg aria-hidden=\"true\" fill=\"currentColor\" focusable=\"false\" height=\"20\" slot=\"icon\" viewbox=\"0 0 20 20\" width=\"20\" xmlns=\"http://www.w3.org/2000/svg\">\n",
      "                   <path d=\"M11.8 2.8L10.8 3.8 16.2 9.3 1 9.3 1 10.7 16.2 10.7 10.8 16.2 11.8 17.2 19 10z\">\n",
      "                   </path>\n",
      "                  </svg>\n",
      "                  <!-- RTL - Right to Left version -->\n",
      "                 </a>\n",
      "                </div>\n",
      "               </div>\n",
      "              </div>\n",
      "             </div>\n",
      "            </div>\n",
      "            <script defer=\"\" src=\"/etc.clientlibs/adobe-cms/clientlibs/clientlib-lightbox-media-viewer.lc-b2c038db6ab7a63fa9407e16ce6b6d8f-lc.min.js\">\n",
      "            </script>\n",
      "           </div>\n",
      "           <div class=\"cds--50-50-content-block__item cds--col-lg-8\">\n",
      "            <div class=\"cds--content-block-50-50-card\">\n",
      "             <div class=\"cds--no-gutter cds--content-block-50-50-card__media\">\n",
      "             </div>\n",
      "             <div class=\"cds--content-block-50-50-card__heading\">\n",
      "              <h4 class=\"expressive-heading-04\">\n",
      "               <span class=\"enhanced-title text-color-gradient-90-blue-to-magenta\">\n",
      "                For business leaders\n",
      "               </span>\n",
      "              </h4>\n",
      "             </div>\n",
      "             <div>\n",
      "              <div class=\"cds--content-block-50-50-card__body\">\n",
      "               <div class=\"cmp-container\" id=\"content-block-container-5a692cba75\">\n",
      "                <div class=\"standalone-text rich-text text\">\n",
      "                 <span class=\"normal cms-richtext\">\n",
      "                  <p>\n",
      "                   Transform business and drive growth with AI tools, technology and insights that help you stay competitive—and responsibly map your organization's future.\n",
      "                  </p>\n",
      "                 </span>\n",
      "                </div>\n",
      "                <div class=\"link button\">\n",
      "                 <a cta-type=\"local\" data-dynamic-properties='{\"ctaUrl\":\"href\"}' data-link-type=\"local\" data-video-modal-type=\"media-center\" href=\"https://www.ibm.com/thought-leadership/institute-business-value/report/ceo-generative-ai?lnk=bus\" icon-placement=\"right\" target=\"_self\">\n",
      "                  <span class=\"cds--link-text\" data-dynamic-inner-content=\"ctaLabel\" data-link-text=\"\">\n",
      "                   Read the CEO's guide to generative AI\n",
      "                  </span>\n",
      "                  <!-- LTR - Left to Right version -->\n",
      "                  <svg aria-hidden=\"true\" fill=\"currentColor\" focusable=\"false\" height=\"20\" slot=\"icon\" viewbox=\"0 0 20 20\" width=\"20\" xmlns=\"http://www.w3.org/2000/svg\">\n",
      "                   <path d=\"M11.8 2.8L10.8 3.8 16.2 9.3 1 9.3 1 10.7 16.2 10.7 10.8 16.2 11.8 17.2 19 10z\">\n",
      "                   </path>\n",
      "                  </svg>\n",
      "                  <!-- RTL - Right to Left version -->\n",
      "                 </a>\n",
      "                </div>\n",
      "                <div class=\"link button\">\n",
      "                 <a cta-type=\"local\" data-dynamic-properties='{\"ctaUrl\":\"href\"}' data-link-type=\"local\" data-video-modal-type=\"media-center\" href=\"https://www.ibm.com/think/reports/ai-in-action?lnk=bus\" icon-placement=\"right\" target=\"_self\">\n",
      "                  <span class=\"cds--link-text\" data-dynamic-inner-content=\"ctaLabel\" data-link-text=\"\">\n",
      "                   Get the AI in Action report\n",
      "                  </span>\n",
      "                  <!-- LTR - Left to Right version -->\n",
      "                  <svg aria-hidden=\"true\" fill=\"currentColor\" focusable=\"false\" height=\"20\" slot=\"icon\" viewbox=\"0 0 20 20\" width=\"20\" xmlns=\"http://www.w3.org/2000/svg\">\n",
      "                   <path d=\"M11.8 2.8L10.8 3.8 16.2 9.3 1 9.3 1 10.7 16.2 10.7 10.8 16.2 11.8 17.2 19 10z\">\n",
      "                   </path>\n",
      "                  </svg>\n",
      "                  <!-- RTL - Right to Left version -->\n",
      "                 </a>\n",
      "                </div>\n",
      "                <div class=\"link button\">\n",
      "                 <a cta-type=\"local\" data-dynamic-properties='{\"ctaUrl\":\"href\"}' data-link-type=\"local\" data-video-modal-type=\"media-center\" href=\"https://www.ibm.com/impact/ai-ethics?lnk=bus\" icon-placement=\"right\" target=\"_self\">\n",
      "                  <span class=\"cds--link-text\" data-dynamic-inner-content=\"ctaLabel\" data-link-text=\"\">\n",
      "                   Explore IBM's approach to AI ethics\n",
      "                  </span>\n",
      "                  <!-- LTR - Left to Right version -->\n",
      "                  <svg aria-hidden=\"true\" fill=\"currentColor\" focusable=\"false\" height=\"20\" slot=\"icon\" viewbox=\"0 0 20 20\" width=\"20\" xmlns=\"http://www.w3.org/2000/svg\">\n",
      "                   <path d=\"M11.8 2.8L10.8 3.8 16.2 9.3 1 9.3 1 10.7 16.2 10.7 10.8 16.2 11.8 17.2 19 10z\">\n",
      "                   </path>\n",
      "                  </svg>\n",
      "                  <!-- RTL - Right to Left version -->\n",
      "                 </a>\n",
      "                </div>\n",
      "                <div class=\"link button\">\n",
      "                 <a cta-type=\"local\" data-dynamic-properties='{\"ctaUrl\":\"href\"}' data-link-type=\"local\" data-video-modal-type=\"media-center\" href=\"https://www.ibm.com/account/reg/signup?formid=news-urx-52954&amp;lnk=bus\" icon-placement=\"right\" target=\"_blank\">\n",
      "                  <span class=\"cds--link-text\" data-dynamic-inner-content=\"ctaLabel\" data-link-text=\"\">\n",
      "                   Subscribe to the Think newsletter\n",
      "                  </span>\n",
      "                  <!-- LTR - Left to Right version -->\n",
      "                  <svg aria-hidden=\"true\" fill=\"currentColor\" focusable=\"false\" height=\"20\" slot=\"icon\" viewbox=\"0 0 20 20\" width=\"20\" xmlns=\"http://www.w3.org/2000/svg\">\n",
      "                   <path d=\"M11.8 2.8L10.8 3.8 16.2 9.3 1 9.3 1 10.7 16.2 10.7 10.8 16.2 11.8 17.2 19 10z\">\n",
      "                   </path>\n",
      "                  </svg>\n",
      "                  <!-- RTL - Right to Left version -->\n",
      "                 </a>\n",
      "                </div>\n",
      "               </div>\n",
      "              </div>\n",
      "             </div>\n",
      "            </div>\n",
      "           </div>\n",
      "          </div>\n",
      "          <div>\n",
      "           <c4d-hr>\n",
      "           </c4d-hr>\n",
      "           <script defer=\"\" src=\"/etc.clientlibs/adobe-cms/clientlibs/clientlib-horizontal-rule.lc-c8823b41154b44b7e950e21d2ad45864-lc.min.js\">\n",
      "           </script>\n",
      "          </div>\n",
      "         </div>\n",
      "        </div>\n",
      "        <div class=\"promotional-banner\">\n",
      "         <c4d-promo-banner class=\"theme-c10\">\n",
      "          <c4d-image alt=\"Illustration of a white shopping bag on a blue background with white and blue confetti\" class=\"\" default-src=\"/content/dam/connectedassets-adobe-cms/worldwide-content/creative-assets/s-migr/ul/g/b4/db/big-blue-30-shopping-promotion-banner.png\" id=\"image--1249531527\" slot=\"image\">\n",
      "          </c4d-image>\n",
      "          <span class=\"productive-heading-02\">\n",
      "           <p>\n",
      "            Save big on our latest special offers\n",
      "           </p>\n",
      "          </span>\n",
      "          <span class=\"\">\n",
      "           <p>\n",
      "            Don't miss out—explore exclusive offers, discounts and free trials. Start your IBM journey today!\n",
      "           </p>\n",
      "          </span>\n",
      "          <c4d-button aria-label=\"Explore and register for TechXchange\" cta-type=\"local\" href=\"https://www.ibm.com/products/offers-and-discounts?lnk=hpUSbt1\" kind=\"primary\" slot=\"cta\" target=\"_self\">\n",
      "           <span>\n",
      "            Get the latest offers\n",
      "           </span>\n",
      "          </c4d-button>\n",
      "         </c4d-promo-banner>\n",
      "         <script defer=\"\" src=\"/etc.clientlibs/adobe-cms/clientlibs/clientlib-countdown.lc-3565f47e132eefda3ea0e8a318535553-lc.min.js\">\n",
      "         </script>\n",
      "         <script defer=\"\" src=\"/etc.clientlibs/adobe-cms/clientlibs/clientlib-promo-banner.lc-db8e2dde34a5a82b02570ac29d02c36a-lc.min.js\">\n",
      "         </script>\n",
      "        </div>\n",
      "        <div class=\"card-group-pictogram-full-width card-group-pictogram themed-block theme-white\">\n",
      "         <div class=\"cds--content-block\">\n",
      "          <div class=\"cds--full-width-intro-container\">\n",
      "           <div class=\"intro-section--flex\">\n",
      "            <div class=\"intro-section--heading-wrapper\">\n",
      "             <h2 class=\"expressive-heading-05\">\n",
      "              Technology &amp; Consulting\n",
      "             </h2>\n",
      "            </div>\n",
      "            <div class=\"intro-section--content-wrapper\">\n",
      "             <span class=\"expressive-heading-03 lead-in\">\n",
      "              <div class=\"cms-richtext\" data-dynamic-inner-content=\"description\" id=\"rich-text-06b35d63d7\">\n",
      "               <p>\n",
      "                From\n",
      "                <a href=\"https://www.ibm.com/artificial-intelligence?lnk=ProdC\" rel=\"noopener noreferrer\" target=\"_self\">\n",
      "                 next-generation AI\n",
      "                </a>\n",
      "                to cutting edge\n",
      "                <a href=\"https://www.ibm.com/hybrid-cloud?lnk=ProdC\" rel=\"noopener noreferrer\" target=\"_self\">\n",
      "                 hybrid cloud solutions\n",
      "                </a>\n",
      "                to the deep expertise of\n",
      "                <a href=\"https://www.ibm.com/consulting?lnk=ProdC\" rel=\"noopener noreferrer\" target=\"_self\">\n",
      "                 IBM Consulting\n",
      "                </a>\n",
      "                , IBM has what it takes to help you reinvent how your business works in the age of AI.\n",
      "               </p>\n",
      "              </div>\n",
      "             </span>\n",
      "             <c4d-link-list type=\"vertical\">\n",
      "              <script defer=\"\" src=\"/etc.clientlibs/adobe-cms/clientlibs/clientlib-cibm-cta.lc-37bf3d8a8e2c6eb61e23e27c4462127f-lc.min.js\">\n",
      "              </script>\n",
      "             </c4d-link-list>\n",
      "            </div>\n",
      "           </div>\n",
      "          </div>\n",
      "          <c4d-card-group cards-per-row=\"4\" class=\"themed-pictogram themed-pictogram--blue-magenta-gradient\" data-autoid=\"c4d--card-group\" grid-mode=\"border\" style=\"--c4d--card-group--cards-in-row:4\">\n",
      "           <c4d-card-group-item color-scheme=\"\" cta-type=\"local\" data-autoid=\"c4d--card-group-item\" data-video-modal-type=\"media-center\" grid-mode=\"condensed\" href=\"https://www.ibm.com/artificial-intelligence?lnk=ProdC\" pictogram-placement=\"bottom\" size=\"\" target=\"_self\">\n",
      "            <c4d-card-heading aria-level=\"3\" data-autoid=\"c4d--card-heading\" role=\"heading\" slot=\"heading\">\n",
      "             AI solutions\n",
      "            </c4d-card-heading>\n",
      "            <svg class=\"cds--card__pictogram\" focusable=\"false\" height=\"48\" role=\"img\" slot=\"pictogram\" style=\"--colorized-background:url('#g4'); fill: var(--colorized-background)\" width=\"48\">\n",
      "             <svg id=\"ai\" viewbox=\"0 0 32 32\" xmlns=\"http://www.w3.org/2000/svg\">\n",
      "              <path d=\"M16.195,31.36c-6.421,0-12.169-4.007-14.399-10.002 C1.051,21.408,0.373,20.771,0.372,20c0-0.75,0.61-1.36,1.36-1.36s1.36,0.61,1.36,1.36c0,0.474-0.243,0.892-0.611,1.135 c2.133,5.698,7.604,9.505,13.714,9.505c6.446,0,11.919-4.301,13.773-10.22c-1.448,2.06-3.877,3.44-6.565,3.44 c-3.822,0-7.066-2.785-7.664-6.525C15.113,17.212,14.64,16.661,14.64,16c0-0.584,0.37-1.083,0.888-1.275 c-0.608-3.421-3.615-5.962-7.125-5.962c-3.947,0-7.04,3.176-7.042,7.231c0,0.002,0,0.004,0,0.006H0.64c0-0.002,0-0.004,0-0.007 C0.644,7.526,7.445,0.64,15.805,0.64c6.42,0,12.168,4.006,14.399,10.001c0.777-0.034,1.425,0.587,1.425,1.358 c0,0.75-0.61,1.36-1.36,1.36s-1.36-0.61-1.36-1.36c0-0.473,0.243-0.891,0.611-1.135C27.387,5.166,21.916,1.36,15.805,1.36 c-6.319,0-11.704,4.134-13.659,9.873c1.402-1.949,3.662-3.19,6.256-3.19c3.881,0,7.204,2.826,7.846,6.62 C16.88,14.779,17.36,15.335,17.36,16c0,0.589-0.376,1.092-0.901,1.28c0.567,3.363,3.496,5.859,6.943,5.859 c3.857,0,7.127-3.118,7.235-6.851c0.001-0.096,0.002-0.192,0.002-0.289h0.721c0,0.033,0,0.065-0.001,0.098h0.001 c0,0.069-0.001,0.138-0.003,0.207C31.196,24.634,24.456,31.36,16.195,31.36z M1.732,19.36c-0.353,0-0.64,0.287-0.64,0.64 s0.287,0.64,0.64,0.64s0.64-0.287,0.64-0.64S2.085,19.36,1.732,19.36z M16,15.36c-0.353,0-0.64,0.287-0.64,0.64 s0.287,0.64,0.64,0.64s0.64-0.287,0.64-0.64S16.353,15.36,16,15.36z M30.269,11.36c-0.353,0-0.64,0.287-0.64,0.64 s0.287,0.64,0.64,0.64s0.64-0.287,0.64-0.64S30.621,11.36,30.269,11.36z\">\n",
      "              </path>\n",
      "             </svg>\n",
      "            </svg>\n",
      "            <p>\n",
      "             Go from AI pilots to production with AI technologies built for business\n",
      "            </p>\n",
      "            <c4d-card-footer color-scheme=\"\" cta-type=\"local\" data-autoid=\"c4d--card-footer\" href=\"https://www.ibm.com/artificial-intelligence?lnk=ProdC\" icon-placement=\"right\" parent-href=\"https://www.ibm.com/artificial-intelligence?lnk=ProdC\" slot=\"footer\" target=\"_self\">\n",
      "            </c4d-card-footer>\n",
      "           </c4d-card-group-item>\n",
      "           <c4d-card-group-item color-scheme=\"\" cta-type=\"local\" data-autoid=\"c4d--card-group-item\" data-video-modal-type=\"media-center\" grid-mode=\"condensed\" href=\"https://www.ibm.com/granite?lnk=ProdC\" pictogram-placement=\"bottom\" size=\"\" target=\"_self\">\n",
      "            <c4d-card-heading aria-level=\"3\" data-autoid=\"c4d--card-heading\" role=\"heading\" slot=\"heading\">\n",
      "             AI models\n",
      "            </c4d-card-heading>\n",
      "            <svg class=\"cds--card__pictogram\" focusable=\"false\" height=\"48\" role=\"img\" slot=\"pictogram\" style=\"--colorized-background:url('#g4'); fill: var(--colorized-background)\" width=\"48\">\n",
      "             <svg id=\"app--developer\" viewbox=\"0 0 32 32\" xmlns=\"http://www.w3.org/2000/svg\">\n",
      "              <path d=\"M3.254,9.254L2.746,8.746L3.991,7.5L2.746,6.254l0.509-0.509L5.009,7.5L3.254,9.254z M3,2 C2.724,2,2.5,2.224,2.5,2.5S2.724,3,3,3s0.5-0.224,0.5-0.5S3.276,2,3,2z M5.5,2.5C5.5,2.776,5.276,3,5,3S4.5,2.776,4.5,2.5 S4.724,2,5,2S5.5,2.224,5.5,2.5z M7.5,2.5C7.5,2.776,7.276,3,7,3S6.5,2.776,6.5,2.5S6.724,2,7,2S7.5,2.224,7.5,2.5z M18.5,6.5 C18.5,6.776,18.276,7,18,7s-0.5-0.224-0.5-0.5S17.724,6,18,6S18.5,6.224,18.5,6.5z M20.5,6.5C20.5,6.776,20.276,7,20,7 s-0.5-0.224-0.5-0.5S19.724,6,20,6S20.5,6.224,20.5,6.5z M22.5,6.5C22.5,6.776,22.276,7,22,7s-0.5-0.224-0.5-0.5S21.724,6,22,6 S22.5,6.224,22.5,6.5z M5.5,24.5C5.5,24.776,5.276,25,5,25s-0.5-0.224-0.5-0.5S4.724,24,5,24S5.5,24.224,5.5,24.5z M13,14.36H1 c-0.199,0-0.36-0.161-0.36-0.36V1c0-0.199,0.161-0.36,0.36-0.36h12c0.199,0,0.36,0.161,0.36,0.36v13 C13.36,14.199,13.199,14.36,13,14.36z M12.64,4.36H1.36v9.28h11.28C12.64,13.64,12.64,4.36,12.64,4.36z M12.64,1.36H1.36v2.281 h11.28C12.64,3.641,12.64,1.36,12.64,1.36z M31.36,5v17c0,0.199-0.161,0.36-0.36,0.36H19.691c-0.301,0.471-0.69,0.885-1.152,1.215 c2.875,1.05,4.819,3.778,4.819,6.902l0.002,0.521L22.639,31l-0.002-0.522c0-3.078-2.09-5.729-5.083-6.45 c-0.15-0.035-0.26-0.163-0.274-0.316s0.07-0.299,0.211-0.361c1.315-0.592,2.165-1.9,2.165-3.334c0-2.017-1.64-3.657-3.656-3.657 c-2.018,0-3.66,1.64-3.66,3.657c0,1.434,0.85,2.742,2.166,3.334c0.141,0.062,0.225,0.208,0.211,0.361s-0.125,0.281-0.274,0.316 c-2.993,0.721-5.084,3.372-5.084,6.449l0.001,0.521L8.64,31l-0.001-0.522c0-3.125,1.943-5.854,4.819-6.903 c-1.138-0.812-1.838-2.134-1.838-3.559c0-2.292,1.772-4.178,4.02-4.362V5c0-0.199,0.161-0.36,0.36-0.36h15 C31.199,4.64,31.36,4.801,31.36,5z M30.64,8.36H16.36v7.295c2.246,0.184,4.017,2.07,4.017,4.362c0,0.566-0.11,1.115-0.315,1.623 H30.64V8.36z M30.64,5.36H16.36v2.28h14.28V5.36z M22,11.64h-4v0.72h4V11.64z M23.64,17.5c0-1.577,1.283-2.86,2.86-2.86 s2.86,1.283,2.86,2.86s-1.283,2.86-2.86,2.86S23.64,19.077,23.64,17.5z M28.242,16.266l-1.383,1.383l-0.004,1.955 c1.01-0.171,1.784-1.046,1.784-2.104C28.64,17.04,28.49,16.615,28.242,16.266z M24.36,17.5c0,1.055,0.769,1.928,1.774,2.103 l0.006-2.253l1.592-1.593c-0.349-0.248-0.773-0.397-1.233-0.397C25.32,15.36,24.36,16.32,24.36,17.5z M8,9.64H5v0.72h3V9.64z M3.5,21.36h3v-0.72h-3V21.36z M3.5,19.36h3v-0.72h-3V19.36z M22,13.64h-4v0.72h4V13.64z M29,11.64h-4v0.72h4V11.64z M29,9.64h-4 v0.72h4V9.64z M22,9.64h-4v0.72h4V9.64z M8.36,17.584v7.832c0,0.521-0.423,0.944-0.944,0.944H2.584 c-0.521,0-0.944-0.424-0.944-0.944v-7.832c0-0.521,0.423-0.944,0.944-0.944h4.832C7.937,16.64,8.36,17.063,8.36,17.584z M7.64,23.36 H2.36v2.056c0,0.123,0.101,0.224,0.224,0.224h4.832c0.124,0,0.224-0.101,0.224-0.224C7.64,25.416,7.64,23.36,7.64,23.36z M7.64,17.584c0-0.123-0.101-0.224-0.224-0.224H2.584c-0.124,0-0.224,0.101-0.224,0.224v5.056h5.28 C7.64,22.64,7.64,17.584,7.64,17.584z\">\n",
      "              </path>\n",
      "             </svg>\n",
      "            </svg>\n",
      "            <p>\n",
      "             Get started with cost-efficient AI models, tailored for business and optimized for scale\n",
      "            </p>\n",
      "            <c4d-card-footer color-scheme=\"\" cta-type=\"local\" data-autoid=\"c4d--card-footer\" href=\"https://www.ibm.com/granite?lnk=ProdC\" icon-placement=\"right\" parent-href=\"https://www.ibm.com/granite?lnk=ProdC\" slot=\"footer\" target=\"_self\">\n",
      "            </c4d-card-footer>\n",
      "           </c4d-card-group-item>\n",
      "           <c4d-card-group-item color-scheme=\"\" cta-type=\"local\" data-autoid=\"c4d--card-group-item\" data-video-modal-type=\"media-center\" grid-mode=\"condensed\" href=\"https://www.ibm.com/consulting?lnk=ProdC\" pictogram-placement=\"bottom\" size=\"\" target=\"_self\">\n",
      "            <c4d-card-heading aria-level=\"3\" data-autoid=\"c4d--card-heading\" role=\"heading\" slot=\"heading\">\n",
      "             Consulting\n",
      "            </c4d-card-heading>\n",
      "            <svg class=\"cds--card__pictogram\" focusable=\"false\" height=\"48\" role=\"img\" slot=\"pictogram\" style=\"--colorized-background:url('#g4'); fill: var(--colorized-background)\" width=\"48\">\n",
      "             <svg id=\"group\" viewbox=\"0 0 32 32\" xmlns=\"http://www.w3.org/2000/svg\">\n",
      "              <path d=\"M24.36,31h-0.72v-7.5c0-3.552-2.414-6.604-5.872-7.424c-0.15-0.036-0.261-0.163-0.275-0.316 c-0.015-0.154,0.071-0.3,0.212-0.363c1.517-0.675,2.496-2.181,2.496-3.836c0-2.316-1.884-4.201-4.2-4.201S11.8,9.244,11.8,11.561 c0,1.655,0.98,3.162,2.496,3.836c0.141,0.063,0.227,0.209,0.212,0.363c-0.014,0.153-0.125,0.281-0.275,0.316 c-3.458,0.82-5.872,3.872-5.872,7.424V31H7.64v-7.5c0-3.592,2.257-6.718,5.585-7.879c-1.326-0.907-2.146-2.421-2.146-4.061 c0-1.964,1.157-3.664,2.826-4.452C14.101,6.617,14.2,6.097,14.2,5.561c0-2.316-1.884-4.201-4.2-4.201S5.799,3.244,5.799,5.561 c0,1.656,0.98,3.162,2.496,3.836C8.437,9.46,8.521,9.606,8.507,9.76c-0.014,0.153-0.125,0.281-0.275,0.316 C4.774,10.896,2.36,13.948,2.36,17.5V25H1.64v-7.5c0-3.592,2.257-6.718,5.585-7.879C5.899,8.714,5.08,7.2,5.08,5.561 c0-2.713,2.207-4.92,4.92-4.92s4.92,2.207,4.92,4.92c0,0.422-0.052,0.836-0.157,1.237c0.791-0.205,1.683-0.205,2.473,0 c-0.104-0.401-0.157-0.815-0.157-1.237c0-2.713,2.208-4.92,4.921-4.92s4.921,2.207,4.921,4.92c0,1.64-0.82,3.154-2.146,4.061 c3.329,1.161,5.586,4.287,5.586,7.879V25H29.64v-7.5c0-3.552-2.414-6.604-5.872-7.424c-0.15-0.036-0.261-0.163-0.275-0.316 c-0.015-0.154,0.071-0.3,0.212-0.363C25.221,8.722,26.2,7.216,26.2,5.561c0-2.316-1.884-4.201-4.2-4.201s-4.2,1.884-4.2,4.201 c0,0.536,0.099,1.056,0.295,1.548c1.669,0.789,2.826,2.488,2.826,4.452c0,1.64-0.82,3.154-2.146,4.061 c3.329,1.161,5.586,4.287,5.586,7.879L24.36,31L24.36,31z\">\n",
      "              </path>\n",
      "             </svg>\n",
      "            </svg>\n",
      "            <p>\n",
      "             Engage with IBM Consulting to design, build and operate high-performing businesses\n",
      "            </p>\n",
      "            <c4d-card-footer color-scheme=\"\" cta-type=\"local\" data-autoid=\"c4d--card-footer\" href=\"https://www.ibm.com/consulting?lnk=ProdC\" icon-placement=\"right\" parent-href=\"https://www.ibm.com/consulting?lnk=ProdC\" slot=\"footer\" target=\"_self\">\n",
      "            </c4d-card-footer>\n",
      "           </c4d-card-group-item>\n",
      "           <c4d-card-group-item color-scheme=\"\" cta-type=\"local\" data-autoid=\"c4d--card-group-item\" data-video-modal-type=\"media-center\" grid-mode=\"condensed\" href=\"https://www.ibm.com/analytics?lnk=ProdC\" pictogram-placement=\"bottom\" size=\"\" target=\"_self\">\n",
      "            <c4d-card-heading aria-level=\"3\" data-autoid=\"c4d--card-heading\" role=\"heading\" slot=\"heading\">\n",
      "             Analytics\n",
      "            </c4d-card-heading>\n",
      "            <svg class=\"cds--card__pictogram\" focusable=\"false\" height=\"48\" role=\"img\" slot=\"pictogram\" style=\"--colorized-background:url('#g4'); fill: var(--colorized-background)\" width=\"48\">\n",
      "             <svg id=\"predictive-analytics\" viewbox=\"0 0 32 32\" xmlns=\"http://www.w3.org/2000/svg\">\n",
      "              <path d=\"M31,31.36H1c-0.199,0-0.36-0.161-0.36-0.36 V1h0.72v29.64h4.28v-7.328c-0.576-0.158-1-0.687-1-1.312c0-0.75,0.61-1.36,1.36-1.36c0.364,0,0.694,0.144,0.938,0.377l3.702-2.221 v-8.484c-0.576-0.158-1-0.686-1-1.312c0-0.75,0.61-1.36,1.36-1.36S12.36,8.25,12.36,9c0,0.625-0.424,1.153-1,1.312v8.053l3.33-1.998 c-0.032-0.116-0.05-0.239-0.05-0.366c0-0.75,0.61-1.36,1.36-1.36c0.364,0,0.695,0.144,0.939,0.377l3.701-2.221V6.312 c-0.575-0.158-1-0.686-1-1.312c0-0.75,0.61-1.36,1.36-1.36S22.36,4.25,22.36,5c0,0.625-0.425,1.153-1,1.312v6.053l3.33-1.998 c-0.033-0.117-0.05-0.24-0.05-0.367c0-0.75,0.61-1.36,1.36-1.36s1.36,0.61,1.36,1.36c0,0.625-0.425,1.153-1,1.312V30.64H31V31.36z M21.36,30.64h4.279V11.312c-0.22-0.061-0.418-0.175-0.578-0.328l-3.701,2.221V30.64z M16.36,30.64h4.28V13.636l-3.33,1.998 c0.033,0.116,0.05,0.239,0.05,0.366c0,0.625-0.425,1.153-1,1.312V30.64z M11.36,30.64h4.28V17.312 c-0.22-0.061-0.418-0.175-0.579-0.328l-3.702,2.221V30.64H11.36z M6.36,30.64h4.28V19.636l-3.33,1.998 C7.343,21.75,7.36,21.873,7.36,22c0,0.625-0.424,1.153-1,1.312V30.64z M6,21.36c-0.353,0-0.64,0.287-0.64,0.64S5.647,22.64,6,22.64 S6.64,22.353,6.64,22S6.353,21.36,6,21.36z M16,15.36c-0.353,0-0.64,0.287-0.64,0.64s0.287,0.64,0.64,0.64s0.64-0.287,0.64-0.64 S16.353,15.36,16,15.36z M26,9.36c-0.353,0-0.64,0.287-0.64,0.64s0.287,0.64,0.64,0.64s0.64-0.287,0.64-0.64S26.353,9.36,26,9.36z M11,8.36c-0.353,0-0.64,0.287-0.64,0.64S10.647,9.64,11,9.64S11.64,9.353,11.64,9S11.353,8.36,11,8.36z M21,4.36 c-0.353,0-0.64,0.287-0.64,0.64S20.647,5.64,21,5.64S21.64,5.353,21.64,5S21.353,4.36,21,4.36z\">\n",
      "              </path>\n",
      "             </svg>\n",
      "            </svg>\n",
      "            <p>\n",
      "             Support data-driven decisions for your business\n",
      "            </p>\n",
      "            <c4d-card-footer color-scheme=\"\" cta-type=\"local\" data-autoid=\"c4d--card-footer\" href=\"https://www.ibm.com/analytics?lnk=ProdC\" icon-placement=\"right\" parent-href=\"https://www.ibm.com/analytics?lnk=ProdC\" slot=\"footer\" target=\"_self\">\n",
      "            </c4d-card-footer>\n",
      "           </c4d-card-group-item>\n",
      "           <c4d-card-group-item color-scheme=\"\" cta-type=\"local\" data-autoid=\"c4d--card-group-item\" data-video-modal-type=\"media-center\" grid-mode=\"condensed\" href=\"https://www.ibm.com/automation?lnk=ProdC\" pictogram-placement=\"bottom\" size=\"\" target=\"_self\">\n",
      "            <c4d-card-heading aria-level=\"3\" data-autoid=\"c4d--card-heading\" role=\"heading\" slot=\"heading\">\n",
      "             IT automation\n",
      "            </c4d-card-heading>\n",
      "            <svg class=\"cds--card__pictogram\" focusable=\"false\" height=\"48\" role=\"img\" slot=\"pictogram\" style=\"--colorized-background:url('#g4'); fill: var(--colorized-background)\" width=\"48\">\n",
      "             <svg id=\"automation--decision\" viewbox=\"0 0 32 32\" xmlns=\"http://www.w3.org/2000/svg\">\n",
      "              <path d=\"M27.255,19.255L30.509,16l-3.254-3.254l-0.51,0.509l2.386,2.386H16.149L9.36,8.85V5.36h19.771 l-2.386,2.386l0.51,0.509L30.509,5l-3.254-3.254l-0.51,0.509l2.386,2.386H9C8.801,4.64,8.64,4.801,8.64,5v3.85l-6.895,6.896 c-0.141,0.141-0.141,0.368,0,0.509L8.64,23.15V27c0,0.199,0.161,0.36,0.36,0.36h20.131l-2.386,2.385l0.51,0.51L30.509,27 l-3.254-3.255l-0.51,0.51l2.386,2.385H9.36v-3.49l6.789-6.79h12.982l-2.386,2.385L27.255,19.255z M9,22.491L2.509,16L9,9.508 L15.491,16L9,22.491z\">\n",
      "              </path>\n",
      "             </svg>\n",
      "            </svg>\n",
      "            <p>\n",
      "             Discover how automation solutions increase productivity while managing costs\n",
      "            </p>\n",
      "            <c4d-card-footer color-scheme=\"\" cta-type=\"local\" data-autoid=\"c4d--card-footer\" href=\"https://www.ibm.com/automation?lnk=ProdC\" icon-placement=\"right\" parent-href=\"https://www.ibm.com/automation?lnk=ProdC\" slot=\"footer\" target=\"_self\">\n",
      "            </c4d-card-footer>\n",
      "           </c4d-card-group-item>\n",
      "           <c4d-card-group-item color-scheme=\"\" cta-type=\"local\" data-autoid=\"c4d--card-group-item\" data-video-modal-type=\"media-center\" grid-mode=\"condensed\" href=\"https://www.ibm.com/servers?lnk=ProdC\" pictogram-placement=\"bottom\" size=\"\" target=\"_self\">\n",
      "            <c4d-card-heading aria-level=\"3\" data-autoid=\"c4d--card-heading\" role=\"heading\" slot=\"heading\">\n",
      "             Compute &amp; servers\n",
      "            </c4d-card-heading>\n",
      "            <svg class=\"cds--card__pictogram\" focusable=\"false\" height=\"48\" role=\"img\" slot=\"pictogram\" style=\"--colorized-background:url('#g4'); fill: var(--colorized-background)\" width=\"48\">\n",
      "             <svg id=\"storage--product\" viewbox=\"0 0 32 32\" xmlns=\"http://www.w3.org/2000/svg\">\n",
      "              <path d=\"M30,31.36H8c-0.199,0-0.36-0.161-0.36-0.36v-5c0-0.199,0.161-0.36,0.36-0.36h22 c0.199,0,0.36,0.161,0.36,0.36v5C30.36,31.199,30.199,31.36,30,31.36z M8.36,30.64h21.28v-4.28H8.36V30.64z M6,31.36H2 c-0.199,0-0.36-0.161-0.36-0.36V1c0-0.199,0.161-0.36,0.36-0.36h11c0.199,0,0.36,0.161,0.36,0.36v9h-0.72V1.36H2.36v29.28H6V31.36z M28.36,30h-0.72v-2h0.721L28.36,30L28.36,30z M26.36,30h-0.72v-2h0.721L26.36,30L26.36,30z M24.36,30h-0.72v-2h0.721L24.36,30 L24.36,30z M22.36,30h-0.72v-2h0.721L22.36,30L22.36,30z M30,24.36H8c-0.199,0-0.36-0.161-0.36-0.36v-5 c0-0.199,0.161-0.36,0.36-0.36h22c0.199,0,0.36,0.161,0.36,0.36v5C30.36,24.199,30.199,24.36,30,24.36z M8.36,23.64h21.28v-4.28 H8.36V23.64z M28.36,23h-0.72v-2h0.721L28.36,23L28.36,23z M26.36,23h-0.72v-2h0.721L26.36,23L26.36,23z M24.36,23h-0.72v-2h0.721 L24.36,23L24.36,23z M22.36,23h-0.72v-2h0.721L22.36,23L22.36,23z M30,17.36H8c-0.199,0-0.36-0.161-0.36-0.36v-5 c0-0.199,0.161-0.36,0.36-0.36h22c0.199,0,0.36,0.161,0.36,0.36v5C30.36,17.199,30.199,17.36,30,17.36z M8.36,16.64h21.28v-4.28 H8.36V16.64z M28.36,16h-0.72v-2h0.721L28.36,16L28.36,16z M26.36,16h-0.72v-2h0.721L26.36,16L26.36,16z M24.36,16h-0.72v-2h0.721 L24.36,16L24.36,16z M22.36,16h-0.72v-2h0.721L22.36,16L22.36,16z M6,4.36H4V3.64h2V4.36z\">\n",
      "              </path>\n",
      "             </svg>\n",
      "            </svg>\n",
      "            <p>\n",
      "             Handle mission-critical workloads while maintaining security, reliability and control of your entire IT infrastructure\n",
      "            </p>\n",
      "            <c4d-card-footer color-scheme=\"\" cta-type=\"local\" data-autoid=\"c4d--card-footer\" href=\"https://www.ibm.com/servers?lnk=ProdC\" icon-placement=\"right\" parent-href=\"https://www.ibm.com/servers?lnk=ProdC\" slot=\"footer\" target=\"_self\">\n",
      "            </c4d-card-footer>\n",
      "           </c4d-card-group-item>\n",
      "           <c4d-card-group-item color-scheme=\"\" cta-type=\"local\" data-autoid=\"c4d--card-group-item\" data-video-modal-type=\"media-center\" grid-mode=\"condensed\" href=\"https://www.ibm.com/database?lnk=ProdC\" pictogram-placement=\"bottom\" size=\"\" target=\"_self\">\n",
      "            <c4d-card-heading aria-level=\"3\" data-autoid=\"c4d--card-heading\" role=\"heading\" slot=\"heading\">\n",
      "             Databases\n",
      "            </c4d-card-heading>\n",
      "            <svg class=\"cds--card__pictogram\" focusable=\"false\" height=\"48\" role=\"img\" slot=\"pictogram\" style=\"--colorized-background:url('#g4'); fill: var(--colorized-background)\" width=\"48\">\n",
      "             <svg id=\"hard--drive--network\" viewbox=\"0 0 32 32\" xmlns=\"http://www.w3.org/2000/svg\">\n",
      "              <path d=\"M20,6c-0.552,0-1-0.448-1-1s0.448-1,1-1s1,0.448,1,1S20.552,6,20,6z M21,16 c0-0.552-0.448-1-1-1s-1,0.448-1,1s0.448,1,1,1S21,16.552,21,16z M21,27c0-0.552-0.448-1-1-1s-1,0.448-1,1s0.448,1,1,1 S21,27.552,21,27z M24,31.36H1c-0.199,0-0.36-0.161-0.36-0.36v-8c0-0.199,0.161-0.36,0.36-0.36h23c0.199,0,0.36,0.161,0.36,0.36v8 C24.36,31.199,24.199,31.36,24,31.36z M1.36,30.64h22.28v-7.28H1.36V30.64z M31,27.36h-5v-0.72h4.64V16.36H26v-0.72h4.64V5.36H26 V4.64h5c0.199,0,0.36,0.161,0.36,0.36v22C31.36,27.199,31.199,27.36,31,27.36z M24,20.36H1c-0.199,0-0.36-0.161-0.36-0.36v-8 c0-0.199,0.161-0.36,0.36-0.36h23c0.199,0,0.36,0.161,0.36,0.36v8C24.36,20.199,24.199,20.36,24,20.36z M1.36,19.64h22.28v-7.28 H1.36V19.64z M24,9.36H1C0.801,9.36,0.64,9.199,0.64,9V1c0-0.199,0.161-0.36,0.36-0.36h23c0.199,0,0.36,0.161,0.36,0.36v8 C24.36,9.199,24.199,9.36,24,9.36z M1.36,8.64h22.28V1.36H1.36V8.64z\">\n",
      "              </path>\n",
      "             </svg>\n",
      "            </svg>\n",
      "            <p>\n",
      "             Run your applications, analytics and generative AI with databases on any cloud\n",
      "            </p>\n",
      "            <c4d-card-footer color-scheme=\"\" cta-type=\"local\" data-autoid=\"c4d--card-footer\" href=\"https://www.ibm.com/database?lnk=ProdC\" icon-placement=\"right\" parent-href=\"https://www.ibm.com/database?lnk=ProdC\" slot=\"footer\" target=\"_self\">\n",
      "            </c4d-card-footer>\n",
      "           </c4d-card-group-item>\n",
      "           <c4d-card-group-item color-scheme=\"\" cta-type=\"local\" data-autoid=\"c4d--card-group-item\" data-video-modal-type=\"media-center\" grid-mode=\"condensed\" href=\"https://www.ibm.com/security?lnk=ProdC\" pictogram-placement=\"bottom\" size=\"\" target=\"_self\">\n",
      "            <c4d-card-heading aria-level=\"3\" data-autoid=\"c4d--card-heading\" role=\"heading\" slot=\"heading\">\n",
      "             Security &amp; identity\n",
      "            </c4d-card-heading>\n",
      "            <svg class=\"cds--card__pictogram\" focusable=\"false\" height=\"48\" role=\"img\" slot=\"pictogram\" style=\"--colorized-background:url('#g4'); fill: var(--colorized-background)\" width=\"48\">\n",
      "             <svg id=\"secure--profile\" viewbox=\"0 0 32 32\" xmlns=\"http://www.w3.org/2000/svg\">\n",
      "              <path d=\"M23.14,25.415v-1.988c-0.373-0.145-0.64-0.503-0.64-0.927c0-0.552,0.448-1,1-1s1,0.448,1,1 c0,0.424-0.266,0.782-0.64,0.927v1.988c0,0.199-0.161,0.36-0.36,0.36S23.14,25.614,23.14,25.415z M31.36,16v15 c0,0.199-0.161,0.36-0.36,0.36H16c-0.199,0-0.36-0.161-0.36-0.36V19h0.72v11.64h14.28V16.36H1c-0.199,0-0.36-0.161-0.36-0.36V1 c0-0.199,0.161-0.36,0.36-0.36h15c0.199,0,0.36,0.161,0.36,0.36v12h-0.72V1.36H1.36v14.28h2.28v-2.639 c0-1.926,1.166-3.659,2.908-4.427C5.978,8.04,5.643,7.293,5.643,6.5c0-1.577,1.283-2.86,2.86-2.86s2.86,1.283,2.86,2.86 c0,0.794-0.335,1.542-0.907,2.075c1.74,0.77,2.904,2.502,2.904,4.426v2.639h6.28V11.5c0-2.128,1.731-3.86,3.859-3.86 c2.129,0,3.861,1.731,3.861,3.86l-0.001,4.14H31C31.199,15.64,31.36,15.801,31.36,16z M12.64,13.001c0-1.837-1.25-3.47-3.041-3.97 c-0.141-0.04-0.244-0.16-0.261-0.306C9.321,8.58,9.395,8.439,9.523,8.369c0.69-0.379,1.12-1.095,1.12-1.869 c0-1.18-0.96-2.14-2.14-2.14s-2.14,0.96-2.14,2.14c0,0.773,0.429,1.489,1.119,1.868c0.128,0.07,0.201,0.211,0.184,0.357 C7.648,8.87,7.545,8.991,7.404,9.03C5.612,9.529,4.36,11.162,4.36,13.001v2.639h8.28C12.64,15.64,12.64,13.001,12.64,13.001z M26.64,11.5c0-1.731-1.408-3.14-3.14-3.14s-3.14,1.409-3.14,3.14v4.14h6.278L26.64,11.5z\">\n",
      "              </path>\n",
      "             </svg>\n",
      "            </svg>\n",
      "            <p>\n",
      "             Secure hybrid cloud and AI with data and identity-centric cybersecurity solutions\n",
      "            </p>\n",
      "            <c4d-card-footer color-scheme=\"\" cta-type=\"local\" data-autoid=\"c4d--card-footer\" href=\"https://www.ibm.com/security?lnk=ProdC\" icon-placement=\"right\" parent-href=\"https://www.ibm.com/security?lnk=ProdC\" slot=\"footer\" target=\"_self\">\n",
      "            </c4d-card-footer>\n",
      "           </c4d-card-group-item>\n",
      "          </c4d-card-group>\n",
      "         </div>\n",
      "         <div horizontal-ruler=\"\">\n",
      "          <c4d-hr>\n",
      "          </c4d-hr>\n",
      "         </div>\n",
      "         <script defer=\"\" src=\"/etc.clientlibs/adobe-cms/clientlibs/clientlib-card-group.lc-394003e49d30be19bd312792d5175a82-lc.min.js\">\n",
      "         </script>\n",
      "         <svg class=\"cds--visually-hidden\">\n",
      "          <defs>\n",
      "           <lineargradient id=\"g1\" x1=\"0%\" x2=\"0%\" y1=\"0%\" y2=\"100%\">\n",
      "            <stop offset=\"0%\" stop-color=\"#0F62FE\">\n",
      "            </stop>\n",
      "            <stop offset=\"100%\" stop-color=\"#8A3FFC\">\n",
      "            </stop>\n",
      "           </lineargradient>\n",
      "           <lineargradient id=\"g1-dark\" x1=\"0%\" x2=\"0%\" y1=\"0%\" y2=\"100%\">\n",
      "            <stop offset=\"0%\" stop-color=\"#4589FF\">\n",
      "            </stop>\n",
      "            <stop offset=\"100%\" stop-color=\"#A56EFF\">\n",
      "            </stop>\n",
      "           </lineargradient>\n",
      "           <lineargradient id=\"g2\" x1=\"0%\" x2=\"0%\" y1=\"0%\" y2=\"100%\">\n",
      "            <stop offset=\"0%\" stop-color=\"#0F62FE\">\n",
      "            </stop>\n",
      "            <stop offset=\"100%\" stop-color=\"#78A9FF\">\n",
      "            </stop>\n",
      "           </lineargradient>\n",
      "           <lineargradient id=\"g2-dark\" x1=\"0%\" x2=\"0%\" y1=\"0%\" y2=\"100%\">\n",
      "            <stop offset=\"0%\" stop-color=\"#0F62FE\">\n",
      "            </stop>\n",
      "            <stop offset=\"100%\" stop-color=\"#78A9FF\">\n",
      "            </stop>\n",
      "           </lineargradient>\n",
      "           <lineargradient id=\"g3\" x1=\"0%\" x2=\"0%\" y1=\"0%\" y2=\"100%\">\n",
      "            <stop offset=\"0%\" stop-color=\"#0F62FE\">\n",
      "            </stop>\n",
      "            <stop offset=\"100%\" stop-color=\"#08BDBA\">\n",
      "            </stop>\n",
      "           </lineargradient>\n",
      "           <lineargradient id=\"g3-dark\" x1=\"0%\" x2=\"0%\" y1=\"0%\" y2=\"100%\">\n",
      "            <stop offset=\"0%\" stop-color=\"#4589FF\">\n",
      "            </stop>\n",
      "            <stop offset=\"100%\" stop-color=\"#08BDBA\">\n",
      "            </stop>\n",
      "           </lineargradient>\n",
      "           <lineargradient id=\"g4\" x1=\"0%\" x2=\"0%\" y1=\"0%\" y2=\"100%\">\n",
      "            <stop offset=\"0%\" stop-color=\"#0F62FE\">\n",
      "            </stop>\n",
      "            <stop offset=\"100%\" stop-color=\"#FF7EB6\">\n",
      "            </stop>\n",
      "           </lineargradient>\n",
      "           <lineargradient id=\"g4-dark\" x1=\"0%\" x2=\"0%\" y1=\"0%\" y2=\"100%\">\n",
      "            <stop offset=\"0%\" stop-color=\"#4589FF\">\n",
      "            </stop>\n",
      "            <stop offset=\"100%\" stop-color=\"#EE5396\">\n",
      "            </stop>\n",
      "           </lineargradient>\n",
      "           <lineargradient id=\"g5\" x1=\"0%\" x2=\"0%\" y1=\"0%\" y2=\"100%\">\n",
      "            <stop offset=\"0%\" stop-color=\"#FA4D56\">\n",
      "            </stop>\n",
      "            <stop offset=\"100%\" stop-color=\"#A56EFF\">\n",
      "            </stop>\n",
      "           </lineargradient>\n",
      "           <lineargradient id=\"g5-dark\" x1=\"0%\" x2=\"0%\" y1=\"0%\" y2=\"100%\">\n",
      "            <stop offset=\"0%\" stop-color=\"#FA4D56\">\n",
      "            </stop>\n",
      "            <stop offset=\"100%\" stop-color=\"#A56EFF\">\n",
      "            </stop>\n",
      "           </lineargradient>\n",
      "          </defs>\n",
      "         </svg>\n",
      "        </div>\n",
      "        <div class=\"cta-section\">\n",
      "         <c4d-cta-block class=\"title-plus-3-items-layout\">\n",
      "          <c4d-content-block-heading class=\"\">\n",
      "           Inside IBM\n",
      "          </c4d-content-block-heading>\n",
      "          <c4d-cta-block-item-row no-border=\"\">\n",
      "           <c4d-cta-block-item>\n",
      "            <c4d-content-item-heading>\n",
      "             Our company\n",
      "            </c4d-content-item-heading>\n",
      "            <c4d-content-item-copy>\n",
      "             <c4d-content-item-paragraph>\n",
      "              <div class=\"cms-richtext\" data-dynamic-inner-content=\"description\" id=\"rich-text-fa074a9752\">\n",
      "               <p>\n",
      "                Explore IBM history and culture of putting technology to work in the real world\n",
      "               </p>\n",
      "              </div>\n",
      "             </c4d-content-item-paragraph>\n",
      "            </c4d-content-item-copy>\n",
      "            <c4d-text-cta cta-type=\"local\" data-dynamic-inner-content=\"ctaLabel\" data-dynamic-properties='{\"ctaUrl\":\"href\"}' data-video-modal-type=\"media-center\" href=\"https://www.ibm.com/about?lnk=inside\" icon-placement=\"right\" slot=\"footer\" target=\"_self\">\n",
      "             About IBM\n",
      "            </c4d-text-cta>\n",
      "            <c4d-text-cta cta-type=\"local\" data-dynamic-inner-content=\"ctaLabel\" data-dynamic-properties='{\"ctaUrl\":\"href\"}' data-video-modal-type=\"media-center\" href=\"https://www.ibm.com/history?lnk=inside\" icon-placement=\"right\" slot=\"footer\" target=\"_self\">\n",
      "             Our history\n",
      "            </c4d-text-cta>\n",
      "           </c4d-cta-block-item>\n",
      "           <script defer=\"\" src=\"/etc.clientlibs/adobe-cms/clientlibs/clientlib-cta-block.lc-4f75386c4a9d043ad0530aa4239413e6-lc.min.js\">\n",
      "           </script>\n",
      "           <c4d-cta-block-item>\n",
      "            <c4d-content-item-heading>\n",
      "             Our impact\n",
      "            </c4d-content-item-heading>\n",
      "            <c4d-content-item-copy>\n",
      "             <c4d-content-item-paragraph>\n",
      "              <div class=\"cms-richtext\" data-dynamic-inner-content=\"description\" id=\"rich-text-4b244d2cb1\">\n",
      "               <p>\n",
      "                Learn about IBM's commitment to environmental, equitable and ethical pillars\n",
      "               </p>\n",
      "              </div>\n",
      "             </c4d-content-item-paragraph>\n",
      "            </c4d-content-item-copy>\n",
      "            <c4d-text-cta cta-type=\"local\" data-dynamic-inner-content=\"ctaLabel\" data-dynamic-properties='{\"ctaUrl\":\"href\"}' data-video-modal-type=\"media-center\" href=\"https://www.ibm.com/impact?lnk=inside\" icon-placement=\"right\" slot=\"footer\" target=\"_self\">\n",
      "             Corporate social responsibility\n",
      "            </c4d-text-cta>\n",
      "            <c4d-text-cta cta-type=\"local\" data-dynamic-inner-content=\"ctaLabel\" data-dynamic-properties='{\"ctaUrl\":\"href\"}' data-video-modal-type=\"media-center\" href=\"https://www.ibm.com/impact/be-equal?lnk=inside\" icon-placement=\"right\" slot=\"footer\" target=\"_self\">\n",
      "             Diversity and inclusion\n",
      "            </c4d-text-cta>\n",
      "           </c4d-cta-block-item>\n",
      "           <c4d-cta-block-item>\n",
      "            <c4d-content-item-heading>\n",
      "             Our innovations\n",
      "            </c4d-content-item-heading>\n",
      "            <c4d-content-item-copy>\n",
      "             <c4d-content-item-paragraph>\n",
      "              <div class=\"cms-richtext\" data-dynamic-inner-content=\"description\" id=\"rich-text-77395c58ee\">\n",
      "               <p>\n",
      "                Visit the IBM lab, and see what's in store for the future of computing\n",
      "               </p>\n",
      "              </div>\n",
      "             </c4d-content-item-paragraph>\n",
      "            </c4d-content-item-copy>\n",
      "            <c4d-text-cta cta-type=\"external\" data-dynamic-inner-content=\"ctaLabel\" data-dynamic-properties='{\"ctaUrl\":\"href\"}' data-video-modal-type=\"media-center\" href=\"https://research.ibm.com?lnk=inside\" icon-placement=\"right\" slot=\"footer\" target=\"_self\">\n",
      "             IBM Research\n",
      "            </c4d-text-cta>\n",
      "            <c4d-text-cta cta-type=\"local\" data-dynamic-inner-content=\"ctaLabel\" data-dynamic-properties='{\"ctaUrl\":\"href\"}' data-video-modal-type=\"media-center\" href=\"https://www.ibm.com/quantum?lnk=inside\" icon-placement=\"right\" slot=\"footer\" target=\"_self\">\n",
      "             Quantum computing\n",
      "            </c4d-text-cta>\n",
      "           </c4d-cta-block-item>\n",
      "          </c4d-cta-block-item-row>\n",
      "         </c4d-cta-block>\n",
      "        </div>\n",
      "        <div class=\"intro-section\">\n",
      "         <div class=\"intro-section--flex\">\n",
      "          <div class=\"intro-section--heading-wrapper\">\n",
      "           <h2 class=\"expressive-heading-05\">\n",
      "            Take the next step\n",
      "           </h2>\n",
      "          </div>\n",
      "          <div class=\"intro-section--content-wrapper\">\n",
      "           <span>\n",
      "            <div class=\"cms-richtext\" data-dynamic-inner-content=\"description\" id=\"rich-text-8224f9545a\">\n",
      "             <p>\n",
      "              Solving the world’s problems through technology wouldn’t be possible without people with the right skills. See what it takes to become an IBMer, or build your skills with our educational courses.\n",
      "             </p>\n",
      "            </div>\n",
      "           </span>\n",
      "           <c4d-link-list type=\"vertical\">\n",
      "           </c4d-link-list>\n",
      "          </div>\n",
      "         </div>\n",
      "        </div>\n",
      "        <div class=\"container-50-50 container responsivegrid\">\n",
      "         <div class=\"container-50-50-container\">\n",
      "          <div class=\"container-50-50-row\">\n",
      "           <div class=\"container-50-50--col-lg-8\">\n",
      "            <div class=\"cmp-container\" id=\"container-item-50-50-854ab607b3\">\n",
      "             <div class=\"tile-card card link button\">\n",
      "              <caem-tile align-with-content=\"align-with-content\" cta-type=\"local\" data-video-modal-type=\"media-center\" double-tile=\"double-tile\" href=\"https://www.ibm.com/careers?lnk=next\" label=\"IBM Careers\" target=\"_self\">\n",
      "               <c4d-image alt=\"Woman standing next to IBM logo illustration\" class=\"\" default-src=\"/content/dam/connectedassets-adobe-cms/worldwide-content/creative-assets/tai/ul/g/16/b2/photo-435_hn.component.tile-card-xl.ts=1736864613682.jpg/content/adobe-cms/us/en/homepage/jcr:content/root/table_of_contents/container_50_50_copy/container1/tile_card_1011472503/image\" id=\"image--1583282671\" slot=\"image\">\n",
      "                <c4d-image-item media=\"(min-width: 1312px) and (min-resolution: 192dpi)\" srcset=\"/content/dam/connectedassets-adobe-cms/worldwide-content/creative-assets/tai/ul/g/16/b2/photo-435_hn.component.tile-card-xl-retina.ts=1736864613682.jpg/content/adobe-cms/us/en/homepage/jcr:content/root/table_of_contents/container_50_50_copy/container1/tile_card_1011472503/image\">\n",
      "                </c4d-image-item>\n",
      "                <c4d-image-item media=\"(min-width: 1312px)\" srcset=\"/content/dam/connectedassets-adobe-cms/worldwide-content/creative-assets/tai/ul/g/16/b2/photo-435_hn.component.tile-card-xl.ts=1736864613682.jpg/content/adobe-cms/us/en/homepage/jcr:content/root/table_of_contents/container_50_50_copy/container1/tile_card_1011472503/image\">\n",
      "                </c4d-image-item>\n",
      "                <c4d-image-item media=\"(min-width: 1056px) and (min-resolution: 192dpi)\" srcset=\"/content/dam/connectedassets-adobe-cms/worldwide-content/creative-assets/tai/ul/g/16/b2/photo-435_hn.component.tile-card-l-retina.ts=1736864613682.jpg/content/adobe-cms/us/en/homepage/jcr:content/root/table_of_contents/container_50_50_copy/container1/tile_card_1011472503/image\">\n",
      "                </c4d-image-item>\n",
      "                <c4d-image-item media=\"(min-width: 1056px)\" srcset=\"/content/dam/connectedassets-adobe-cms/worldwide-content/creative-assets/tai/ul/g/16/b2/photo-435_hn.component.tile-card-l.ts=1736864613682.jpg/content/adobe-cms/us/en/homepage/jcr:content/root/table_of_contents/container_50_50_copy/container1/tile_card_1011472503/image\">\n",
      "                </c4d-image-item>\n",
      "                <c4d-image-item media=\"(min-width: 672px) and (min-resolution: 192dpi)\" srcset=\"/content/dam/connectedassets-adobe-cms/worldwide-content/creative-assets/tai/ul/g/16/b2/photo-435_hn.component.tile-card-m-retina.ts=1736864613682.jpg/content/adobe-cms/us/en/homepage/jcr:content/root/table_of_contents/container_50_50_copy/container1/tile_card_1011472503/image\">\n",
      "                </c4d-image-item>\n",
      "                <c4d-image-item media=\"(min-width: 672px)\" srcset=\"/content/dam/connectedassets-adobe-cms/worldwide-content/creative-assets/tai/ul/g/16/b2/photo-435_hn.component.tile-card-m.ts=1736864613682.jpg/content/adobe-cms/us/en/homepage/jcr:content/root/table_of_contents/container_50_50_copy/container1/tile_card_1011472503/image\">\n",
      "                </c4d-image-item>\n",
      "                <c4d-image-item media=\"(min-width: 481px) and (min-resolution: 192dpi)\" srcset=\"/content/dam/connectedassets-adobe-cms/worldwide-content/creative-assets/tai/ul/g/16/b2/photo-435_hn.component.tile-card-s-retina.ts=1736864613682.jpg/content/adobe-cms/us/en/homepage/jcr:content/root/table_of_contents/container_50_50_copy/container1/tile_card_1011472503/image\">\n",
      "                </c4d-image-item>\n",
      "                <c4d-image-item media=\"(min-width: 481px)\" srcset=\"/content/dam/connectedassets-adobe-cms/worldwide-content/creative-assets/tai/ul/g/16/b2/photo-435_hn.component.tile-card-s.ts=1736864613682.jpg/content/adobe-cms/us/en/homepage/jcr:content/root/table_of_contents/container_50_50_copy/container1/tile_card_1011472503/image\">\n",
      "                </c4d-image-item>\n",
      "                <c4d-image-item media=\"(max-width: 480px) and (min-resolution: 192dpi)\" srcset=\"/content/dam/connectedassets-adobe-cms/worldwide-content/creative-assets/tai/ul/g/16/b2/photo-435_hn.component.tile-card-xs-retina.ts=1736864613682.jpg/content/adobe-cms/us/en/homepage/jcr:content/root/table_of_contents/container_50_50_copy/container1/tile_card_1011472503/image\">\n",
      "                </c4d-image-item>\n",
      "                <c4d-image-item media=\"(max-width: 480px)\" srcset=\"/content/dam/connectedassets-adobe-cms/worldwide-content/creative-assets/tai/ul/g/16/b2/photo-435_hn.component.tile-card-xs.ts=1736864613682.jpg/content/adobe-cms/us/en/homepage/jcr:content/root/table_of_contents/container_50_50_copy/container1/tile_card_1011472503/image\">\n",
      "                </c4d-image-item>\n",
      "               </c4d-image>\n",
      "               Become an IBMer\n",
      "               <p slot=\"cta\">\n",
      "                Explore jobs\n",
      "               </p>\n",
      "              </caem-tile>\n",
      "              <div class=\"caem-card-svg-source\" hidden=\"\">\n",
      "               <svg id=\"accelerated-computing\" viewbox=\"0 0 32 32\" xmlns=\"http://www.w3.org/2000/svg\">\n",
      "                <path d=\"M19,29.36c-3.401,0-6.596-1.506-8.764-4.131l0.556-0.459c2.03,2.459,5.022,3.869,8.208,3.869 c5.867,0,10.64-4.772,10.64-10.64c0-5.867-4.772-10.64-10.64-10.64c-3.186,0-6.177,1.411-8.208,3.87l-0.555-0.459 c2.091-2.532,5.137-4.022,8.403-4.125V5.36H16c-0.199,0-0.36-0.161-0.36-0.36V3c0-0.199,0.161-0.36,0.36-0.36h6 c0.199,0,0.36,0.161,0.36,0.36v2c0,0.199-0.161,0.36-0.36,0.36h-2.64v1.286c6.098,0.191,11,5.211,11,11.354 C30.36,24.264,25.264,29.36,19,29.36z M16.36,4.64h5.28V3.36h-5.28V4.64z M14,23.36H4v-0.72h10V23.36z M12,18.36H2v-0.72h10V18.36z M19.179,18.312l-0.357-0.625l7-4l0.357,0.625L19.179,18.312z M14,13.36H4v-0.72h10V13.36z\">\n",
      "                </path>\n",
      "               </svg>\n",
      "              </div>\n",
      "             </div>\n",
      "            </div>\n",
      "           </div>\n",
      "           <div class=\"container-50-50--col-lg-8\">\n",
      "            <div class=\"cmp-container\" id=\"container-item-50-50-07b2100915\">\n",
      "             <div class=\"tile-card card link button\">\n",
      "              <caem-tile align-with-content=\"align-with-content\" cta-type=\"external\" data-video-modal-type=\"media-center\" double-tile=\"double-tile\" href=\"https://skillsbuild.org?lnk=next\" label=\"IBM SkillsBuild\" target=\"_blank\">\n",
      "               <c4d-image alt=\"Woman holding laptop and looking at camera\" class=\"\" default-src=\"/content/dam/connectedassets-adobe-cms/worldwide-content/stock-assets/getty/image/others/80/0e/800e7041-0619-467f-b991f916451e1e50.component.tile-card-xl.ts=1736864613829.jpg/content/adobe-cms/us/en/homepage/jcr:content/root/table_of_contents/container_50_50_copy/container2/tile_card_769450518_/image\" id=\"image--1454371264\" slot=\"image\">\n",
      "                <c4d-image-item media=\"(min-width: 1312px) and (min-resolution: 192dpi)\" srcset=\"/content/dam/connectedassets-adobe-cms/worldwide-content/stock-assets/getty/image/others/80/0e/800e7041-0619-467f-b991f916451e1e50.component.tile-card-xl-retina.ts=1736864613829.jpg/content/adobe-cms/us/en/homepage/jcr:content/root/table_of_contents/container_50_50_copy/container2/tile_card_769450518_/image\">\n",
      "                </c4d-image-item>\n",
      "                <c4d-image-item media=\"(min-width: 1312px)\" srcset=\"/content/dam/connectedassets-adobe-cms/worldwide-content/stock-assets/getty/image/others/80/0e/800e7041-0619-467f-b991f916451e1e50.component.tile-card-xl.ts=1736864613829.jpg/content/adobe-cms/us/en/homepage/jcr:content/root/table_of_contents/container_50_50_copy/container2/tile_card_769450518_/image\">\n",
      "                </c4d-image-item>\n",
      "                <c4d-image-item media=\"(min-width: 1056px) and (min-resolution: 192dpi)\" srcset=\"/content/dam/connectedassets-adobe-cms/worldwide-content/stock-assets/getty/image/others/80/0e/800e7041-0619-467f-b991f916451e1e50.component.tile-card-l-retina.ts=1736864613829.jpg/content/adobe-cms/us/en/homepage/jcr:content/root/table_of_contents/container_50_50_copy/container2/tile_card_769450518_/image\">\n",
      "                </c4d-image-item>\n",
      "                <c4d-image-item media=\"(min-width: 1056px)\" srcset=\"/content/dam/connectedassets-adobe-cms/worldwide-content/stock-assets/getty/image/others/80/0e/800e7041-0619-467f-b991f916451e1e50.component.tile-card-l.ts=1736864613829.jpg/content/adobe-cms/us/en/homepage/jcr:content/root/table_of_contents/container_50_50_copy/container2/tile_card_769450518_/image\">\n",
      "                </c4d-image-item>\n",
      "                <c4d-image-item media=\"(min-width: 672px) and (min-resolution: 192dpi)\" srcset=\"/content/dam/connectedassets-adobe-cms/worldwide-content/stock-assets/getty/image/others/80/0e/800e7041-0619-467f-b991f916451e1e50.component.tile-card-m-retina.ts=1736864613829.jpg/content/adobe-cms/us/en/homepage/jcr:content/root/table_of_contents/container_50_50_copy/container2/tile_card_769450518_/image\">\n",
      "                </c4d-image-item>\n",
      "                <c4d-image-item media=\"(min-width: 672px)\" srcset=\"/content/dam/connectedassets-adobe-cms/worldwide-content/stock-assets/getty/image/others/80/0e/800e7041-0619-467f-b991f916451e1e50.component.tile-card-m.ts=1736864613829.jpg/content/adobe-cms/us/en/homepage/jcr:content/root/table_of_contents/container_50_50_copy/container2/tile_card_769450518_/image\">\n",
      "                </c4d-image-item>\n",
      "                <c4d-image-item media=\"(min-width: 481px) and (min-resolution: 192dpi)\" srcset=\"/content/dam/connectedassets-adobe-cms/worldwide-content/stock-assets/getty/image/others/80/0e/800e7041-0619-467f-b991f916451e1e50.component.tile-card-s-retina.ts=1736864613829.jpg/content/adobe-cms/us/en/homepage/jcr:content/root/table_of_contents/container_50_50_copy/container2/tile_card_769450518_/image\">\n",
      "                </c4d-image-item>\n",
      "                <c4d-image-item media=\"(min-width: 481px)\" srcset=\"/content/dam/connectedassets-adobe-cms/worldwide-content/stock-assets/getty/image/others/80/0e/800e7041-0619-467f-b991f916451e1e50.component.tile-card-s.ts=1736864613829.jpg/content/adobe-cms/us/en/homepage/jcr:content/root/table_of_contents/container_50_50_copy/container2/tile_card_769450518_/image\">\n",
      "                </c4d-image-item>\n",
      "                <c4d-image-item media=\"(max-width: 480px) and (min-resolution: 192dpi)\" srcset=\"/content/dam/connectedassets-adobe-cms/worldwide-content/stock-assets/getty/image/others/80/0e/800e7041-0619-467f-b991f916451e1e50.component.tile-card-xs-retina.ts=1736864613829.jpg/content/adobe-cms/us/en/homepage/jcr:content/root/table_of_contents/container_50_50_copy/container2/tile_card_769450518_/image\">\n",
      "                </c4d-image-item>\n",
      "                <c4d-image-item media=\"(max-width: 480px)\" srcset=\"/content/dam/connectedassets-adobe-cms/worldwide-content/stock-assets/getty/image/others/80/0e/800e7041-0619-467f-b991f916451e1e50.component.tile-card-xs.ts=1736864613829.jpg/content/adobe-cms/us/en/homepage/jcr:content/root/table_of_contents/container_50_50_copy/container2/tile_card_769450518_/image\">\n",
      "                </c4d-image-item>\n",
      "               </c4d-image>\n",
      "               Explore learning opportunities\n",
      "               <p slot=\"cta\">\n",
      "                Start learning\n",
      "               </p>\n",
      "              </caem-tile>\n",
      "              <div class=\"caem-card-svg-source\" hidden=\"\">\n",
      "               <svg id=\"accelerated-computing\" viewbox=\"0 0 32 32\" xmlns=\"http://www.w3.org/2000/svg\">\n",
      "                <path d=\"M19,29.36c-3.401,0-6.596-1.506-8.764-4.131l0.556-0.459c2.03,2.459,5.022,3.869,8.208,3.869 c5.867,0,10.64-4.772,10.64-10.64c0-5.867-4.772-10.64-10.64-10.64c-3.186,0-6.177,1.411-8.208,3.87l-0.555-0.459 c2.091-2.532,5.137-4.022,8.403-4.125V5.36H16c-0.199,0-0.36-0.161-0.36-0.36V3c0-0.199,0.161-0.36,0.36-0.36h6 c0.199,0,0.36,0.161,0.36,0.36v2c0,0.199-0.161,0.36-0.36,0.36h-2.64v1.286c6.098,0.191,11,5.211,11,11.354 C30.36,24.264,25.264,29.36,19,29.36z M16.36,4.64h5.28V3.36h-5.28V4.64z M14,23.36H4v-0.72h10V23.36z M12,18.36H2v-0.72h10V18.36z M19.179,18.312l-0.357-0.625l7-4l0.357,0.625L19.179,18.312z M14,13.36H4v-0.72h10V13.36z\">\n",
      "                </path>\n",
      "               </svg>\n",
      "              </div>\n",
      "             </div>\n",
      "            </div>\n",
      "           </div>\n",
      "          </div>\n",
      "         </div>\n",
      "        </div>\n",
      "        <div class=\"modular-container container responsivegrid\">\n",
      "         <div class=\"cmp-container\" id=\"modular-container-5d1eac4ca1\">\n",
      "          <div class=\"standalone-text rich-text text\">\n",
      "          </div>\n",
      "         </div>\n",
      "        </div>\n",
      "       </div>\n",
      "      </c4d-table-of-contents>\n",
      "      <script defer=\"\" src=\"/etc.clientlibs/adobe-cms/clientlibs/clientlib-table-of-contents.lc-3a751d291d9805a19cd9792d998704e9-lc.min.js\">\n",
      "      </script>\n",
      "     </div>\n",
      "     <div class=\"footer\">\n",
      "      <c4d-footer-container class=\"cmp-footer\" data-autoid=\"c4d--footer\" data-children-count=\"0\" data-cmp-is=\"footer\" size=\"tall\">\n",
      "      </c4d-footer-container>\n",
      "      <script defer=\"\" src=\"/etc.clientlibs/adobe-cms/clientlibs/clientlib-footer.lc-42492175a74ea1f57c14b4f2140476ef-lc.min.js\">\n",
      "      </script>\n",
      "     </div>\n",
      "    </div>\n",
      "   </div>\n",
      "  </c4d-video-cta-container>\n",
      "  <div aria-hidden=\"true\" class=\"video-modal-overlay\">\n",
      "   <div class=\"video-modal-overlay__dialog\">\n",
      "    <div class=\"video-modal-overlay__dialog--body\">\n",
      "     <div class=\"video-modal-overlay__dialog--body__close-btn\">\n",
      "      <svg fill=\"none\" height=\"24\" viewbox=\"0 0 24 24\" width=\"24\" xmlns=\"http://www.w3.org/2000/svg\">\n",
      "       <rect fill=\"white\" fill-opacity=\"0.01\" height=\"24\" style=\"mix-blend-mode:multiply\" width=\"24\">\n",
      "       </rect>\n",
      "       <path d=\"M13.0606 12L19.5 5.56058L18.4394 4.5L12 10.9394L5.56072 4.5L4.5 5.56058L10.9394 12L4.5 18.4394L5.56072 19.5L12 13.0606L18.4394 19.5L19.5 18.4394L13.0606 12Z\" fill=\"#161616\" id=\"Vector\">\n",
      "       </path>\n",
      "      </svg>\n",
      "     </div>\n",
      "     <div class=\"video-modal-overlay__dialog--body-content\">\n",
      "      <div class=\"video-modal-overlay__loading-container\">\n",
      "       <cds-loading>\n",
      "       </cds-loading>\n",
      "      </div>\n",
      "      <div class=\"video-wms hide\">\n",
      "       <iframe allowfullscreen=\"\" class=\"video-modal-content\" data-original-src=\"https://video.ibm.com/embed/$[wmsChanneId]?volume=0&amp;autoplay=true&amp;controls=true\" frameborder=\"no\" referrerpolicy=\"no-referrer-when-downgrade\" src=\"\" webkitallowfullscreen=\"\">\n",
      "       </iframe>\n",
      "      </div>\n",
      "      <div class=\"video-media-center hide\">\n",
      "       <c4d-video-player-container aspect-ratio=\"16x9\" auto-play=\"\" muted=\"\" playing-mode=\"inline\" video-id=\"\">\n",
      "       </c4d-video-player-container>\n",
      "      </div>\n",
      "     </div>\n",
      "    </div>\n",
      "   </div>\n",
      "  </div>\n",
      "  <script defer=\"\" src=\"/etc.clientlibs/adobe-cms/clientlibs/clientlib-video-player.lc-71031a5e6e9f73f96c045ab552ed5c9d-lc.min.js\">\n",
      "  </script>\n",
      "  <script defer=\"\" src=\"/etc.clientlibs/adobe-cms/clientlibs/clientlib-cweb-loading.lc-ca618eb7785b83e9cfb87f1d1683e7cd-lc.min.js\">\n",
      "  </script>\n",
      "  <c4d-lightbox-video-player-container>\n",
      "  </c4d-lightbox-video-player-container>\n",
      "  <script src=\"/etc.clientlibs/adobe-cms/clientlibs/clientlib-idlBundle.lc-f720c930f09453060e1c386a0ad5a4d8-lc.min.js\">\n",
      "  </script>\n",
      "  <script src=\"/etc.clientlibs/adobe-cms/clientlibs/clientlib-base.lc-18f193433bf96d7320eee136848e463b-lc.min.js\">\n",
      "  </script>\n",
      "  <script src=\"/etc.clientlibs/adobe-cms/clientlibs/clientlib-idlStyles.lc-871c0e6fc78e4f577cb3da7d1bc62c50-lc.min.js\">\n",
      "  </script>\n",
      "  <script src=\"/etc.clientlibs/adobe-cms/components/poc/ibm-image-dm/clientlibs/site.lc-96f41d35e09f648917c6d3f54d19b8c1-lc.min.js\">\n",
      "  </script>\n",
      "  <script async=\"\" defer=\"\" src=\"https://www.ibm.com/common/digitaladvisor/cm-app/latest/cm-app.min.js\">\n",
      "  </script>\n",
      "  <script defer=\"\" src=\"/etc.clientlibs/adobe-cms/clientlibs/clientlib-cweb-code-snippet.lc-d1f19e3766d5ef4bb40f94c6a51b5bbf-lc.min.js\">\n",
      "  </script>\n",
      "  <script defer=\"\" src=\"/etc.clientlibs/adobe-cms/clientlibs/clientlib-pdfviewer.lc-e4412705ab74ab8b0e2e21371e0762c9-lc.min.js\">\n",
      "  </script>\n",
      "  <!-- Added for Adobe analytics implementation ADCMS-5834\n",
      "<script type=\"text/javascript\">\n",
      "\n",
      "    adobeDataLayer.push({\n",
      "        \"event\": \"linkClick\",\n",
      "        \"web\": {\n",
      "            \"webPageDetails\": {\n",
      "                \"URL\": document.URL,\n",
      "                \"name\": \"home\"\n",
      "            },\n",
      "            \"webInteraction\": {\n",
      "                \"linkClick\":\"event\",\n",
      "                \"value\":\"1\",\n",
      "                \"type\": \"other\",\n",
      "                \"URL\": document.URL,\n",
      "                \"name\": \"linkClick: \" +  document.URL\n",
      "            }\n",
      "        },\n",
      "    })\n",
      "</script>  !-->\n",
      "  <!-- Added for Adobe analytics implementation ADCMS-5834 & ADCMS-6152 !-->\n",
      "  <script type=\"text/javascript\">\n",
      "   document.addEventListener(\"DOMContentLoaded\", function() {\n",
      "        var templatePath = \"\\/conf\\/adobe\\u002Dcms\\u002Deditable\\/settings\\/wcm\\/templates\\/full\\u002Dwidth\\u002Dlayout\";\n",
      "        var templateName = templatePath.split('/').pop();\n",
      "        const currentUrl = document.URL;\n",
      "        const [baseUrl, queryString] = currentUrl.split('?');\n",
      "        const urlWithoutProtocolAndDomain = baseUrl.replace(/^https?:\\/\\/[^\\/]+\\//, '');\n",
      "        const segments = urlWithoutProtocolAndDomain.split('/').filter(segment => segment);\n",
      "        const localePattern = /^[a-z]{2}-[a-z]{2}$/;\n",
      "        const cleanedSegments = segments.filter(segment => !localePattern.test(segment));\n",
      "        const firstSegment = cleanedSegments[0] || \"\";\n",
      "        const secondSegment = cleanedSegments[1] || \"\";\n",
      "        const thirdSegment = cleanedSegments[2] || \"\";\n",
      "\n",
      "        if (currentUrl.includes(\"/products\")) {\n",
      "            callProductPageLoadEvent();\n",
      "        }\n",
      "\n",
      "        function callProductPageLoadEvent(){\n",
      "            adobeDataLayer.push({\n",
      "                \"event\": \"productPageLoad\",\n",
      "                \"commerce\": {\n",
      "                    \"productViews\": {\n",
      "                        \"value\": 1\n",
      "                     }\n",
      "                },\n",
      "                \"productListItems\": {\n",
      "                    \"name\": secondSegment,\n",
      "                    \"productCategories\": {\n",
      "                        \"categoryName\": thirdSegment\n",
      "                    }\n",
      "                },\n",
      "                \"web\": {\n",
      "                    \"webPageDetails\": {\n",
      "                        \"URL\": document.URL,\n",
      "                        \"name\": \"Homepage\",\n",
      "                        \"siteSection\": firstSegment\n",
      "                    },\n",
      "                    \"webReferrer\": {\n",
      "                        \"URL\": document.referrer\n",
      "                    }\n",
      "                }\n",
      "            });\n",
      "        }\n",
      "\n",
      "        function getCookieByName(name) {\n",
      "            const cookieArr = document.cookie.split(';');\n",
      "            for (let i = 0; i < cookieArr.length; i++) {\n",
      "                const cookie = cookieArr[i].trim();\n",
      "                if (cookie.startsWith(name + \"=\")) {\n",
      "                    return cookie.substring(name.length + 1);\n",
      "                }\n",
      "            }\n",
      "            return null;\n",
      "        }\n",
      "        function cleanUrl(url) {\n",
      "            let modifiedUrl = url;\n",
      "            if (modifiedUrl.startsWith(\"www\")) {\n",
      "                modifiedUrl = modifiedUrl.replace(/^www\\.?/, \"\");\n",
      "            }\n",
      "            return modifiedUrl;\n",
      "        }\n",
      "\n",
      "        const cisSessionId = getCookieByName(\"CISSESSIONIDP07A\");\n",
      "        let loginStatus = cisSessionId ? \"logged in\" : \"logged out\";\n",
      "\n",
      "        adobeDataLayer.push({\n",
      "            \"event\": \"pageLoad\",\n",
      "            \"_ibm\": {\n",
      "                \"page\": {\n",
      "                    \"siteSection2\": secondSegment,\n",
      "                    \"siteSection3\": thirdSegment,\n",
      "                    \"pageType\": templateName,\n",
      "                    \"domain\": cleanUrl(window.location.host),\n",
      "                    \"siteLanguage\": \"en\",\n",
      "                    \"pageName\": cleanUrl(window.location.host) + \" | \" + templateName + \" | Homepage\",\n",
      "                    \"siteCountry\": \"us\"\n",
      "                },\n",
      "                \"user\": {\n",
      "                    \"userAgent\": navigator.userAgent,\n",
      "                    \"loginStatus\": loginStatus\n",
      "                }\n",
      "            },\n",
      "            \"web\": {\n",
      "                \"webPageDetails\": {\n",
      "                    \"pageViews\": { \"value\": 1 },\n",
      "                    \"URL\": document.URL,\n",
      "                    \"name\": \"Homepage\",\n",
      "                    \"siteSection\": firstSegment\n",
      "                },\n",
      "                \"webReferrer\": {\n",
      "                    \"URL\": document.referrer\n",
      "                }\n",
      "            }\n",
      "        });\n",
      "\n",
      "        document.addEventListener('click', function(event) {\n",
      "            if (event.target.closest('.WACLauncher__ButtonContainer')) {\n",
      "                handleClick(event);\n",
      "            }\n",
      "        });\n",
      "\n",
      "        function handleClick(event) {\n",
      "            adobeDataLayer.push({\n",
      "                \"event\": \"contactLoad\",\n",
      "                \"_ibm\": {\n",
      "                    \"contact\": {\n",
      "                        \"contactBotClick\": { \"value\": 1 },\n",
      "                        \"contactExperienceType\": \"Support or Sales\",\n",
      "                        \"contactLanguage\": \"en\",\n",
      "                        \"contactCountry\": \"us\"\n",
      "                    },\n",
      "                    \"click\": {\n",
      "                        \"linkTileNumber\": 1\n",
      "                    }\n",
      "                },\n",
      "                \"web\": {\n",
      "                    \"webPageDetails\": {\n",
      "                        \"URL\": document.URL,\n",
      "                        \"name\": \"Homepage\"\n",
      "                    },\n",
      "                    \"webInteraction\": {\n",
      "                        \"name\": \"contactLoad\",\n",
      "                        \"URL\": document.URL,\n",
      "                        \"type\": \"other\"\n",
      "                    }\n",
      "                }\n",
      "            });\n",
      "        }\n",
      "\n",
      "        const legalNavItems = document.getElementsByTagName('c4d-legal-nav-item');\n",
      "        for (let item of legalNavItems) {\n",
      "            const hrefValue = item.getAttribute('href');\n",
      "            if (hrefValue && hrefValue.includes('/contact')) {\n",
      "                item.addEventListener('click', function(event) {\n",
      "                     handleClick(event);\n",
      "                });\n",
      "            }\n",
      "        }\n",
      "\n",
      "        const mastheadItems = document.getElementsByTagName('c4d-masthead-contact');\n",
      "        for (let item of mastheadItems) {\n",
      "            if (item.getAttribute('data-ibm-contact') === 'contact-link') {\n",
      "                item.addEventListener('click', function(event) {\n",
      "                    handleClick(event);\n",
      "\n",
      "                });\n",
      "            }\n",
      "        }\n",
      "    });\n",
      "  </script>\n",
      "  <script src=\"/aRL1AGgYw/7GUDW/G-4En/T3G_wsuk/iGD5GLhzb8mkif/C2ABPgcD/eC1IHF/ghMiE\" type=\"text/javascript\">\n",
      "  </script>\n",
      "  <link href=\"/aRL1AGgYw/7GUDW/G-4En/T3G_wsuk/cJD5/JS9ePQcD/GzB6bz/tTFTxY\" rel=\"stylesheet\" type=\"text/css\"/>\n",
      "  <script async=\"\" defer=\"\" src=\"/aRL1AGgYw/7GUDW/G-4En/T3G_wsuk/cJD5/JS9ePQcD/T3ITfV/wSXTUq\">\n",
      "  </script>\n",
      "  <div id=\"sec-overlay\" style=\"display:none;\">\n",
      "   <div id=\"sec-container\">\n",
      "   </div>\n",
      "  </div>\n",
      " </body>\n",
      "</html>\n"
     ]
    }
   ],
   "source": [
    "print(soup.prettify())"
   ]
  },
  {
   "cell_type": "markdown",
   "id": "37ab294a-a581-427f-a483-140669c9365c",
   "metadata": {},
   "source": [
    "Scrape all links\n"
   ]
  },
  {
   "cell_type": "code",
   "execution_count": 60,
   "id": "10508361-be47-4853-8501-5364b92a22de",
   "metadata": {},
   "outputs": [
    {
     "name": "stdout",
     "output_type": "stream",
     "text": [
      "https://www.ibm.com/granite?lnk=dev\n",
      "https://developer.ibm.com/technologies/artificial-intelligence?lnk=dev\n",
      "https://www.ibm.com/products/watsonx-code-assistant?lnk=dev\n",
      "https://www.ibm.com/watsonx/developer/?lnk=dev\n",
      "https://www.ibm.com/thought-leadership/institute-business-value/report/ceo-generative-ai?lnk=bus\n",
      "https://www.ibm.com/think/reports/ai-in-action?lnk=bus\n",
      "https://www.ibm.com/impact/ai-ethics?lnk=bus\n",
      "https://www.ibm.com/account/reg/signup?formid=news-urx-52954&lnk=bus\n",
      "https://www.ibm.com/artificial-intelligence?lnk=ProdC\n",
      "https://www.ibm.com/hybrid-cloud?lnk=ProdC\n",
      "https://www.ibm.com/consulting?lnk=ProdC\n"
     ]
    }
   ],
   "source": [
    "for link in soup.find_all('a',href=True):  # in html anchor/link is represented by the tag <a>\n",
    "\n",
    "    print(link.get('href'))\n"
   ]
  },
  {
   "cell_type": "markdown",
   "id": "0fb6a580-9550-46de-8538-f29cdd8d454b",
   "metadata": {},
   "source": [
    "### Scrape all images Tags\n"
   ]
  },
  {
   "cell_type": "code",
   "execution_count": 61,
   "id": "26b41955-58d5-4440-abe7-390ce40eac8a",
   "metadata": {},
   "outputs": [],
   "source": [
    "for link in soup.find_all('img'):# in html image is represented by the tag <img>\n",
    "    print(link)\n",
    "    print(link.get('src'))"
   ]
  },
  {
   "cell_type": "markdown",
   "id": "680fe490-51d8-41e2-9528-c603df60f2e0",
   "metadata": {},
   "source": [
    "### Scrape data from HTML tables\n"
   ]
  },
  {
   "cell_type": "code",
   "execution_count": 64,
   "id": "f97fde7a-b2e7-4eb1-9652-c13c7e225362",
   "metadata": {},
   "outputs": [],
   "source": [
    "#The below url contains an html table with data about colors and color codes.\n",
    "url = \"https://cf-courses-data.s3.us.cloud-object-storage.appdomain.cloud/IBM-DA0321EN-SkillsNetwork/labs/datasets/HTMLColorCodes.html\""
   ]
  },
  {
   "cell_type": "markdown",
   "id": "b3a5a6ae-3c50-4b9b-b548-33bc7ea38c51",
   "metadata": {},
   "source": [
    "Before proceeding to scrape a web site, you need to examine the contents and the way data is organized on the website. Open the above url in your browser and check how many rows and columns there are in the color table.\n"
   ]
  },
  {
   "cell_type": "code",
   "execution_count": 65,
   "id": "8ce68de6-afda-4b0d-ba77-edf6e39f32c1",
   "metadata": {},
   "outputs": [],
   "source": [
    "# get the contents of the webpage in text format and store in a variable called data\n",
    "data  = requests.get(url).text"
   ]
  },
  {
   "cell_type": "code",
   "execution_count": 66,
   "id": "e5870454-bab4-4a8c-ba42-7dcb6cff75c4",
   "metadata": {},
   "outputs": [],
   "source": [
    "soup = BeautifulSoup(data,\"html.parser\")"
   ]
  },
  {
   "cell_type": "code",
   "execution_count": 67,
   "id": "44d1446d-da29-4308-b017-0a52f0598a93",
   "metadata": {},
   "outputs": [],
   "source": [
    "#find a html table in the web page\n",
    "table = soup.find('table') # in html table is represented by the tag <table>"
   ]
  },
  {
   "cell_type": "code",
   "execution_count": 70,
   "metadata": {},
   "outputs": [
    {
     "name": "stdout",
     "output_type": "stream",
     "text": [
      "<table border=\"1\" class=\"main-table\">\n",
      "<tr>\n",
      "<td>Number </td>\n",
      "<td>Color</td>\n",
      "<td>Color Name</td>\n",
      "<td>Hex Code<br/>#RRGGBB</td>\n",
      "<td>Decimal Code<br/>(R,G,B)</td>\n",
      "</tr>\n",
      "<tr>\n",
      "<td>1</td>\n",
      "<td style=\"background:lightsalmon;\"> </td>\n",
      "<td>lightsalmon</td>\n",
      "<td>#FFA07A</td>\n",
      "<td>rgb(255,160,122)</td>\n",
      "</tr>\n",
      "<tr>\n",
      "<td>2</td>\n",
      "<td style=\"background:salmon;\"> </td>\n",
      "<td>salmon</td>\n",
      "<td>#FA8072</td>\n",
      "<td>rgb(250,128,114)</td>\n",
      "</tr>\n",
      "<tr>\n",
      "<td>3</td>\n",
      "<td style=\"background:darksalmon;\"> </td>\n",
      "<td>darksalmon</td>\n",
      "<td>#E9967A</td>\n",
      "<td>rgb(233,150,122)</td>\n",
      "</tr>\n",
      "<tr>\n",
      "<td>4</td>\n",
      "<td style=\"background:lightcoral;\"> </td>\n",
      "<td>lightcoral</td>\n",
      "<td>#F08080</td>\n",
      "<td>rgb(240,128,128)</td>\n",
      "</tr>\n",
      "<tr>\n",
      "<td>5</td>\n",
      "<td style=\"background:coral;\"> </td>\n",
      "<td>coral</td>\n",
      "<td>#FF7F50</td>\n",
      "<td>rgb(255,127,80)</td>\n",
      "</tr>\n",
      "<tr>\n",
      "<td>6</td>\n",
      "<td style=\"background:tomato;\"> </td>\n",
      "<td>tomato</td>\n",
      "<td>#FF6347</td>\n",
      "<td>rgb(255,99,71)</td>\n",
      "</tr>\n",
      "<tr>\n",
      "<td>7</td>\n",
      "<td style=\"background:orangered;\"> </td>\n",
      "<td>orangered</td>\n",
      "<td>#FF4500</td>\n",
      "<td>rgb(255,69,0)</td>\n",
      "</tr>\n",
      "<tr>\n",
      "<td>8</td>\n",
      "<td style=\"background:gold;\"> </td>\n",
      "<td>gold</td>\n",
      "<td>#FFD700</td>\n",
      "<td>rgb(255,215,0)</td>\n",
      "</tr>\n",
      "<tr>\n",
      "<td>9</td>\n",
      "<td style=\"background:orange;\"> </td>\n",
      "<td>orange</td>\n",
      "<td>#FFA500</td>\n",
      "<td>rgb(255,165,0)</td>\n",
      "</tr>\n",
      "<tr>\n",
      "<td>10</td>\n",
      "<td style=\"background:darkorange;\"> </td>\n",
      "<td>darkorange</td>\n",
      "<td>#FF8C00</td>\n",
      "<td>rgb(255,140,0)</td>\n",
      "</tr>\n",
      "<tr>\n",
      "<td>11</td>\n",
      "<td style=\"background:lightyellow;\"> </td>\n",
      "<td>lightyellow</td>\n",
      "<td>#FFFFE0</td>\n",
      "<td>rgb(255,255,224)</td>\n",
      "</tr>\n",
      "<tr>\n",
      "<td>12</td>\n",
      "<td style=\"background:lemonchiffon;\"> </td>\n",
      "<td>lemonchiffon</td>\n",
      "<td>#FFFACD</td>\n",
      "<td>rgb(255,250,205)</td>\n",
      "</tr>\n",
      "<tr>\n",
      "<td>13</td>\n",
      "<td style=\"background:papayawhip;\"> </td>\n",
      "<td>papayawhip</td>\n",
      "<td>#FFEFD5</td>\n",
      "<td>rgb(255,239,213)</td>\n",
      "</tr>\n",
      "<tr>\n",
      "<td>14</td>\n",
      "<td style=\"background:moccasin;\"> </td>\n",
      "<td>moccasin</td>\n",
      "<td>#FFE4B5</td>\n",
      "<td>rgb(255,228,181)</td>\n",
      "</tr>\n",
      "<tr>\n",
      "<td>15</td>\n",
      "<td style=\"background:peachpuff;\"> </td>\n",
      "<td>peachpuff</td>\n",
      "<td>#FFDAB9</td>\n",
      "<td>rgb(255,218,185)</td>\n",
      "</tr>\n",
      "<tr>\n",
      "<td>16</td>\n",
      "<td style=\"background:palegoldenrod;\"> </td>\n",
      "<td>palegoldenrod</td>\n",
      "<td>#EEE8AA</td>\n",
      "<td>rgb(238,232,170)</td>\n",
      "</tr>\n",
      "<tr>\n",
      "<td>17</td>\n",
      "<td style=\"background:khaki;\"> </td>\n",
      "<td>khaki</td>\n",
      "<td>#F0E68C</td>\n",
      "<td>rgb(240,230,140)</td>\n",
      "</tr>\n",
      "<tr>\n",
      "<td>18</td>\n",
      "<td style=\"background:darkkhaki;\"> </td>\n",
      "<td>darkkhaki</td>\n",
      "<td>#BDB76B</td>\n",
      "<td>rgb(189,183,107)</td>\n",
      "</tr>\n",
      "<tr>\n",
      "<td>19</td>\n",
      "<td style=\"background:yellow;\"> </td>\n",
      "<td>yellow</td>\n",
      "<td>#FFFF00</td>\n",
      "<td>rgb(255,255,0)</td>\n",
      "</tr>\n",
      "<tr>\n",
      "<td>20</td>\n",
      "<td style=\"background:lawngreen;\"> </td>\n",
      "<td>lawngreen</td>\n",
      "<td>#7CFC00</td>\n",
      "<td>rgb(124,252,0)</td>\n",
      "</tr>\n",
      "<tr>\n",
      "<td>21</td>\n",
      "<td style=\"background:chartreuse;\"> </td>\n",
      "<td>chartreuse</td>\n",
      "<td>#7FFF00</td>\n",
      "<td>rgb(127,255,0)</td>\n",
      "</tr>\n",
      "<tr>\n",
      "<td>22</td>\n",
      "<td style=\"background:limegreen;\"> </td>\n",
      "<td>limegreen</td>\n",
      "<td>#32CD32</td>\n",
      "<td>rgb(50,205,50)</td>\n",
      "</tr>\n",
      "<tr>\n",
      "<td>23</td>\n",
      "<td style=\"background:lime;\"> </td>\n",
      "<td>lime</td>\n",
      "<td>#00FF00</td>\n",
      "<td>rgb(0.255.0)</td>\n",
      "</tr>\n",
      "<tr>\n",
      "<td>24</td>\n",
      "<td style=\"background:forestgreen;\"> </td>\n",
      "<td>forestgreen</td>\n",
      "<td>#228B22</td>\n",
      "<td>rgb(34,139,34)</td>\n",
      "</tr>\n",
      "<tr>\n",
      "<td>25</td>\n",
      "<td style=\"background:green;\"> </td>\n",
      "<td>green</td>\n",
      "<td>#008000</td>\n",
      "<td>rgb(0,128,0)</td>\n",
      "</tr>\n",
      "<tr>\n",
      "<td>26</td>\n",
      "<td style=\"background:powderblue;\"> </td>\n",
      "<td>powderblue</td>\n",
      "<td>#B0E0E6</td>\n",
      "<td>rgb(176,224,230)</td>\n",
      "</tr>\n",
      "<tr>\n",
      "<td>27</td>\n",
      "<td style=\"background:lightblue;\"> </td>\n",
      "<td>lightblue</td>\n",
      "<td>#ADD8E6</td>\n",
      "<td>rgb(173,216,230)</td>\n",
      "</tr>\n",
      "<tr>\n",
      "<td>28</td>\n",
      "<td style=\"background:lightskyblue;\"> </td>\n",
      "<td>lightskyblue</td>\n",
      "<td>#87CEFA</td>\n",
      "<td>rgb(135,206,250)</td>\n",
      "</tr>\n",
      "<tr>\n",
      "<td>29</td>\n",
      "<td style=\"background:skyblue;\"> </td>\n",
      "<td>skyblue</td>\n",
      "<td>#87CEEB</td>\n",
      "<td>rgb(135,206,235)</td>\n",
      "</tr>\n",
      "<tr>\n",
      "<td>30</td>\n",
      "<td style=\"background:deepskyblue;\"> </td>\n",
      "<td>deepskyblue</td>\n",
      "<td>#00BFFF</td>\n",
      "<td>rgb(0,191,255)</td>\n",
      "</tr>\n",
      "<tr>\n",
      "<td>31</td>\n",
      "<td style=\"background:lightsteelblue;\"> </td>\n",
      "<td>lightsteelblue</td>\n",
      "<td>#B0C4DE</td>\n",
      "<td>rgb(176,196,222)</td>\n",
      "</tr>\n",
      "<tr>\n",
      "<td>32</td>\n",
      "<td style=\"background:dodgerblue;\"> </td>\n",
      "<td>dodgerblue</td>\n",
      "<td>#1E90FF</td>\n",
      "<td>rgb(30,144,255)</td>\n",
      "</tr>\n",
      "</table>\n"
     ]
    }
   ],
   "source": [
    "print(table)"
   ]
  },
  {
   "cell_type": "code",
   "execution_count": 71,
   "id": "480083b6-a5f4-4d1b-b02b-6f77ea4760c7",
   "metadata": {},
   "outputs": [
    {
     "name": "stdout",
     "output_type": "stream",
     "text": [
      "Color Name--->Hex Code#RRGGBB\n",
      "lightsalmon--->#FFA07A\n",
      "salmon--->#FA8072\n",
      "darksalmon--->#E9967A\n",
      "lightcoral--->#F08080\n",
      "coral--->#FF7F50\n",
      "tomato--->#FF6347\n",
      "orangered--->#FF4500\n",
      "gold--->#FFD700\n",
      "orange--->#FFA500\n",
      "darkorange--->#FF8C00\n",
      "lightyellow--->#FFFFE0\n",
      "lemonchiffon--->#FFFACD\n",
      "papayawhip--->#FFEFD5\n",
      "moccasin--->#FFE4B5\n",
      "peachpuff--->#FFDAB9\n",
      "palegoldenrod--->#EEE8AA\n",
      "khaki--->#F0E68C\n",
      "darkkhaki--->#BDB76B\n",
      "yellow--->#FFFF00\n",
      "lawngreen--->#7CFC00\n",
      "chartreuse--->#7FFF00\n",
      "limegreen--->#32CD32\n",
      "lime--->#00FF00\n",
      "forestgreen--->#228B22\n",
      "green--->#008000\n",
      "powderblue--->#B0E0E6\n",
      "lightblue--->#ADD8E6\n",
      "lightskyblue--->#87CEFA\n",
      "skyblue--->#87CEEB\n",
      "deepskyblue--->#00BFFF\n",
      "lightsteelblue--->#B0C4DE\n",
      "dodgerblue--->#1E90FF\n"
     ]
    }
   ],
   "source": [
    "#Get all rows from the table\n",
    "for row in table.find_all('tr'): # in html table row is represented by the tag <tr>\n",
    "    # Get all columns in each row.\n",
    "    cols = row.find_all('td') # in html a column is represented by the tag <td>\n",
    "    color_name = cols[2].string # store the value in column 3 as color_name\n",
    "    color_code = cols[3].text # store the value in column 4 as color_code\n",
    "    print(\"{}--->{}\".format(color_name,color_code))"
   ]
  },
  {
   "cell_type": "markdown",
   "id": "318af9c7-6f36-453e-b912-3e59eab797d7",
   "metadata": {},
   "source": [
    "## Scraping tables from a Web page using Pandas\n"
   ]
  },
  {
   "cell_type": "markdown",
   "id": "ef0e6c22-5264-4c9c-9fd1-5053c52a80c3",
   "metadata": {},
   "source": [
    "Particularly for extracting tabular data from a web page, you may also use the `read_html()` method of the Pandas library. \n"
   ]
  },
  {
   "cell_type": "code",
   "execution_count": 72,
   "id": "27812e7d-97ba-4ac2-816d-85073798c90a",
   "metadata": {},
   "outputs": [],
   "source": [
    "#The below url contains an html table with data about colors and color codes.\n",
    "url = \"https://cf-courses-data.s3.us.cloud-object-storage.appdomain.cloud/IBM-DA0321EN-SkillsNetwork/labs/datasets/HTMLColorCodes.html\""
   ]
  },
  {
   "cell_type": "markdown",
   "id": "67db0df5-de6f-4ccd-8aae-7d440753632b",
   "metadata": {},
   "source": [
    "You may extract all the tables from the given webpage simply by using the following commands.\n"
   ]
  },
  {
   "cell_type": "code",
   "execution_count": 73,
   "id": "4478581c-8245-4e76-9607-72b20b38cbf3",
   "metadata": {},
   "outputs": [
    {
     "data": {
      "text/plain": [
       "[         0      1               2                 3                     4\n",
       " 0   Number  Color      Color Name  Hex Code #RRGGBB  Decimal Code (R,G,B)\n",
       " 1        1    NaN     lightsalmon           #FFA07A      rgb(255,160,122)\n",
       " 2        2    NaN          salmon           #FA8072      rgb(250,128,114)\n",
       " 3        3    NaN      darksalmon           #E9967A      rgb(233,150,122)\n",
       " 4        4    NaN      lightcoral           #F08080      rgb(240,128,128)\n",
       " 5        5    NaN           coral           #FF7F50       rgb(255,127,80)\n",
       " 6        6    NaN          tomato           #FF6347        rgb(255,99,71)\n",
       " 7        7    NaN       orangered           #FF4500         rgb(255,69,0)\n",
       " 8        8    NaN            gold           #FFD700        rgb(255,215,0)\n",
       " 9        9    NaN          orange           #FFA500        rgb(255,165,0)\n",
       " 10      10    NaN      darkorange           #FF8C00        rgb(255,140,0)\n",
       " 11      11    NaN     lightyellow           #FFFFE0      rgb(255,255,224)\n",
       " 12      12    NaN    lemonchiffon           #FFFACD      rgb(255,250,205)\n",
       " 13      13    NaN      papayawhip           #FFEFD5      rgb(255,239,213)\n",
       " 14      14    NaN        moccasin           #FFE4B5      rgb(255,228,181)\n",
       " 15      15    NaN       peachpuff           #FFDAB9      rgb(255,218,185)\n",
       " 16      16    NaN   palegoldenrod           #EEE8AA      rgb(238,232,170)\n",
       " 17      17    NaN           khaki           #F0E68C      rgb(240,230,140)\n",
       " 18      18    NaN       darkkhaki           #BDB76B      rgb(189,183,107)\n",
       " 19      19    NaN          yellow           #FFFF00        rgb(255,255,0)\n",
       " 20      20    NaN       lawngreen           #7CFC00        rgb(124,252,0)\n",
       " 21      21    NaN      chartreuse           #7FFF00        rgb(127,255,0)\n",
       " 22      22    NaN       limegreen           #32CD32        rgb(50,205,50)\n",
       " 23      23    NaN            lime           #00FF00          rgb(0.255.0)\n",
       " 24      24    NaN     forestgreen           #228B22        rgb(34,139,34)\n",
       " 25      25    NaN           green           #008000          rgb(0,128,0)\n",
       " 26      26    NaN      powderblue           #B0E0E6      rgb(176,224,230)\n",
       " 27      27    NaN       lightblue           #ADD8E6      rgb(173,216,230)\n",
       " 28      28    NaN    lightskyblue           #87CEFA      rgb(135,206,250)\n",
       " 29      29    NaN         skyblue           #87CEEB      rgb(135,206,235)\n",
       " 30      30    NaN     deepskyblue           #00BFFF        rgb(0,191,255)\n",
       " 31      31    NaN  lightsteelblue           #B0C4DE      rgb(176,196,222)\n",
       " 32      32    NaN      dodgerblue           #1E90FF       rgb(30,144,255)]"
      ]
     },
     "execution_count": 73,
     "metadata": {},
     "output_type": "execute_result"
    }
   ],
   "source": [
    "import pandas as pd\n",
    "\n",
    "tables = pd.read_html(url)\n",
    "tables"
   ]
  },
  {
   "cell_type": "code",
   "execution_count": 75,
   "metadata": {},
   "outputs": [
    {
     "name": "stdout",
     "output_type": "stream",
     "text": [
      "<class 'list'>\n"
     ]
    }
   ],
   "source": [
    "print(type(tables))"
   ]
  },
  {
   "cell_type": "markdown",
   "id": "ed8eb3af-38d9-47f9-8dea-da02c65f453d",
   "metadata": {},
   "source": [
    "`tables` is now a list of dataframes representing the tables from the web page, in the sequence of their appearance. In the current  URL, there is only a single table, so the same can be accessed as shown below.\n"
   ]
  },
  {
   "cell_type": "code",
   "execution_count": 76,
   "metadata": {},
   "outputs": [
    {
     "name": "stdout",
     "output_type": "stream",
     "text": [
      "<class 'pandas.core.frame.DataFrame'>\n"
     ]
    }
   ],
   "source": [
    "print(type(tables[0]))"
   ]
  },
  {
   "cell_type": "code",
   "execution_count": 74,
   "id": "2e1e6f4d-dc23-4b9f-9012-d78843d6e76a",
   "metadata": {},
   "outputs": [
    {
     "data": {
      "text/html": [
       "<div>\n",
       "<style scoped>\n",
       "    .dataframe tbody tr th:only-of-type {\n",
       "        vertical-align: middle;\n",
       "    }\n",
       "\n",
       "    .dataframe tbody tr th {\n",
       "        vertical-align: top;\n",
       "    }\n",
       "\n",
       "    .dataframe thead th {\n",
       "        text-align: right;\n",
       "    }\n",
       "</style>\n",
       "<table border=\"1\" class=\"dataframe\">\n",
       "  <thead>\n",
       "    <tr style=\"text-align: right;\">\n",
       "      <th></th>\n",
       "      <th>0</th>\n",
       "      <th>1</th>\n",
       "      <th>2</th>\n",
       "      <th>3</th>\n",
       "      <th>4</th>\n",
       "    </tr>\n",
       "  </thead>\n",
       "  <tbody>\n",
       "    <tr>\n",
       "      <th>0</th>\n",
       "      <td>Number</td>\n",
       "      <td>Color</td>\n",
       "      <td>Color Name</td>\n",
       "      <td>Hex Code #RRGGBB</td>\n",
       "      <td>Decimal Code (R,G,B)</td>\n",
       "    </tr>\n",
       "    <tr>\n",
       "      <th>1</th>\n",
       "      <td>1</td>\n",
       "      <td>NaN</td>\n",
       "      <td>lightsalmon</td>\n",
       "      <td>#FFA07A</td>\n",
       "      <td>rgb(255,160,122)</td>\n",
       "    </tr>\n",
       "    <tr>\n",
       "      <th>2</th>\n",
       "      <td>2</td>\n",
       "      <td>NaN</td>\n",
       "      <td>salmon</td>\n",
       "      <td>#FA8072</td>\n",
       "      <td>rgb(250,128,114)</td>\n",
       "    </tr>\n",
       "    <tr>\n",
       "      <th>3</th>\n",
       "      <td>3</td>\n",
       "      <td>NaN</td>\n",
       "      <td>darksalmon</td>\n",
       "      <td>#E9967A</td>\n",
       "      <td>rgb(233,150,122)</td>\n",
       "    </tr>\n",
       "    <tr>\n",
       "      <th>4</th>\n",
       "      <td>4</td>\n",
       "      <td>NaN</td>\n",
       "      <td>lightcoral</td>\n",
       "      <td>#F08080</td>\n",
       "      <td>rgb(240,128,128)</td>\n",
       "    </tr>\n",
       "    <tr>\n",
       "      <th>5</th>\n",
       "      <td>5</td>\n",
       "      <td>NaN</td>\n",
       "      <td>coral</td>\n",
       "      <td>#FF7F50</td>\n",
       "      <td>rgb(255,127,80)</td>\n",
       "    </tr>\n",
       "    <tr>\n",
       "      <th>6</th>\n",
       "      <td>6</td>\n",
       "      <td>NaN</td>\n",
       "      <td>tomato</td>\n",
       "      <td>#FF6347</td>\n",
       "      <td>rgb(255,99,71)</td>\n",
       "    </tr>\n",
       "    <tr>\n",
       "      <th>7</th>\n",
       "      <td>7</td>\n",
       "      <td>NaN</td>\n",
       "      <td>orangered</td>\n",
       "      <td>#FF4500</td>\n",
       "      <td>rgb(255,69,0)</td>\n",
       "    </tr>\n",
       "    <tr>\n",
       "      <th>8</th>\n",
       "      <td>8</td>\n",
       "      <td>NaN</td>\n",
       "      <td>gold</td>\n",
       "      <td>#FFD700</td>\n",
       "      <td>rgb(255,215,0)</td>\n",
       "    </tr>\n",
       "    <tr>\n",
       "      <th>9</th>\n",
       "      <td>9</td>\n",
       "      <td>NaN</td>\n",
       "      <td>orange</td>\n",
       "      <td>#FFA500</td>\n",
       "      <td>rgb(255,165,0)</td>\n",
       "    </tr>\n",
       "    <tr>\n",
       "      <th>10</th>\n",
       "      <td>10</td>\n",
       "      <td>NaN</td>\n",
       "      <td>darkorange</td>\n",
       "      <td>#FF8C00</td>\n",
       "      <td>rgb(255,140,0)</td>\n",
       "    </tr>\n",
       "    <tr>\n",
       "      <th>11</th>\n",
       "      <td>11</td>\n",
       "      <td>NaN</td>\n",
       "      <td>lightyellow</td>\n",
       "      <td>#FFFFE0</td>\n",
       "      <td>rgb(255,255,224)</td>\n",
       "    </tr>\n",
       "    <tr>\n",
       "      <th>12</th>\n",
       "      <td>12</td>\n",
       "      <td>NaN</td>\n",
       "      <td>lemonchiffon</td>\n",
       "      <td>#FFFACD</td>\n",
       "      <td>rgb(255,250,205)</td>\n",
       "    </tr>\n",
       "    <tr>\n",
       "      <th>13</th>\n",
       "      <td>13</td>\n",
       "      <td>NaN</td>\n",
       "      <td>papayawhip</td>\n",
       "      <td>#FFEFD5</td>\n",
       "      <td>rgb(255,239,213)</td>\n",
       "    </tr>\n",
       "    <tr>\n",
       "      <th>14</th>\n",
       "      <td>14</td>\n",
       "      <td>NaN</td>\n",
       "      <td>moccasin</td>\n",
       "      <td>#FFE4B5</td>\n",
       "      <td>rgb(255,228,181)</td>\n",
       "    </tr>\n",
       "    <tr>\n",
       "      <th>15</th>\n",
       "      <td>15</td>\n",
       "      <td>NaN</td>\n",
       "      <td>peachpuff</td>\n",
       "      <td>#FFDAB9</td>\n",
       "      <td>rgb(255,218,185)</td>\n",
       "    </tr>\n",
       "    <tr>\n",
       "      <th>16</th>\n",
       "      <td>16</td>\n",
       "      <td>NaN</td>\n",
       "      <td>palegoldenrod</td>\n",
       "      <td>#EEE8AA</td>\n",
       "      <td>rgb(238,232,170)</td>\n",
       "    </tr>\n",
       "    <tr>\n",
       "      <th>17</th>\n",
       "      <td>17</td>\n",
       "      <td>NaN</td>\n",
       "      <td>khaki</td>\n",
       "      <td>#F0E68C</td>\n",
       "      <td>rgb(240,230,140)</td>\n",
       "    </tr>\n",
       "    <tr>\n",
       "      <th>18</th>\n",
       "      <td>18</td>\n",
       "      <td>NaN</td>\n",
       "      <td>darkkhaki</td>\n",
       "      <td>#BDB76B</td>\n",
       "      <td>rgb(189,183,107)</td>\n",
       "    </tr>\n",
       "    <tr>\n",
       "      <th>19</th>\n",
       "      <td>19</td>\n",
       "      <td>NaN</td>\n",
       "      <td>yellow</td>\n",
       "      <td>#FFFF00</td>\n",
       "      <td>rgb(255,255,0)</td>\n",
       "    </tr>\n",
       "    <tr>\n",
       "      <th>20</th>\n",
       "      <td>20</td>\n",
       "      <td>NaN</td>\n",
       "      <td>lawngreen</td>\n",
       "      <td>#7CFC00</td>\n",
       "      <td>rgb(124,252,0)</td>\n",
       "    </tr>\n",
       "    <tr>\n",
       "      <th>21</th>\n",
       "      <td>21</td>\n",
       "      <td>NaN</td>\n",
       "      <td>chartreuse</td>\n",
       "      <td>#7FFF00</td>\n",
       "      <td>rgb(127,255,0)</td>\n",
       "    </tr>\n",
       "    <tr>\n",
       "      <th>22</th>\n",
       "      <td>22</td>\n",
       "      <td>NaN</td>\n",
       "      <td>limegreen</td>\n",
       "      <td>#32CD32</td>\n",
       "      <td>rgb(50,205,50)</td>\n",
       "    </tr>\n",
       "    <tr>\n",
       "      <th>23</th>\n",
       "      <td>23</td>\n",
       "      <td>NaN</td>\n",
       "      <td>lime</td>\n",
       "      <td>#00FF00</td>\n",
       "      <td>rgb(0.255.0)</td>\n",
       "    </tr>\n",
       "    <tr>\n",
       "      <th>24</th>\n",
       "      <td>24</td>\n",
       "      <td>NaN</td>\n",
       "      <td>forestgreen</td>\n",
       "      <td>#228B22</td>\n",
       "      <td>rgb(34,139,34)</td>\n",
       "    </tr>\n",
       "    <tr>\n",
       "      <th>25</th>\n",
       "      <td>25</td>\n",
       "      <td>NaN</td>\n",
       "      <td>green</td>\n",
       "      <td>#008000</td>\n",
       "      <td>rgb(0,128,0)</td>\n",
       "    </tr>\n",
       "    <tr>\n",
       "      <th>26</th>\n",
       "      <td>26</td>\n",
       "      <td>NaN</td>\n",
       "      <td>powderblue</td>\n",
       "      <td>#B0E0E6</td>\n",
       "      <td>rgb(176,224,230)</td>\n",
       "    </tr>\n",
       "    <tr>\n",
       "      <th>27</th>\n",
       "      <td>27</td>\n",
       "      <td>NaN</td>\n",
       "      <td>lightblue</td>\n",
       "      <td>#ADD8E6</td>\n",
       "      <td>rgb(173,216,230)</td>\n",
       "    </tr>\n",
       "    <tr>\n",
       "      <th>28</th>\n",
       "      <td>28</td>\n",
       "      <td>NaN</td>\n",
       "      <td>lightskyblue</td>\n",
       "      <td>#87CEFA</td>\n",
       "      <td>rgb(135,206,250)</td>\n",
       "    </tr>\n",
       "    <tr>\n",
       "      <th>29</th>\n",
       "      <td>29</td>\n",
       "      <td>NaN</td>\n",
       "      <td>skyblue</td>\n",
       "      <td>#87CEEB</td>\n",
       "      <td>rgb(135,206,235)</td>\n",
       "    </tr>\n",
       "    <tr>\n",
       "      <th>30</th>\n",
       "      <td>30</td>\n",
       "      <td>NaN</td>\n",
       "      <td>deepskyblue</td>\n",
       "      <td>#00BFFF</td>\n",
       "      <td>rgb(0,191,255)</td>\n",
       "    </tr>\n",
       "    <tr>\n",
       "      <th>31</th>\n",
       "      <td>31</td>\n",
       "      <td>NaN</td>\n",
       "      <td>lightsteelblue</td>\n",
       "      <td>#B0C4DE</td>\n",
       "      <td>rgb(176,196,222)</td>\n",
       "    </tr>\n",
       "    <tr>\n",
       "      <th>32</th>\n",
       "      <td>32</td>\n",
       "      <td>NaN</td>\n",
       "      <td>dodgerblue</td>\n",
       "      <td>#1E90FF</td>\n",
       "      <td>rgb(30,144,255)</td>\n",
       "    </tr>\n",
       "  </tbody>\n",
       "</table>\n",
       "</div>"
      ],
      "text/plain": [
       "         0      1               2                 3                     4\n",
       "0   Number  Color      Color Name  Hex Code #RRGGBB  Decimal Code (R,G,B)\n",
       "1        1    NaN     lightsalmon           #FFA07A      rgb(255,160,122)\n",
       "2        2    NaN          salmon           #FA8072      rgb(250,128,114)\n",
       "3        3    NaN      darksalmon           #E9967A      rgb(233,150,122)\n",
       "4        4    NaN      lightcoral           #F08080      rgb(240,128,128)\n",
       "5        5    NaN           coral           #FF7F50       rgb(255,127,80)\n",
       "6        6    NaN          tomato           #FF6347        rgb(255,99,71)\n",
       "7        7    NaN       orangered           #FF4500         rgb(255,69,0)\n",
       "8        8    NaN            gold           #FFD700        rgb(255,215,0)\n",
       "9        9    NaN          orange           #FFA500        rgb(255,165,0)\n",
       "10      10    NaN      darkorange           #FF8C00        rgb(255,140,0)\n",
       "11      11    NaN     lightyellow           #FFFFE0      rgb(255,255,224)\n",
       "12      12    NaN    lemonchiffon           #FFFACD      rgb(255,250,205)\n",
       "13      13    NaN      papayawhip           #FFEFD5      rgb(255,239,213)\n",
       "14      14    NaN        moccasin           #FFE4B5      rgb(255,228,181)\n",
       "15      15    NaN       peachpuff           #FFDAB9      rgb(255,218,185)\n",
       "16      16    NaN   palegoldenrod           #EEE8AA      rgb(238,232,170)\n",
       "17      17    NaN           khaki           #F0E68C      rgb(240,230,140)\n",
       "18      18    NaN       darkkhaki           #BDB76B      rgb(189,183,107)\n",
       "19      19    NaN          yellow           #FFFF00        rgb(255,255,0)\n",
       "20      20    NaN       lawngreen           #7CFC00        rgb(124,252,0)\n",
       "21      21    NaN      chartreuse           #7FFF00        rgb(127,255,0)\n",
       "22      22    NaN       limegreen           #32CD32        rgb(50,205,50)\n",
       "23      23    NaN            lime           #00FF00          rgb(0.255.0)\n",
       "24      24    NaN     forestgreen           #228B22        rgb(34,139,34)\n",
       "25      25    NaN           green           #008000          rgb(0,128,0)\n",
       "26      26    NaN      powderblue           #B0E0E6      rgb(176,224,230)\n",
       "27      27    NaN       lightblue           #ADD8E6      rgb(173,216,230)\n",
       "28      28    NaN    lightskyblue           #87CEFA      rgb(135,206,250)\n",
       "29      29    NaN         skyblue           #87CEEB      rgb(135,206,235)\n",
       "30      30    NaN     deepskyblue           #00BFFF        rgb(0,191,255)\n",
       "31      31    NaN  lightsteelblue           #B0C4DE      rgb(176,196,222)\n",
       "32      32    NaN      dodgerblue           #1E90FF       rgb(30,144,255)"
      ]
     },
     "execution_count": 74,
     "metadata": {},
     "output_type": "execute_result"
    }
   ],
   "source": [
    "tables[0]"
   ]
  }
 ],
 "metadata": {
  "kernelspec": {
   "display_name": "Python 3",
   "language": "python",
   "name": "python3"
  },
  "language_info": {
   "codemirror_mode": {
    "name": "ipython",
    "version": 3
   },
   "file_extension": ".py",
   "mimetype": "text/x-python",
   "name": "python",
   "nbconvert_exporter": "python",
   "pygments_lexer": "ipython3",
   "version": "3.9.13"
  }
 },
 "nbformat": 4,
 "nbformat_minor": 4
}
